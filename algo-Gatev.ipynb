{
 "cells": [
  {
   "cell_type": "code",
   "execution_count": 1,
   "metadata": {},
   "outputs": [],
   "source": [
    "%load_ext catalyst"
   ]
  },
  {
   "cell_type": "code",
   "execution_count": 2,
   "metadata": {
    "code_folding": []
   },
   "outputs": [],
   "source": [
    "# Setup matplotlib to display graphs inline in this Notebook\n",
    "%matplotlib inline"
   ]
  },
  {
   "cell_type": "code",
   "execution_count": 462,
   "metadata": {
    "code_folding": [
     182,
     204
    ],
    "collapsed": true
   },
   "outputs": [
    {
     "name": "stderr",
     "output_type": "stream",
     "text": [
      "[2019-06-10 16:26:25.072673] INFO: run_algo: Catalyst version 0.5.21\n",
      "[2019-06-10 16:26:25.082094] WARNING: run_algo: Catalyst is currently in ALPHA. It is going through rapid development and it is subject to errors. Please use carefully. We encourage you to report any issue on GitHub: https://github.com/enigmampc/catalyst/issues\n",
      "[2019-06-10 16:26:28.088694] INFO: run_algo: running algo in backtest mode\n",
      "[2019-06-10 16:26:28.159010] INFO: exchange_algorithm: initialized trading algorithm in backtest mode\n"
     ]
    },
    {
     "data": {
      "text/plain": [
       "100.0"
      ]
     },
     "metadata": {},
     "output_type": "display_data"
    },
    {
     "name": "stdout",
     "output_type": "stream",
     "text": [
      "2018-05-01 16:00:00+00:00 16800\n",
      "18900 short TradingPair(32597 [eth_usd]) long TradingPair(271832 [etc_usd])\n",
      "18900 short TradingPair(32597 [eth_usd]) long TradingPair(98871 [btc_usd])\n",
      "18960 stop-loss of short: TradingPair(32597 [eth_usd]), TradingPair(98871 [btc_usd])\n"
     ]
    },
    {
     "data": {
      "text/plain": [
       "99.67522116123781"
      ]
     },
     "metadata": {},
     "output_type": "display_data"
    },
    {
     "name": "stdout",
     "output_type": "stream",
     "text": [
      "2018-05-03 08:00:00+00:00 19200\n",
      "19560 long TradingPair(98871 [btc_usd]) short TradingPair(347956 [ltc_usd])\n",
      "19560 stop-loss of long: TradingPair(98871 [btc_usd]), TradingPair(347956 [ltc_usd])\n",
      "19620 short TradingPair(347956 [ltc_usd]) long TradingPair(587847 [xrp_usd])\n",
      "19860 unban of long: TradingPair(98871 [btc_usd]), TradingPair(347956 [ltc_usd])\n",
      "19980 long TradingPair(98871 [btc_usd]) short TradingPair(347956 [ltc_usd])\n",
      "20220 take profit of long: TradingPair(98871 [btc_usd]), TradingPair(347956 [ltc_usd])\n",
      "20280 short TradingPair(32597 [eth_usd]) long TradingPair(271832 [etc_usd])\n",
      "20640 stop-loss of short: TradingPair(32597 [eth_usd]), TradingPair(271832 [etc_usd])\n",
      "20640 short TradingPair(98871 [btc_usd]) long TradingPair(587847 [xrp_usd])\n",
      "20700 take profit of short: TradingPair(347956 [ltc_usd]), TradingPair(587847 [xrp_usd])\n",
      "20700 long TradingPair(98871 [btc_usd]) short TradingPair(347956 [ltc_usd])\n",
      "20700 stop-loss of long: TradingPair(98871 [btc_usd]), TradingPair(347956 [ltc_usd])\n",
      "20700 short TradingPair(32597 [eth_usd]) long TradingPair(98871 [btc_usd])\n",
      "20700 take profit of short: TradingPair(98871 [btc_usd]), TradingPair(587847 [xrp_usd])\n",
      "21120 unban of long: TradingPair(98871 [btc_usd]), TradingPair(347956 [ltc_usd])\n",
      "21180 long TradingPair(98871 [btc_usd]) short TradingPair(347956 [ltc_usd])\n",
      "21180 stop-loss of long: TradingPair(98871 [btc_usd]), TradingPair(347956 [ltc_usd])\n",
      "21240 short TradingPair(347956 [ltc_usd]) long TradingPair(587847 [xrp_usd])\n",
      "21480 stop-loss of short: TradingPair(347956 [ltc_usd]), TradingPair(587847 [xrp_usd])\n"
     ]
    },
    {
     "data": {
      "text/plain": [
       "101.45389837878304"
      ]
     },
     "metadata": {},
     "output_type": "display_data"
    },
    {
     "name": "stdout",
     "output_type": "stream",
     "text": [
      "2018-05-05 00:00:00+00:00 21600\n",
      "22500 short TradingPair(347956 [ltc_usd]) long TradingPair(587847 [xrp_usd])\n",
      "22500 long TradingPair(98871 [btc_usd]) short TradingPair(347956 [ltc_usd])\n",
      "22500 stop-loss of long: TradingPair(98871 [btc_usd]), TradingPair(347956 [ltc_usd])\n",
      "23100 stop-loss of short: TradingPair(347956 [ltc_usd]), TradingPair(587847 [xrp_usd])\n",
      "23100 long TradingPair(98871 [btc_usd]) short TradingPair(271832 [etc_usd])\n",
      "23100 stop-loss of long: TradingPair(98871 [btc_usd]), TradingPair(271832 [etc_usd])\n",
      "23400 unban of short: TradingPair(347956 [ltc_usd]), TradingPair(587847 [xrp_usd])\n",
      "23400 unban of long: TradingPair(98871 [btc_usd]), TradingPair(347956 [ltc_usd])\n",
      "23460 short TradingPair(347956 [ltc_usd]) long TradingPair(587847 [xrp_usd])\n",
      "23760 long TradingPair(32597 [eth_usd]) short TradingPair(271832 [etc_usd])\n"
     ]
    },
    {
     "data": {
      "text/plain": [
       "101.61420812335591"
      ]
     },
     "metadata": {},
     "output_type": "display_data"
    },
    {
     "name": "stdout",
     "output_type": "stream",
     "text": [
      "2018-05-06 16:00:00+00:00 24000\n",
      "24780 short TradingPair(98871 [btc_usd]) long TradingPair(587847 [xrp_usd])\n"
     ]
    },
    {
     "data": {
      "text/plain": [
       "101.86887887610929"
      ]
     },
     "metadata": {},
     "output_type": "display_data"
    },
    {
     "name": "stdout",
     "output_type": "stream",
     "text": [
      "2018-05-08 08:00:00+00:00 26400\n",
      "27600 short TradingPair(98871 [btc_usd]) long TradingPair(271832 [etc_usd])\n",
      "27660 short TradingPair(98871 [btc_usd]) long TradingPair(587847 [xrp_usd])\n"
     ]
    },
    {
     "data": {
      "text/plain": [
       "102.2645166346041"
      ]
     },
     "metadata": {},
     "output_type": "display_data"
    },
    {
     "name": "stdout",
     "output_type": "stream",
     "text": [
      "2018-05-10 00:00:00+00:00 28800\n",
      "29580 long TradingPair(125865 [neo_usd]) short TradingPair(909928 [xmr_usd])\n",
      "30660 stop-loss of long: TradingPair(125865 [neo_usd]), TradingPair(909928 [xmr_usd])\n",
      "30720 short TradingPair(98871 [btc_usd]) long TradingPair(587847 [xrp_usd])\n",
      "30720 stop-loss of short: TradingPair(98871 [btc_usd]), TradingPair(587847 [xrp_usd])\n",
      "30720 long TradingPair(657702 [trx_usd]) short TradingPair(909928 [xmr_usd])\n",
      "31140 unban of short: TradingPair(98871 [btc_usd]), TradingPair(587847 [xrp_usd])\n"
     ]
    },
    {
     "data": {
      "text/plain": [
       "101.56661700813285"
      ]
     },
     "metadata": {},
     "output_type": "display_data"
    },
    {
     "name": "stdout",
     "output_type": "stream",
     "text": [
      "2018-05-11 16:00:00+00:00 31200\n",
      "32460 short TradingPair(657702 [trx_usd]) long TradingPair(909928 [xmr_usd])\n",
      "32700 take profit of short: TradingPair(657702 [trx_usd]), TradingPair(909928 [xmr_usd])\n"
     ]
    },
    {
     "data": {
      "text/plain": [
       "102.63886515326752"
      ]
     },
     "metadata": {},
     "output_type": "display_data"
    },
    {
     "name": "stdout",
     "output_type": "stream",
     "text": [
      "2018-05-13 08:00:00+00:00 33600\n",
      "34020 short TradingPair(32597 [eth_usd]) long TradingPair(98871 [btc_usd])\n",
      "34080 long TradingPair(125865 [neo_usd]) short TradingPair(587847 [xrp_usd])\n",
      "34140 stop-loss of short: TradingPair(32597 [eth_usd]), TradingPair(98871 [btc_usd])\n",
      "34140 short TradingPair(32597 [eth_usd]) long TradingPair(909928 [xmr_usd])\n",
      "34260 stop-loss of long: TradingPair(125865 [neo_usd]), TradingPair(587847 [xrp_usd])\n",
      "34380 stop-loss of short: TradingPair(32597 [eth_usd]), TradingPair(909928 [xmr_usd])\n",
      "34800 unban of short: TradingPair(32597 [eth_usd]), TradingPair(98871 [btc_usd])\n",
      "34860 short TradingPair(32597 [eth_usd]) long TradingPair(98871 [btc_usd])\n",
      "35220 short TradingPair(587847 [xrp_usd]) long TradingPair(657702 [trx_usd])\n",
      "35460 unban of short: TradingPair(32597 [eth_usd]), TradingPair(909928 [xmr_usd])\n",
      "35640 short TradingPair(32597 [eth_usd]) long TradingPair(909928 [xmr_usd])\n"
     ]
    },
    {
     "data": {
      "text/plain": [
       "102.14907140082155"
      ]
     },
     "metadata": {},
     "output_type": "display_data"
    },
    {
     "name": "stdout",
     "output_type": "stream",
     "text": [
      "2018-05-15 00:00:00+00:00 36000\n",
      "37200 short TradingPair(125865 [neo_usd]) long TradingPair(587847 [xrp_usd])\n",
      "37320 take profit of short: TradingPair(125865 [neo_usd]), TradingPair(587847 [xrp_usd])\n",
      "37380 short TradingPair(98871 [btc_usd]) long TradingPair(909928 [xmr_usd])\n"
     ]
    },
    {
     "data": {
      "text/plain": [
       "102.4536526234032"
      ]
     },
     "metadata": {},
     "output_type": "display_data"
    },
    {
     "name": "stdout",
     "output_type": "stream",
     "text": [
      "2018-05-16 16:00:00+00:00 38400\n"
     ]
    },
    {
     "data": {
      "text/plain": [
       "102.43847284945323"
      ]
     },
     "metadata": {},
     "output_type": "display_data"
    },
    {
     "name": "stdout",
     "output_type": "stream",
     "text": [
      "2018-05-18 08:00:00+00:00 40800\n",
      "41400 short TradingPair(271832 [etc_usd]) long TradingPair(652614 [iot_usd])\n",
      "41400 long TradingPair(125865 [neo_usd]) short TradingPair(271832 [etc_usd])\n",
      "42180 take profit of long: TradingPair(125865 [neo_usd]), TradingPair(271832 [etc_usd])\n",
      "42540 take profit of short: TradingPair(271832 [etc_usd]), TradingPair(652614 [iot_usd])\n"
     ]
    },
    {
     "data": {
      "text/plain": [
       "103.94183786055495"
      ]
     },
     "metadata": {},
     "output_type": "display_data"
    },
    {
     "name": "stdout",
     "output_type": "stream",
     "text": [
      "2018-05-20 00:00:00+00:00 43200\n"
     ]
    },
    {
     "data": {
      "text/plain": [
       "103.94183786055495"
      ]
     },
     "metadata": {},
     "output_type": "display_data"
    },
    {
     "name": "stdout",
     "output_type": "stream",
     "text": [
      "2018-05-21 16:00:00+00:00 45600\n",
      "47340 long TradingPair(32597 [eth_usd]) short TradingPair(587847 [xrp_usd])\n",
      "47820 short TradingPair(98871 [btc_usd]) long TradingPair(271832 [etc_usd])\n"
     ]
    },
    {
     "data": {
      "text/plain": [
       "103.76375828770456"
      ]
     },
     "metadata": {},
     "output_type": "display_data"
    },
    {
     "name": "stdout",
     "output_type": "stream",
     "text": [
      "2018-05-23 08:00:00+00:00 48000\n",
      "48240 long TradingPair(347956 [ltc_usd]) short TradingPair(587847 [xrp_usd])\n",
      "48600 long TradingPair(271832 [etc_usd]) short TradingPair(909928 [xmr_usd])\n",
      "48720 stop-loss of long: TradingPair(347956 [ltc_usd]), TradingPair(587847 [xrp_usd])\n",
      "48840 long TradingPair(347956 [ltc_usd]) short TradingPair(909928 [xmr_usd])\n",
      "49080 stop-loss of long: TradingPair(347956 [ltc_usd]), TradingPair(909928 [xmr_usd])\n",
      "49260 unban of long: TradingPair(347956 [ltc_usd]), TradingPair(909928 [xmr_usd])\n",
      "49500 take profit of long: TradingPair(271832 [etc_usd]), TradingPair(909928 [xmr_usd])\n",
      "49560 long TradingPair(271832 [etc_usd]) short TradingPair(587847 [xrp_usd])\n",
      "49560 short TradingPair(587847 [xrp_usd]) long TradingPair(909928 [xmr_usd])\n"
     ]
    },
    {
     "data": {
      "text/plain": [
       "104.29642167872211"
      ]
     },
     "metadata": {},
     "output_type": "display_data"
    },
    {
     "name": "stdout",
     "output_type": "stream",
     "text": [
      "2018-05-25 00:00:00+00:00 50400\n",
      "50820 short TradingPair(347956 [ltc_usd]) long TradingPair(587847 [xrp_usd])\n",
      "50820 short TradingPair(32597 [eth_usd]) long TradingPair(271832 [etc_usd])\n",
      "50880 take profit of short: TradingPair(347956 [ltc_usd]), TradingPair(587847 [xrp_usd])\n",
      "51360 short TradingPair(347956 [ltc_usd]) long TradingPair(587847 [xrp_usd])\n",
      "51660 take profit of short: TradingPair(347956 [ltc_usd]), TradingPair(587847 [xrp_usd])\n",
      "52200 take profit of short: TradingPair(32597 [eth_usd]), TradingPair(271832 [etc_usd])\n"
     ]
    },
    {
     "data": {
      "text/plain": [
       "105.71955949412879"
      ]
     },
     "metadata": {},
     "output_type": "display_data"
    },
    {
     "name": "stdout",
     "output_type": "stream",
     "text": [
      "2018-05-26 16:00:00+00:00 52800\n",
      "53580 short TradingPair(32597 [eth_usd]) long TradingPair(652614 [iot_usd])\n",
      "54000 take profit of short: TradingPair(32597 [eth_usd]), TradingPair(652614 [iot_usd])\n",
      "54180 long TradingPair(32597 [eth_usd]) short TradingPair(271832 [etc_usd])\n",
      "55020 stop-loss of long: TradingPair(32597 [eth_usd]), TradingPair(271832 [etc_usd])\n",
      "55080 short TradingPair(98871 [btc_usd]) long TradingPair(347956 [ltc_usd])\n",
      "55080 long TradingPair(32597 [eth_usd]) short TradingPair(652614 [iot_usd])\n",
      "55080 stop-loss of long: TradingPair(32597 [eth_usd]), TradingPair(652614 [iot_usd])\n"
     ]
    },
    {
     "data": {
      "text/plain": [
       "106.06408306428924"
      ]
     },
     "metadata": {},
     "output_type": "display_data"
    },
    {
     "name": "stdout",
     "output_type": "stream",
     "text": [
      "2018-05-28 08:00:00+00:00 55200\n",
      "56100 short TradingPair(271832 [etc_usd]) long TradingPair(652614 [iot_usd])\n",
      "56160 short TradingPair(347956 [ltc_usd]) long TradingPair(587847 [xrp_usd])\n",
      "56160 short TradingPair(98871 [btc_usd]) long TradingPair(587847 [xrp_usd])\n",
      "56340 short TradingPair(32597 [eth_usd]) long TradingPair(652614 [iot_usd])\n",
      "56700 take profit of short: TradingPair(32597 [eth_usd]), TradingPair(652614 [iot_usd])\n",
      "56760 take profit of short: TradingPair(271832 [etc_usd]), TradingPair(652614 [iot_usd])\n",
      "56820 long TradingPair(32597 [eth_usd]) short TradingPair(652614 [iot_usd])\n",
      "56820 take profit of short: TradingPair(98871 [btc_usd]), TradingPair(587847 [xrp_usd])\n",
      "56820 long TradingPair(98871 [btc_usd]) short TradingPair(347956 [ltc_usd])\n",
      "56820 stop-loss of long: TradingPair(98871 [btc_usd]), TradingPair(347956 [ltc_usd])\n",
      "56880 stop-loss of short: TradingPair(347956 [ltc_usd]), TradingPair(587847 [xrp_usd])\n",
      "56880 long TradingPair(271832 [etc_usd]) short TradingPair(652614 [iot_usd])\n",
      "57240 stop-loss of long: TradingPair(32597 [eth_usd]), TradingPair(652614 [iot_usd])\n",
      "57240 stop-loss of long: TradingPair(271832 [etc_usd]), TradingPair(652614 [iot_usd])\n",
      "57300 unban of short: TradingPair(347956 [ltc_usd]), TradingPair(587847 [xrp_usd])\n",
      "57540 short TradingPair(347956 [ltc_usd]) long TradingPair(587847 [xrp_usd])\n",
      "57540 unban of long: TradingPair(98871 [btc_usd]), TradingPair(347956 [ltc_usd])\n"
     ]
    },
    {
     "data": {
      "text/plain": [
       "106.10987246080492"
      ]
     },
     "metadata": {},
     "output_type": "display_data"
    },
    {
     "name": "stdout",
     "output_type": "stream",
     "text": [
      "2018-05-30 00:00:00+00:00 57600\n",
      "59340 long TradingPair(125865 [neo_usd]) short TradingPair(652614 [iot_usd])\n",
      "59580 long TradingPair(347956 [ltc_usd]) short TradingPair(587847 [xrp_usd])\n",
      "59640 stop-loss of long: TradingPair(125865 [neo_usd]), TradingPair(652614 [iot_usd])\n"
     ]
    },
    {
     "data": {
      "text/plain": [
       "105.84887614602556"
      ]
     },
     "metadata": {},
     "output_type": "display_data"
    },
    {
     "name": "stdout",
     "output_type": "stream",
     "text": [
      "2018-05-31 16:00:00+00:00 60000\n",
      "61020 short TradingPair(125865 [neo_usd]) long TradingPair(347956 [ltc_usd])\n",
      "61020 long TradingPair(98871 [btc_usd]) short TradingPair(125865 [neo_usd])\n",
      "61440 take profit of short: TradingPair(125865 [neo_usd]), TradingPair(347956 [ltc_usd])\n",
      "62040 short TradingPair(125865 [neo_usd]) long TradingPair(347956 [ltc_usd])\n",
      "62100 stop-loss of short: TradingPair(125865 [neo_usd]), TradingPair(347956 [ltc_usd])\n",
      "62100 stop-loss of long: TradingPair(98871 [btc_usd]), TradingPair(125865 [neo_usd])\n"
     ]
    },
    {
     "data": {
      "text/plain": [
       "106.15663044893482"
      ]
     },
     "metadata": {},
     "output_type": "display_data"
    },
    {
     "name": "stdout",
     "output_type": "stream",
     "text": [
      "2018-06-02 08:00:00+00:00 62400\n",
      "63900 long TradingPair(125865 [neo_usd]) short TradingPair(587847 [xrp_usd])\n",
      "63900 long TradingPair(98871 [btc_usd]) short TradingPair(271832 [etc_usd])\n",
      "64140 stop-loss of long: TradingPair(98871 [btc_usd]), TradingPair(271832 [etc_usd])\n",
      "64200 stop-loss of long: TradingPair(125865 [neo_usd]), TradingPair(587847 [xrp_usd])\n",
      "64440 unban of long: TradingPair(98871 [btc_usd]), TradingPair(271832 [etc_usd])\n",
      "64560 long TradingPair(98871 [btc_usd]) short TradingPair(271832 [etc_usd])\n",
      "64680 long TradingPair(347956 [ltc_usd]) short TradingPair(587847 [xrp_usd])\n"
     ]
    },
    {
     "data": {
      "text/plain": [
       "104.89142505074791"
      ]
     },
     "metadata": {},
     "output_type": "display_data"
    },
    {
     "name": "stdout",
     "output_type": "stream",
     "text": [
      "2018-06-04 00:00:00+00:00 64800\n",
      "65220 short TradingPair(98871 [btc_usd]) long TradingPair(271832 [etc_usd])\n",
      "65520 long TradingPair(271832 [etc_usd]) short TradingPair(347956 [ltc_usd])\n",
      "65520 stop-loss of short: TradingPair(98871 [btc_usd]), TradingPair(271832 [etc_usd])\n",
      "66420 short TradingPair(98871 [btc_usd]) long TradingPair(347956 [ltc_usd])\n"
     ]
    },
    {
     "data": {
      "text/plain": [
       "104.71800205846876"
      ]
     },
     "metadata": {},
     "output_type": "display_data"
    },
    {
     "name": "stdout",
     "output_type": "stream",
     "text": [
      "2018-06-05 16:00:00+00:00 67200\n"
     ]
    },
    {
     "data": {
      "text/plain": [
       "104.6985833389837"
      ]
     },
     "metadata": {},
     "output_type": "display_data"
    },
    {
     "name": "stdout",
     "output_type": "stream",
     "text": [
      "2018-06-07 08:00:00+00:00 69600\n",
      "71040 short TradingPair(271832 [etc_usd]) long TradingPair(347956 [ltc_usd])\n",
      "71040 stop-loss of short: TradingPair(271832 [etc_usd]), TradingPair(347956 [ltc_usd])\n",
      "71100 short TradingPair(32597 [eth_usd]) long TradingPair(909928 [xmr_usd])\n",
      "71400 stop-loss of short: TradingPair(32597 [eth_usd]), TradingPair(909928 [xmr_usd])\n",
      "71820 short TradingPair(98871 [btc_usd]) long TradingPair(909928 [xmr_usd])\n"
     ]
    },
    {
     "data": {
      "text/plain": [
       "104.51671977794969"
      ]
     },
     "metadata": {},
     "output_type": "display_data"
    },
    {
     "name": "stdout",
     "output_type": "stream",
     "text": [
      "2018-06-09 00:00:00+00:00 72000\n",
      "73560 short TradingPair(32597 [eth_usd]) long TradingPair(909928 [xmr_usd])\n"
     ]
    },
    {
     "data": {
      "text/plain": [
       "104.70911748838316"
      ]
     },
     "metadata": {},
     "output_type": "display_data"
    },
    {
     "name": "stdout",
     "output_type": "stream",
     "text": [
      "2018-06-10 16:00:00+00:00 74400\n",
      "74520 short TradingPair(125865 [neo_usd]) long TradingPair(265391 [zec_usd])\n",
      "74700 short TradingPair(347956 [ltc_usd]) long TradingPair(657702 [trx_usd])\n",
      "74760 long TradingPair(271832 [etc_usd]) short TradingPair(347956 [ltc_usd])\n",
      "74760 stop-loss of long: TradingPair(271832 [etc_usd]), TradingPair(347956 [ltc_usd])\n",
      "74760 long TradingPair(271832 [etc_usd]) short TradingPair(657702 [trx_usd])\n",
      "74760 long TradingPair(32597 [eth_usd]) short TradingPair(98871 [btc_usd])\n",
      "74820 stop-loss of short: TradingPair(347956 [ltc_usd]), TradingPair(657702 [trx_usd])\n",
      "74820 take profit of long: TradingPair(271832 [etc_usd]), TradingPair(657702 [trx_usd])\n",
      "74820 stop-loss of long: TradingPair(32597 [eth_usd]), TradingPair(98871 [btc_usd])\n",
      "74880 unban of long: TradingPair(32597 [eth_usd]), TradingPair(98871 [btc_usd])\n",
      "75840 long TradingPair(32597 [eth_usd]) short TradingPair(98871 [btc_usd])\n",
      "76020 take profit of short: TradingPair(125865 [neo_usd]), TradingPair(265391 [zec_usd])\n",
      "76260 unban of short: TradingPair(347956 [ltc_usd]), TradingPair(657702 [trx_usd])\n",
      "76440 unban of long: TradingPair(271832 [etc_usd]), TradingPair(347956 [ltc_usd])\n",
      "76440 short TradingPair(271832 [etc_usd]) long TradingPair(347956 [ltc_usd])\n",
      "76440 stop-loss of short: TradingPair(271832 [etc_usd]), TradingPair(347956 [ltc_usd])\n",
      "76440 short TradingPair(347956 [ltc_usd]) long TradingPair(657702 [trx_usd])\n",
      "76440 short TradingPair(271832 [etc_usd]) long TradingPair(657702 [trx_usd])\n",
      "76440 stop-loss of short: TradingPair(271832 [etc_usd]), TradingPair(657702 [trx_usd])\n",
      "76440 short TradingPair(125865 [neo_usd]) long TradingPair(265391 [zec_usd])\n",
      "76560 take profit of short: TradingPair(125865 [neo_usd]), TradingPair(265391 [zec_usd])\n",
      "76680 stop-loss of short: TradingPair(347956 [ltc_usd]), TradingPair(657702 [trx_usd])\n"
     ]
    },
    {
     "data": {
      "text/plain": [
       "106.17351055540276"
      ]
     },
     "metadata": {},
     "output_type": "display_data"
    },
    {
     "name": "stdout",
     "output_type": "stream",
     "text": [
      "2018-06-12 08:00:00+00:00 76800\n",
      "77520 long TradingPair(652614 [iot_usd]) short TradingPair(657702 [trx_usd])\n",
      "77700 long TradingPair(32597 [eth_usd]) short TradingPair(587847 [xrp_usd])\n",
      "77880 take profit of long: TradingPair(32597 [eth_usd]), TradingPair(587847 [xrp_usd])\n",
      "77940 take profit of long: TradingPair(652614 [iot_usd]), TradingPair(657702 [trx_usd])\n",
      "78000 short TradingPair(32597 [eth_usd]) long TradingPair(347956 [ltc_usd])\n",
      "78120 take profit of short: TradingPair(32597 [eth_usd]), TradingPair(347956 [ltc_usd])\n",
      "78300 long TradingPair(32597 [eth_usd]) short TradingPair(587847 [xrp_usd])\n",
      "78600 take profit of long: TradingPair(32597 [eth_usd]), TradingPair(587847 [xrp_usd])\n",
      "78660 long TradingPair(347956 [ltc_usd]) short TradingPair(587847 [xrp_usd])\n",
      "78660 short TradingPair(32597 [eth_usd]) long TradingPair(347956 [ltc_usd])\n",
      "78660 stop-loss of short: TradingPair(32597 [eth_usd]), TradingPair(347956 [ltc_usd])\n",
      "78900 long TradingPair(652614 [iot_usd]) short TradingPair(657702 [trx_usd])\n"
     ]
    },
    {
     "data": {
      "text/plain": [
       "108.30692093475719"
      ]
     },
     "metadata": {},
     "output_type": "display_data"
    },
    {
     "name": "stdout",
     "output_type": "stream",
     "text": [
      "2018-06-14 00:00:00+00:00 79200\n",
      "79500 long TradingPair(32597 [eth_usd]) short TradingPair(587847 [xrp_usd])\n",
      "79560 short TradingPair(652614 [iot_usd]) long TradingPair(657702 [trx_usd])\n",
      "79680 long TradingPair(32597 [eth_usd]) short TradingPair(347956 [ltc_usd])\n",
      "79800 take profit of short: TradingPair(652614 [iot_usd]), TradingPair(657702 [trx_usd])\n",
      "79920 long TradingPair(125865 [neo_usd]) short TradingPair(909928 [xmr_usd])\n",
      "79980 stop-loss of long: TradingPair(32597 [eth_usd]), TradingPair(347956 [ltc_usd])\n",
      "79980 long TradingPair(652614 [iot_usd]) short TradingPair(657702 [trx_usd])\n",
      "80220 take profit of long: TradingPair(32597 [eth_usd]), TradingPair(587847 [xrp_usd])\n",
      "80220 unban of long: TradingPair(32597 [eth_usd]), TradingPair(347956 [ltc_usd])\n",
      "80220 short TradingPair(32597 [eth_usd]) long TradingPair(347956 [ltc_usd])\n",
      "80280 short TradingPair(32597 [eth_usd]) long TradingPair(587847 [xrp_usd])\n",
      "80280 stop-loss of short: TradingPair(32597 [eth_usd]), TradingPair(587847 [xrp_usd])\n",
      "80280 short TradingPair(347956 [ltc_usd]) long TradingPair(587847 [xrp_usd])\n",
      "80280 take profit of long: TradingPair(125865 [neo_usd]), TradingPair(909928 [xmr_usd])\n",
      "80460 take profit of short: TradingPair(32597 [eth_usd]), TradingPair(347956 [ltc_usd])\n",
      "80640 short TradingPair(32597 [eth_usd]) long TradingPair(347956 [ltc_usd])\n",
      "80640 stop-loss of long: TradingPair(652614 [iot_usd]), TradingPair(657702 [trx_usd])\n",
      "80700 stop-loss of short: TradingPair(32597 [eth_usd]), TradingPair(347956 [ltc_usd])\n",
      "80880 unban of short: TradingPair(32597 [eth_usd]), TradingPair(347956 [ltc_usd])\n",
      "80940 long TradingPair(125865 [neo_usd]) short TradingPair(909928 [xmr_usd])\n",
      "81060 take profit of long: TradingPair(125865 [neo_usd]), TradingPair(909928 [xmr_usd])\n",
      "81120 short TradingPair(32597 [eth_usd]) long TradingPair(347956 [ltc_usd])\n",
      "81120 stop-loss of short: TradingPair(32597 [eth_usd]), TradingPair(347956 [ltc_usd])\n",
      "81120 take profit of short: TradingPair(347956 [ltc_usd]), TradingPair(587847 [xrp_usd])\n",
      "81180 unban of short: TradingPair(32597 [eth_usd]), TradingPair(587847 [xrp_usd])\n",
      "81180 unban of short: TradingPair(32597 [eth_usd]), TradingPair(347956 [ltc_usd])\n",
      "81180 unban of long: TradingPair(652614 [iot_usd]), TradingPair(657702 [trx_usd])\n",
      "81300 long TradingPair(652614 [iot_usd]) short TradingPair(657702 [trx_usd])\n",
      "81360 stop-loss of long: TradingPair(652614 [iot_usd]), TradingPair(657702 [trx_usd])\n"
     ]
    },
    {
     "data": {
      "text/plain": [
       "111.09433964763002"
      ]
     },
     "metadata": {},
     "output_type": "display_data"
    },
    {
     "name": "stdout",
     "output_type": "stream",
     "text": [
      "2018-06-15 16:00:00+00:00 81600\n",
      "82440 short TradingPair(32597 [eth_usd]) long TradingPair(347956 [ltc_usd])\n",
      "82440 short TradingPair(32597 [eth_usd]) long TradingPair(587847 [xrp_usd])\n",
      "83460 take profit of short: TradingPair(32597 [eth_usd]), TradingPair(347956 [ltc_usd])\n"
     ]
    },
    {
     "data": {
      "text/plain": [
       "111.69642465984978"
      ]
     },
     "metadata": {},
     "output_type": "display_data"
    },
    {
     "name": "stdout",
     "output_type": "stream",
     "text": [
      "2018-06-17 08:00:00+00:00 84000\n",
      "85740 short TradingPair(32597 [eth_usd]) long TradingPair(347956 [ltc_usd])\n",
      "86100 long TradingPair(333257 [eos_usd]) short TradingPair(657702 [trx_usd])\n"
     ]
    },
    {
     "data": {
      "text/plain": [
       "111.95186874574372"
      ]
     },
     "metadata": {},
     "output_type": "display_data"
    },
    {
     "name": "stdout",
     "output_type": "stream",
     "text": [
      "2018-06-19 00:00:00+00:00 86400\n",
      "87120 short TradingPair(32597 [eth_usd]) long TradingPair(98871 [btc_usd])\n",
      "87360 long TradingPair(347956 [ltc_usd]) short TradingPair(587847 [xrp_usd])\n"
     ]
    },
    {
     "data": {
      "text/plain": [
       "112.18428129760309"
      ]
     },
     "metadata": {},
     "output_type": "display_data"
    },
    {
     "name": "stdout",
     "output_type": "stream",
     "text": [
      "2018-06-20 16:00:00+00:00 88800\n"
     ]
    },
    {
     "data": {
      "text/plain": [
       "112.171897225501"
      ]
     },
     "metadata": {},
     "output_type": "display_data"
    },
    {
     "name": "stdout",
     "output_type": "stream",
     "text": [
      "2018-06-22 08:00:00+00:00 91200\n",
      "91680 long TradingPair(652614 [iot_usd]) short TradingPair(909928 [xmr_usd])\n",
      "92880 stop-loss of long: TradingPair(652614 [iot_usd]), TradingPair(909928 [xmr_usd])\n",
      "92940 long TradingPair(125865 [neo_usd]) short TradingPair(909928 [xmr_usd])\n",
      "93000 stop-loss of long: TradingPair(125865 [neo_usd]), TradingPair(909928 [xmr_usd])\n",
      "93060 long TradingPair(347956 [ltc_usd]) short TradingPair(587847 [xrp_usd])\n",
      "93480 unban of long: TradingPair(652614 [iot_usd]), TradingPair(909928 [xmr_usd])\n",
      "93480 unban of long: TradingPair(125865 [neo_usd]), TradingPair(909928 [xmr_usd])\n",
      "93540 short TradingPair(98871 [btc_usd]) long TradingPair(347956 [ltc_usd])\n"
     ]
    },
    {
     "data": {
      "text/plain": [
       "110.72493234841062"
      ]
     },
     "metadata": {},
     "output_type": "display_data"
    },
    {
     "name": "stdout",
     "output_type": "stream",
     "text": [
      "2018-06-24 00:00:00+00:00 93600\n",
      "93840 long TradingPair(587847 [xrp_usd]) short TradingPair(909928 [xmr_usd])\n",
      "94320 long TradingPair(125865 [neo_usd]) short TradingPair(347956 [ltc_usd])\n",
      "94320 stop-loss of long: TradingPair(125865 [neo_usd]), TradingPair(347956 [ltc_usd])\n",
      "94320 long TradingPair(125865 [neo_usd]) short TradingPair(587847 [xrp_usd])\n",
      "94380 long TradingPair(32597 [eth_usd]) short TradingPair(98871 [btc_usd])\n",
      "94560 stop-loss of long: TradingPair(32597 [eth_usd]), TradingPair(98871 [btc_usd])\n",
      "94620 stop-loss of long: TradingPair(587847 [xrp_usd]), TradingPair(909928 [xmr_usd])\n",
      "95220 stop-loss of long: TradingPair(125865 [neo_usd]), TradingPair(587847 [xrp_usd])\n",
      "95760 unban of long: TradingPair(32597 [eth_usd]), TradingPair(98871 [btc_usd])\n",
      "95820 long TradingPair(32597 [eth_usd]) short TradingPair(98871 [btc_usd])\n",
      "95940 unban of long: TradingPair(125865 [neo_usd]), TradingPair(587847 [xrp_usd])\n"
     ]
    },
    {
     "data": {
      "text/plain": [
       "108.989653614439"
      ]
     },
     "metadata": {},
     "output_type": "display_data"
    },
    {
     "name": "stdout",
     "output_type": "stream",
     "text": [
      "2018-06-25 16:00:00+00:00 96000\n",
      "97920 short TradingPair(98871 [btc_usd]) long TradingPair(587847 [xrp_usd])\n"
     ]
    },
    {
     "data": {
      "text/plain": [
       "109.28224795508656"
      ]
     },
     "metadata": {},
     "output_type": "display_data"
    },
    {
     "name": "stdout",
     "output_type": "stream",
     "text": [
      "2018-06-27 08:00:00+00:00 98400\n",
      "98880 long TradingPair(125865 [neo_usd]) short TradingPair(347956 [ltc_usd])\n",
      "99000 short TradingPair(347956 [ltc_usd]) long TradingPair(652614 [iot_usd])\n",
      "99300 take profit of short: TradingPair(347956 [ltc_usd]), TradingPair(652614 [iot_usd])\n"
     ]
    },
    {
     "data": {
      "text/plain": [
       "110.37247178333484"
      ]
     },
     "metadata": {},
     "output_type": "display_data"
    },
    {
     "name": "stdout",
     "output_type": "stream",
     "text": [
      "2018-06-29 00:00:00+00:00 100800\n",
      "102060 long TradingPair(32597 [eth_usd]) short TradingPair(652614 [iot_usd])\n",
      "102060 stop-loss of long: TradingPair(32597 [eth_usd]), TradingPair(652614 [iot_usd])\n",
      "102120 unban of long: TradingPair(32597 [eth_usd]), TradingPair(652614 [iot_usd])\n",
      "102180 long TradingPair(32597 [eth_usd]) short TradingPair(652614 [iot_usd])\n",
      "102180 long TradingPair(32597 [eth_usd]) short TradingPair(347956 [ltc_usd])\n",
      "102180 stop-loss of long: TradingPair(32597 [eth_usd]), TradingPair(347956 [ltc_usd])\n",
      "102180 short TradingPair(347956 [ltc_usd]) long TradingPair(657702 [trx_usd])\n",
      "102660 short TradingPair(32597 [eth_usd]) long TradingPair(657702 [trx_usd])\n",
      "102660 stop-loss of short: TradingPair(347956 [ltc_usd]), TradingPair(657702 [trx_usd])\n"
     ]
    },
    {
     "data": {
      "text/plain": [
       "110.39682006462252"
      ]
     },
     "metadata": {},
     "output_type": "display_data"
    },
    {
     "name": "stdout",
     "output_type": "stream",
     "text": [
      "2018-06-30 16:00:00+00:00 103200\n",
      "103860 short TradingPair(32597 [eth_usd]) long TradingPair(587847 [xrp_usd])\n",
      "104040 long TradingPair(587847 [xrp_usd]) short TradingPair(652614 [iot_usd])\n",
      "104160 stop-loss of long: TradingPair(587847 [xrp_usd]), TradingPair(652614 [iot_usd])\n",
      "104220 short TradingPair(32597 [eth_usd]) long TradingPair(347956 [ltc_usd])\n",
      "104400 long TradingPair(32597 [eth_usd]) short TradingPair(652614 [iot_usd])\n",
      "104640 short TradingPair(125865 [neo_usd]) long TradingPair(657702 [trx_usd])\n",
      "105060 stop-loss of long: TradingPair(32597 [eth_usd]), TradingPair(652614 [iot_usd])\n",
      "105420 stop-loss of short: TradingPair(125865 [neo_usd]), TradingPair(657702 [trx_usd])\n"
     ]
    },
    {
     "data": {
      "text/plain": [
       "109.43562611560054"
      ]
     },
     "metadata": {},
     "output_type": "display_data"
    },
    {
     "name": "stdout",
     "output_type": "stream",
     "text": [
      "2018-07-02 08:00:00+00:00 105600\n",
      "106020 short TradingPair(333257 [eos_usd]) long TradingPair(347956 [ltc_usd])\n",
      "106020 long TradingPair(32597 [eth_usd]) short TradingPair(333257 [eos_usd])\n",
      "106260 stop-loss of long: TradingPair(32597 [eth_usd]), TradingPair(333257 [eos_usd])\n",
      "106320 stop-loss of short: TradingPair(333257 [eos_usd]), TradingPair(347956 [ltc_usd])\n",
      "106740 long TradingPair(347956 [ltc_usd]) short TradingPair(652614 [iot_usd])\n",
      "106800 long TradingPair(32597 [eth_usd]) short TradingPair(587847 [xrp_usd])\n",
      "106860 stop-loss of long: TradingPair(32597 [eth_usd]), TradingPair(587847 [xrp_usd])\n",
      "106860 unban of short: TradingPair(333257 [eos_usd]), TradingPair(347956 [ltc_usd])\n",
      "106980 short TradingPair(333257 [eos_usd]) long TradingPair(347956 [ltc_usd])\n",
      "107760 take profit of long: TradingPair(347956 [ltc_usd]), TradingPair(652614 [iot_usd])\n",
      "107940 unban of long: TradingPair(32597 [eth_usd]), TradingPair(587847 [xrp_usd])\n"
     ]
    },
    {
     "data": {
      "text/plain": [
       "109.94263146063605"
      ]
     },
     "metadata": {},
     "output_type": "display_data"
    },
    {
     "name": "stdout",
     "output_type": "stream",
     "text": [
      "2018-07-04 00:00:00+00:00 108000\n",
      "108720 long TradingPair(98871 [btc_usd]) short TradingPair(271832 [etc_usd])\n",
      "108780 stop-loss of long: TradingPair(98871 [btc_usd]), TradingPair(271832 [etc_usd])\n",
      "110160 short TradingPair(32597 [eth_usd]) long TradingPair(347956 [ltc_usd])\n"
     ]
    },
    {
     "data": {
      "text/plain": [
       "109.75148989812875"
      ]
     },
     "metadata": {},
     "output_type": "display_data"
    },
    {
     "name": "stdout",
     "output_type": "stream",
     "text": [
      "2018-07-05 16:00:00+00:00 110400\n"
     ]
    },
    {
     "data": {
      "text/plain": [
       "109.74925082780105"
      ]
     },
     "metadata": {},
     "output_type": "display_data"
    },
    {
     "name": "stdout",
     "output_type": "stream",
     "text": [
      "2018-07-07 08:00:00+00:00 112800\n",
      "114720 short TradingPair(32597 [eth_usd]) long TradingPair(98871 [btc_usd])\n"
     ]
    },
    {
     "data": {
      "text/plain": [
       "109.80452827357573"
      ]
     },
     "metadata": {},
     "output_type": "display_data"
    },
    {
     "name": "stdout",
     "output_type": "stream",
     "text": [
      "2018-07-09 00:00:00+00:00 115200\n",
      "116160 long TradingPair(32597 [eth_usd]) short TradingPair(98871 [btc_usd])\n",
      "116340 long TradingPair(347956 [ltc_usd]) short TradingPair(909928 [xmr_usd])\n",
      "116340 long TradingPair(587847 [xrp_usd]) short TradingPair(909928 [xmr_usd])\n",
      "116460 take profit of long: TradingPair(587847 [xrp_usd]), TradingPair(909928 [xmr_usd])\n",
      "116580 take profit of long: TradingPair(347956 [ltc_usd]), TradingPair(909928 [xmr_usd])\n",
      "116640 stop-loss of long: TradingPair(32597 [eth_usd]), TradingPair(98871 [btc_usd])\n",
      "116820 long TradingPair(347956 [ltc_usd]) short TradingPair(587847 [xrp_usd])\n",
      "116880 long TradingPair(347956 [ltc_usd]) short TradingPair(909928 [xmr_usd])\n",
      "117060 take profit of long: TradingPair(347956 [ltc_usd]), TradingPair(909928 [xmr_usd])\n",
      "117060 short TradingPair(587847 [xrp_usd]) long TradingPair(909928 [xmr_usd])\n",
      "117060 stop-loss of short: TradingPair(587847 [xrp_usd]), TradingPair(909928 [xmr_usd])\n",
      "117480 short TradingPair(347956 [ltc_usd]) long TradingPair(909928 [xmr_usd])\n"
     ]
    },
    {
     "data": {
      "text/plain": [
       "112.21700509368164"
      ]
     },
     "metadata": {},
     "output_type": "display_data"
    },
    {
     "name": "stdout",
     "output_type": "stream",
     "text": [
      "2018-07-10 16:00:00+00:00 117600\n",
      "118620 short TradingPair(347956 [ltc_usd]) long TradingPair(587847 [xrp_usd])\n",
      "118800 stop-loss of short: TradingPair(347956 [ltc_usd]), TradingPair(587847 [xrp_usd])\n",
      "118920 long TradingPair(587847 [xrp_usd]) short TradingPair(909928 [xmr_usd])\n",
      "119040 take profit of long: TradingPair(587847 [xrp_usd]), TradingPair(909928 [xmr_usd])\n",
      "119100 short TradingPair(347956 [ltc_usd]) long TradingPair(909928 [xmr_usd])\n",
      "119220 unban of short: TradingPair(347956 [ltc_usd]), TradingPair(587847 [xrp_usd])\n",
      "119520 short TradingPair(347956 [ltc_usd]) long TradingPair(587847 [xrp_usd])\n",
      "119700 take profit of short: TradingPair(347956 [ltc_usd]), TradingPair(909928 [xmr_usd])\n"
     ]
    },
    {
     "data": {
      "text/plain": [
       "113.232393036463"
      ]
     },
     "metadata": {},
     "output_type": "display_data"
    },
    {
     "name": "stdout",
     "output_type": "stream",
     "text": [
      "2018-07-12 08:00:00+00:00 120000\n",
      "121020 short TradingPair(347956 [ltc_usd]) long TradingPair(909928 [xmr_usd])\n",
      "121500 take profit of short: TradingPair(347956 [ltc_usd]), TradingPair(909928 [xmr_usd])\n",
      "121860 short TradingPair(347956 [ltc_usd]) long TradingPair(587847 [xrp_usd])\n"
     ]
    },
    {
     "data": {
      "text/plain": [
       "114.15560135088973"
      ]
     },
     "metadata": {},
     "output_type": "display_data"
    },
    {
     "name": "stdout",
     "output_type": "stream",
     "text": [
      "2018-07-14 00:00:00+00:00 122400\n"
     ]
    },
    {
     "data": {
      "text/plain": [
       "114.11950231986978"
      ]
     },
     "metadata": {},
     "output_type": "display_data"
    },
    {
     "name": "stdout",
     "output_type": "stream",
     "text": [
      "2018-07-15 16:00:00+00:00 124800\n",
      "125880 long TradingPair(271832 [etc_usd]) short TradingPair(652614 [iot_usd])\n",
      "125880 stop-loss of long: TradingPair(271832 [etc_usd]), TradingPair(652614 [iot_usd])\n",
      "125880 short TradingPair(652614 [iot_usd]) long TradingPair(657702 [trx_usd])\n",
      "125880 stop-loss of short: TradingPair(652614 [iot_usd]), TradingPair(657702 [trx_usd])\n",
      "125940 unban of short: TradingPair(652614 [iot_usd]), TradingPair(657702 [trx_usd])\n",
      "126000 short TradingPair(652614 [iot_usd]) long TradingPair(657702 [trx_usd])\n",
      "126060 stop-loss of short: TradingPair(652614 [iot_usd]), TradingPair(657702 [trx_usd])\n",
      "126300 unban of short: TradingPair(652614 [iot_usd]), TradingPair(657702 [trx_usd])\n",
      "126720 long TradingPair(98871 [btc_usd]) short TradingPair(587847 [xrp_usd])\n",
      "126960 short TradingPair(652614 [iot_usd]) long TradingPair(657702 [trx_usd])\n"
     ]
    },
    {
     "data": {
      "text/plain": [
       "114.13125940721885"
      ]
     },
     "metadata": {},
     "output_type": "display_data"
    },
    {
     "name": "stdout",
     "output_type": "stream",
     "text": [
      "2018-07-17 08:00:00+00:00 127200\n",
      "127800 long TradingPair(32597 [eth_usd]) short TradingPair(657702 [trx_usd])\n",
      "127800 short TradingPair(98871 [btc_usd]) long TradingPair(587847 [xrp_usd])\n",
      "127860 stop-loss of long: TradingPair(32597 [eth_usd]), TradingPair(657702 [trx_usd])\n",
      "127860 stop-loss of short: TradingPair(98871 [btc_usd]), TradingPair(587847 [xrp_usd])\n",
      "128340 short TradingPair(347956 [ltc_usd]) long TradingPair(587847 [xrp_usd])\n",
      "128340 stop-loss of short: TradingPair(347956 [ltc_usd]), TradingPair(587847 [xrp_usd])\n",
      "128400 unban of short: TradingPair(347956 [ltc_usd]), TradingPair(587847 [xrp_usd])\n",
      "128460 short TradingPair(347956 [ltc_usd]) long TradingPair(587847 [xrp_usd])\n",
      "129360 short TradingPair(98871 [btc_usd]) long TradingPair(347956 [ltc_usd])\n",
      "129420 stop-loss of short: TradingPair(347956 [ltc_usd]), TradingPair(587847 [xrp_usd])\n",
      "129480 stop-loss of short: TradingPair(98871 [btc_usd]), TradingPair(347956 [ltc_usd])\n"
     ]
    },
    {
     "data": {
      "text/plain": [
       "113.5324147176677"
      ]
     },
     "metadata": {},
     "output_type": "display_data"
    },
    {
     "name": "stdout",
     "output_type": "stream",
     "text": [
      "2018-07-19 00:00:00+00:00 129600\n",
      "130380 short TradingPair(347956 [ltc_usd]) long TradingPair(652614 [iot_usd])\n",
      "130620 short TradingPair(98871 [btc_usd]) long TradingPair(587847 [xrp_usd])\n",
      "130620 stop-loss of short: TradingPair(347956 [ltc_usd]), TradingPair(652614 [iot_usd])\n",
      "131100 stop-loss of short: TradingPair(98871 [btc_usd]), TradingPair(587847 [xrp_usd])\n",
      "131100 short TradingPair(32597 [eth_usd]) long TradingPair(652614 [iot_usd])\n",
      "131220 stop-loss of short: TradingPair(32597 [eth_usd]), TradingPair(652614 [iot_usd])\n",
      "131400 long TradingPair(32597 [eth_usd]) short TradingPair(98871 [btc_usd])\n",
      "131460 short TradingPair(32597 [eth_usd]) long TradingPair(587847 [xrp_usd])\n"
     ]
    },
    {
     "data": {
      "text/plain": [
       "112.70296517264198"
      ]
     },
     "metadata": {},
     "output_type": "display_data"
    },
    {
     "name": "stdout",
     "output_type": "stream",
     "text": [
      "2018-07-20 16:00:00+00:00 132000\n",
      "132240 long TradingPair(587847 [xrp_usd]) short TradingPair(652614 [iot_usd])\n",
      "132420 take profit of long: TradingPair(587847 [xrp_usd]), TradingPair(652614 [iot_usd])\n",
      "133020 short TradingPair(32597 [eth_usd]) long TradingPair(587847 [xrp_usd])\n",
      "133320 long TradingPair(587847 [xrp_usd]) short TradingPair(652614 [iot_usd])\n"
     ]
    },
    {
     "data": {
      "text/plain": [
       "114.12716033864511"
      ]
     },
     "metadata": {},
     "output_type": "display_data"
    },
    {
     "name": "stdout",
     "output_type": "stream",
     "text": [
      "2018-07-22 08:00:00+00:00 134400\n"
     ]
    },
    {
     "data": {
      "text/plain": [
       "114.11810240771398"
      ]
     },
     "metadata": {},
     "output_type": "display_data"
    },
    {
     "name": "stdout",
     "output_type": "stream",
     "text": [
      "2018-07-24 00:00:00+00:00 136800\n",
      "137220 long TradingPair(333257 [eos_usd]) short TradingPair(347956 [ltc_usd])\n",
      "137340 stop-loss of long: TradingPair(333257 [eos_usd]), TradingPair(347956 [ltc_usd])\n",
      "137580 unban of long: TradingPair(333257 [eos_usd]), TradingPair(347956 [ltc_usd])\n",
      "137640 long TradingPair(587847 [xrp_usd]) short TradingPair(657702 [trx_usd])\n",
      "137640 stop-loss of long: TradingPair(587847 [xrp_usd]), TradingPair(657702 [trx_usd])\n",
      "137700 short TradingPair(125865 [neo_usd]) long TradingPair(587847 [xrp_usd])\n",
      "137820 long TradingPair(125865 [neo_usd]) short TradingPair(657702 [trx_usd])\n",
      "138120 stop-loss of long: TradingPair(125865 [neo_usd]), TradingPair(657702 [trx_usd])\n",
      "138240 short TradingPair(32597 [eth_usd]) long TradingPair(587847 [xrp_usd])\n",
      "138540 unban of long: TradingPair(125865 [neo_usd]), TradingPair(657702 [trx_usd])\n",
      "138600 stop-loss of short: TradingPair(125865 [neo_usd]), TradingPair(587847 [xrp_usd])\n",
      "138600 short TradingPair(333257 [eos_usd]) long TradingPair(347956 [ltc_usd])\n",
      "138900 unban of short: TradingPair(125865 [neo_usd]), TradingPair(587847 [xrp_usd])\n",
      "139080 take profit of short: TradingPair(333257 [eos_usd]), TradingPair(347956 [ltc_usd])\n"
     ]
    },
    {
     "data": {
      "text/plain": [
       "114.1852523882558"
      ]
     },
     "metadata": {},
     "output_type": "display_data"
    },
    {
     "name": "stdout",
     "output_type": "stream",
     "text": [
      "2018-07-25 16:00:00+00:00 139200\n",
      "140160 long TradingPair(125865 [neo_usd]) short TradingPair(652614 [iot_usd])\n",
      "140220 short TradingPair(271832 [etc_usd]) long TradingPair(587847 [xrp_usd])\n",
      "140520 stop-loss of long: TradingPair(125865 [neo_usd]), TradingPair(652614 [iot_usd])\n",
      "140640 stop-loss of short: TradingPair(271832 [etc_usd]), TradingPair(587847 [xrp_usd])\n",
      "141060 unban of short: TradingPair(271832 [etc_usd]), TradingPair(587847 [xrp_usd])\n",
      "141120 short TradingPair(271832 [etc_usd]) long TradingPair(587847 [xrp_usd])\n"
     ]
    },
    {
     "data": {
      "text/plain": [
       "113.89834503945963"
      ]
     },
     "metadata": {},
     "output_type": "display_data"
    },
    {
     "name": "stdout",
     "output_type": "stream",
     "text": [
      "2018-07-27 08:00:00+00:00 141600\n"
     ]
    },
    {
     "data": {
      "text/plain": [
       "113.89518902293574"
      ]
     },
     "metadata": {},
     "output_type": "display_data"
    },
    {
     "name": "stdout",
     "output_type": "stream",
     "text": [
      "2018-07-29 00:00:00+00:00 144000\n",
      "144420 long TradingPair(333257 [eos_usd]) short TradingPair(657702 [trx_usd])\n",
      "144780 stop-loss of long: TradingPair(333257 [eos_usd]), TradingPair(657702 [trx_usd])\n",
      "145920 unban of long: TradingPair(333257 [eos_usd]), TradingPair(657702 [trx_usd])\n",
      "145920 short TradingPair(271832 [etc_usd]) long TradingPair(652614 [iot_usd])\n",
      "146100 long TradingPair(333257 [eos_usd]) short TradingPair(657702 [trx_usd])\n",
      "146160 stop-loss of short: TradingPair(271832 [etc_usd]), TradingPair(652614 [iot_usd])\n"
     ]
    },
    {
     "data": {
      "text/plain": [
       "113.10723491204351"
      ]
     },
     "metadata": {},
     "output_type": "display_data"
    },
    {
     "name": "stdout",
     "output_type": "stream",
     "text": [
      "2018-07-30 16:00:00+00:00 146400\n",
      "147120 long TradingPair(333257 [eos_usd]) short TradingPair(347956 [ltc_usd])\n",
      "147480 stop-loss of long: TradingPair(333257 [eos_usd]), TradingPair(347956 [ltc_usd])\n",
      "147540 long TradingPair(32597 [eth_usd]) short TradingPair(587847 [xrp_usd])\n",
      "147540 long TradingPair(125865 [neo_usd]) short TradingPair(587847 [xrp_usd])\n",
      "147600 unban of long: TradingPair(333257 [eos_usd]), TradingPair(347956 [ltc_usd])\n",
      "147660 stop-loss of long: TradingPair(125865 [neo_usd]), TradingPair(587847 [xrp_usd])\n",
      "147900 stop-loss of long: TradingPair(32597 [eth_usd]), TradingPair(587847 [xrp_usd])\n",
      "148020 long TradingPair(333257 [eos_usd]) short TradingPair(347956 [ltc_usd])\n",
      "148500 long TradingPair(32597 [eth_usd]) short TradingPair(347956 [ltc_usd])\n"
     ]
    },
    {
     "data": {
      "text/plain": [
       "113.10632351114378"
      ]
     },
     "metadata": {},
     "output_type": "display_data"
    },
    {
     "name": "stdout",
     "output_type": "stream",
     "text": [
      "2018-08-01 08:00:00+00:00 148800\n",
      "148860 long TradingPair(32597 [eth_usd]) short TradingPair(587847 [xrp_usd])\n",
      "150480 short TradingPair(32597 [eth_usd]) long TradingPair(125865 [neo_usd])\n",
      "150480 long TradingPair(125865 [neo_usd]) short TradingPair(347956 [ltc_usd])\n"
     ]
    },
    {
     "data": {
      "text/plain": [
       "114.03810059800804"
      ]
     },
     "metadata": {},
     "output_type": "display_data"
    },
    {
     "name": "stdout",
     "output_type": "stream",
     "text": [
      "2018-08-03 00:00:00+00:00 151200\n",
      "151380 long TradingPair(125865 [neo_usd]) short TradingPair(333257 [eos_usd])\n",
      "151500 stop-loss of long: TradingPair(125865 [neo_usd]), TradingPair(333257 [eos_usd])\n",
      "151800 short TradingPair(32597 [eth_usd]) long TradingPair(265391 [zec_usd])\n",
      "151980 short TradingPair(32597 [eth_usd]) long TradingPair(657702 [trx_usd])\n",
      "152280 unban of long: TradingPair(125865 [neo_usd]), TradingPair(333257 [eos_usd])\n",
      "152340 take profit of short: TradingPair(32597 [eth_usd]), TradingPair(265391 [zec_usd])\n",
      "152340 long TradingPair(125865 [neo_usd]) short TradingPair(333257 [eos_usd])\n",
      "152400 short TradingPair(32597 [eth_usd]) long TradingPair(265391 [zec_usd])\n",
      "152400 stop-loss of long: TradingPair(125865 [neo_usd]), TradingPair(333257 [eos_usd])\n",
      "152700 take profit of short: TradingPair(32597 [eth_usd]), TradingPair(265391 [zec_usd])\n",
      "152700 unban of long: TradingPair(125865 [neo_usd]), TradingPair(333257 [eos_usd])\n",
      "152760 long TradingPair(125865 [neo_usd]) short TradingPair(333257 [eos_usd])\n",
      "153540 short TradingPair(32597 [eth_usd]) long TradingPair(265391 [zec_usd])\n",
      "153540 stop-loss of long: TradingPair(125865 [neo_usd]), TradingPair(333257 [eos_usd])\n"
     ]
    },
    {
     "data": {
      "text/plain": [
       "114.28820341297464"
      ]
     },
     "metadata": {},
     "output_type": "display_data"
    },
    {
     "name": "stdout",
     "output_type": "stream",
     "text": [
      "2018-08-04 16:00:00+00:00 153600\n",
      "153720 short TradingPair(32597 [eth_usd]) long TradingPair(347956 [ltc_usd])\n",
      "154200 long TradingPair(347956 [ltc_usd]) short TradingPair(652614 [iot_usd])\n",
      "154200 stop-loss of long: TradingPair(347956 [ltc_usd]), TradingPair(652614 [iot_usd])\n",
      "154200 long TradingPair(32597 [eth_usd]) short TradingPair(652614 [iot_usd])\n",
      "154200 stop-loss of long: TradingPair(32597 [eth_usd]), TradingPair(652614 [iot_usd])\n",
      "154260 unban of long: TradingPair(32597 [eth_usd]), TradingPair(652614 [iot_usd])\n",
      "154380 unban of long: TradingPair(347956 [ltc_usd]), TradingPair(652614 [iot_usd])\n",
      "154440 long TradingPair(347956 [ltc_usd]) short TradingPair(652614 [iot_usd])\n",
      "154440 stop-loss of long: TradingPair(347956 [ltc_usd]), TradingPair(652614 [iot_usd])\n",
      "154440 long TradingPair(32597 [eth_usd]) short TradingPair(652614 [iot_usd])\n",
      "154440 stop-loss of long: TradingPair(32597 [eth_usd]), TradingPair(652614 [iot_usd])\n",
      "155220 take profit of short: TradingPair(32597 [eth_usd]), TradingPair(347956 [ltc_usd])\n",
      "155280 short TradingPair(125865 [neo_usd]) long TradingPair(333257 [eos_usd])\n"
     ]
    },
    {
     "data": {
      "text/plain": [
       "114.92907861759707"
      ]
     },
     "metadata": {},
     "output_type": "display_data"
    },
    {
     "name": "stdout",
     "output_type": "stream",
     "text": [
      "2018-08-06 08:00:00+00:00 156000\n",
      "156240 long TradingPair(125865 [neo_usd]) short TradingPair(265391 [zec_usd])\n",
      "156540 short TradingPair(32597 [eth_usd]) long TradingPair(652614 [iot_usd])\n",
      "156840 stop-loss of short: TradingPair(32597 [eth_usd]), TradingPair(652614 [iot_usd])\n",
      "157200 stop-loss of long: TradingPair(125865 [neo_usd]), TradingPair(265391 [zec_usd])\n",
      "158220 short TradingPair(98871 [btc_usd]) long TradingPair(347956 [ltc_usd])\n",
      "158220 stop-loss of short: TradingPair(98871 [btc_usd]), TradingPair(347956 [ltc_usd])\n",
      "158220 long TradingPair(32597 [eth_usd]) short TradingPair(98871 [btc_usd])\n"
     ]
    },
    {
     "data": {
      "text/plain": [
       "112.93856200771052"
      ]
     },
     "metadata": {},
     "output_type": "display_data"
    },
    {
     "name": "stdout",
     "output_type": "stream",
     "text": [
      "2018-08-08 00:00:00+00:00 158400\n",
      "158640 short TradingPair(32597 [eth_usd]) long TradingPair(333257 [eos_usd])\n",
      "158640 stop-loss of short: TradingPair(32597 [eth_usd]), TradingPair(333257 [eos_usd])\n",
      "158640 long TradingPair(333257 [eos_usd]) short TradingPair(347956 [ltc_usd])\n",
      "158700 stop-loss of long: TradingPair(333257 [eos_usd]), TradingPair(347956 [ltc_usd])\n",
      "159480 short TradingPair(32597 [eth_usd]) long TradingPair(347956 [ltc_usd])\n",
      "160200 take profit of short: TradingPair(32597 [eth_usd]), TradingPair(347956 [ltc_usd])\n",
      "160380 short TradingPair(32597 [eth_usd]) long TradingPair(347956 [ltc_usd])\n",
      "160380 stop-loss of short: TradingPair(32597 [eth_usd]), TradingPair(347956 [ltc_usd])\n",
      "160740 unban of short: TradingPair(32597 [eth_usd]), TradingPair(347956 [ltc_usd])\n",
      "160740 long TradingPair(125865 [neo_usd]) short TradingPair(657702 [trx_usd])\n"
     ]
    },
    {
     "data": {
      "text/plain": [
       "113.06034038485511"
      ]
     },
     "metadata": {},
     "output_type": "display_data"
    },
    {
     "name": "stdout",
     "output_type": "stream",
     "text": [
      "2018-08-09 16:00:00+00:00 160800\n",
      "161700 long TradingPair(125865 [neo_usd]) short TradingPair(657702 [trx_usd])\n",
      "161940 stop-loss of long: TradingPair(125865 [neo_usd]), TradingPair(657702 [trx_usd])\n",
      "162420 long TradingPair(333257 [eos_usd]) short TradingPair(347956 [ltc_usd])\n",
      "162840 short TradingPair(98871 [btc_usd]) long TradingPair(347956 [ltc_usd])\n",
      "162840 long TradingPair(32597 [eth_usd]) short TradingPair(98871 [btc_usd])\n",
      "162960 stop-loss of long: TradingPair(32597 [eth_usd]), TradingPair(98871 [btc_usd])\n",
      "163080 take profit of long: TradingPair(333257 [eos_usd]), TradingPair(347956 [ltc_usd])\n"
     ]
    },
    {
     "data": {
      "text/plain": [
       "112.94114786294608"
      ]
     },
     "metadata": {},
     "output_type": "display_data"
    },
    {
     "name": "stdout",
     "output_type": "stream",
     "text": [
      "2018-08-11 08:00:00+00:00 163200\n",
      "163740 short TradingPair(347956 [ltc_usd]) long TradingPair(657702 [trx_usd])\n",
      "163740 long TradingPair(333257 [eos_usd]) short TradingPair(347956 [ltc_usd])\n",
      "163800 long TradingPair(657702 [trx_usd]) short TradingPair(909928 [xmr_usd])\n",
      "163860 stop-loss of long: TradingPair(657702 [trx_usd]), TradingPair(909928 [xmr_usd])\n",
      "163920 long TradingPair(347956 [ltc_usd]) short TradingPair(909928 [xmr_usd])\n",
      "164100 take profit of long: TradingPair(347956 [ltc_usd]), TradingPair(909928 [xmr_usd])\n",
      "164160 stop-loss of short: TradingPair(347956 [ltc_usd]), TradingPair(657702 [trx_usd])\n",
      "164280 stop-loss of long: TradingPair(333257 [eos_usd]), TradingPair(347956 [ltc_usd])\n",
      "164520 short TradingPair(347956 [ltc_usd]) long TradingPair(909928 [xmr_usd])\n",
      "165000 take profit of short: TradingPair(347956 [ltc_usd]), TradingPair(909928 [xmr_usd])\n",
      "165120 short TradingPair(347956 [ltc_usd]) long TradingPair(909928 [xmr_usd])\n"
     ]
    },
    {
     "data": {
      "text/plain": [
       "113.27791665890089"
      ]
     },
     "metadata": {},
     "output_type": "display_data"
    },
    {
     "name": "stdout",
     "output_type": "stream",
     "text": [
      "2018-08-13 00:00:00+00:00 165600\n",
      "166200 long TradingPair(347956 [ltc_usd]) short TradingPair(909928 [xmr_usd])\n",
      "166320 long TradingPair(657702 [trx_usd]) short TradingPair(909928 [xmr_usd])\n",
      "166560 long TradingPair(32597 [eth_usd]) short TradingPair(909928 [xmr_usd])\n",
      "166620 stop-loss of long: TradingPair(657702 [trx_usd]), TradingPair(909928 [xmr_usd])\n",
      "166620 stop-loss of long: TradingPair(32597 [eth_usd]), TradingPair(909928 [xmr_usd])\n",
      "166620 long TradingPair(125865 [neo_usd]) short TradingPair(333257 [eos_usd])\n",
      "166920 short TradingPair(32597 [eth_usd]) long TradingPair(657702 [trx_usd])\n",
      "166980 take profit of long: TradingPair(347956 [ltc_usd]), TradingPair(909928 [xmr_usd])\n",
      "167040 stop-loss of long: TradingPair(125865 [neo_usd]), TradingPair(333257 [eos_usd])\n",
      "167220 stop-loss of short: TradingPair(32597 [eth_usd]), TradingPair(657702 [trx_usd])\n",
      "167280 unban of short: TradingPair(32597 [eth_usd]), TradingPair(657702 [trx_usd])\n",
      "167280 unban of long: TradingPair(125865 [neo_usd]), TradingPair(333257 [eos_usd])\n",
      "167340 short TradingPair(32597 [eth_usd]) long TradingPair(657702 [trx_usd])\n",
      "167340 stop-loss of short: TradingPair(32597 [eth_usd]), TradingPair(657702 [trx_usd])\n",
      "167340 long TradingPair(125865 [neo_usd]) short TradingPair(333257 [eos_usd])\n",
      "167460 stop-loss of long: TradingPair(125865 [neo_usd]), TradingPair(333257 [eos_usd])\n",
      "167520 long TradingPair(347956 [ltc_usd]) short TradingPair(909928 [xmr_usd])\n",
      "167520 stop-loss of long: TradingPair(347956 [ltc_usd]), TradingPair(909928 [xmr_usd])\n",
      "167820 unban of long: TradingPair(347956 [ltc_usd]), TradingPair(909928 [xmr_usd])\n"
     ]
    },
    {
     "data": {
      "text/plain": [
       "110.85102115562657"
      ]
     },
     "metadata": {},
     "output_type": "display_data"
    },
    {
     "name": "stdout",
     "output_type": "stream",
     "text": [
      "2018-08-14 16:00:00+00:00 168000\n",
      "168480 short TradingPair(32597 [eth_usd]) long TradingPair(176889 [dsh_usd])\n",
      "168540 take profit of short: TradingPair(32597 [eth_usd]), TradingPair(176889 [dsh_usd])\n",
      "168600 long TradingPair(32597 [eth_usd]) short TradingPair(657702 [trx_usd])\n",
      "169380 short TradingPair(176889 [dsh_usd]) long TradingPair(347956 [ltc_usd])\n",
      "169620 take profit of long: TradingPair(32597 [eth_usd]), TradingPair(657702 [trx_usd])\n",
      "169800 long TradingPair(32597 [eth_usd]) short TradingPair(176889 [dsh_usd])\n",
      "169800 long TradingPair(32597 [eth_usd]) short TradingPair(657702 [trx_usd])\n",
      "169920 stop-loss of short: TradingPair(176889 [dsh_usd]), TradingPair(347956 [ltc_usd])\n",
      "170280 take profit of long: TradingPair(32597 [eth_usd]), TradingPair(657702 [trx_usd])\n"
     ]
    },
    {
     "data": {
      "text/plain": [
       "112.90780350890239"
      ]
     },
     "metadata": {},
     "output_type": "display_data"
    },
    {
     "name": "stdout",
     "output_type": "stream",
     "text": [
      "2018-08-16 08:00:00+00:00 170400\n",
      "171120 short TradingPair(271832 [etc_usd]) long TradingPair(333257 [eos_usd])\n",
      "171300 take profit of short: TradingPair(271832 [etc_usd]), TradingPair(333257 [eos_usd])\n",
      "171360 long TradingPair(125865 [neo_usd]) short TradingPair(652614 [iot_usd])\n",
      "171480 stop-loss of long: TradingPair(125865 [neo_usd]), TradingPair(652614 [iot_usd])\n",
      "171540 unban of long: TradingPair(125865 [neo_usd]), TradingPair(652614 [iot_usd])\n",
      "171780 long TradingPair(347956 [ltc_usd]) short TradingPair(909928 [xmr_usd])\n",
      "171780 long TradingPair(271832 [etc_usd]) short TradingPair(333257 [eos_usd])\n",
      "171900 long TradingPair(32597 [eth_usd]) short TradingPair(587847 [xrp_usd])\n",
      "172080 take profit of long: TradingPair(347956 [ltc_usd]), TradingPair(909928 [xmr_usd])\n",
      "172080 long TradingPair(32597 [eth_usd]) short TradingPair(657702 [trx_usd])\n",
      "172140 stop-loss of long: TradingPair(32597 [eth_usd]), TradingPair(657702 [trx_usd])\n",
      "172200 stop-loss of long: TradingPair(32597 [eth_usd]), TradingPair(587847 [xrp_usd])\n",
      "172380 stop-loss of long: TradingPair(271832 [etc_usd]), TradingPair(333257 [eos_usd])\n",
      "172620 short TradingPair(125865 [neo_usd]) long TradingPair(652614 [iot_usd])\n",
      "172620 stop-loss of short: TradingPair(125865 [neo_usd]), TradingPair(652614 [iot_usd])\n"
     ]
    },
    {
     "data": {
      "text/plain": [
       "112.61878223867116"
      ]
     },
     "metadata": {},
     "output_type": "display_data"
    },
    {
     "name": "stdout",
     "output_type": "stream",
     "text": [
      "2018-08-18 00:00:00+00:00 172800\n",
      "172980 long TradingPair(347956 [ltc_usd]) short TradingPair(909928 [xmr_usd])\n",
      "173400 stop-loss of long: TradingPair(347956 [ltc_usd]), TradingPair(909928 [xmr_usd])\n",
      "173760 short TradingPair(125865 [neo_usd]) long TradingPair(652614 [iot_usd])\n",
      "174120 stop-loss of short: TradingPair(125865 [neo_usd]), TradingPair(652614 [iot_usd])\n",
      "174300 unban of short: TradingPair(125865 [neo_usd]), TradingPair(652614 [iot_usd])\n",
      "174360 short TradingPair(125865 [neo_usd]) long TradingPair(652614 [iot_usd])\n",
      "174480 unban of long: TradingPair(347956 [ltc_usd]), TradingPair(909928 [xmr_usd])\n",
      "174540 long TradingPair(347956 [ltc_usd]) short TradingPair(909928 [xmr_usd])\n",
      "174660 stop-loss of long: TradingPair(347956 [ltc_usd]), TradingPair(909928 [xmr_usd])\n",
      "174960 take profit of short: TradingPair(125865 [neo_usd]), TradingPair(652614 [iot_usd])\n",
      "175020 long TradingPair(125865 [neo_usd]) short TradingPair(652614 [iot_usd])\n",
      "175140 take profit of long: TradingPair(125865 [neo_usd]), TradingPair(652614 [iot_usd])\n"
     ]
    },
    {
     "data": {
      "text/plain": [
       "114.43680687676718"
      ]
     },
     "metadata": {},
     "output_type": "display_data"
    },
    {
     "name": "stdout",
     "output_type": "stream",
     "text": [
      "2018-08-19 16:00:00+00:00 175200\n",
      "175860 long TradingPair(347956 [ltc_usd]) short TradingPair(909928 [xmr_usd])\n",
      "177120 short TradingPair(98871 [btc_usd]) long TradingPair(347956 [ltc_usd])\n"
     ]
    },
    {
     "data": {
      "text/plain": [
       "115.24364180546588"
      ]
     },
     "metadata": {},
     "output_type": "display_data"
    },
    {
     "name": "stdout",
     "output_type": "stream",
     "text": [
      "2018-08-21 08:00:00+00:00 177600\n",
      "179100 short TradingPair(652614 [iot_usd]) long TradingPair(657702 [trx_usd])\n",
      "179820 take profit of short: TradingPair(652614 [iot_usd]), TradingPair(657702 [trx_usd])\n"
     ]
    },
    {
     "data": {
      "text/plain": [
       "116.21278375056515"
      ]
     },
     "metadata": {},
     "output_type": "display_data"
    },
    {
     "name": "stdout",
     "output_type": "stream",
     "text": [
      "2018-08-23 00:00:00+00:00 180000\n"
     ]
    },
    {
     "data": {
      "text/plain": [
       "116.21278375056515"
      ]
     },
     "metadata": {},
     "output_type": "display_data"
    },
    {
     "name": "stdout",
     "output_type": "stream",
     "text": [
      "2018-08-24 16:00:00+00:00 182400\n",
      "183900 long TradingPair(587847 [xrp_usd]) short TradingPair(652614 [iot_usd])\n",
      "184080 long TradingPair(333257 [eos_usd]) short TradingPair(657702 [trx_usd])\n",
      "184200 long TradingPair(125865 [neo_usd]) short TradingPair(657702 [trx_usd])\n",
      "184380 stop-loss of long: TradingPair(333257 [eos_usd]), TradingPair(657702 [trx_usd])\n",
      "184560 unban of long: TradingPair(333257 [eos_usd]), TradingPair(657702 [trx_usd])\n",
      "184620 long TradingPair(333257 [eos_usd]) short TradingPair(657702 [trx_usd])\n"
     ]
    },
    {
     "data": {
      "text/plain": [
       "115.9605867017339"
      ]
     },
     "metadata": {},
     "output_type": "display_data"
    },
    {
     "name": "stdout",
     "output_type": "stream",
     "text": [
      "2018-08-26 08:00:00+00:00 184800\n",
      "185040 long TradingPair(32597 [eth_usd]) short TradingPair(271832 [etc_usd])\n",
      "185040 stop-loss of long: TradingPair(32597 [eth_usd]), TradingPair(271832 [etc_usd])\n",
      "185220 unban of long: TradingPair(32597 [eth_usd]), TradingPair(271832 [etc_usd])\n",
      "185580 long TradingPair(32597 [eth_usd]) short TradingPair(271832 [etc_usd])\n",
      "186060 long TradingPair(32597 [eth_usd]) short TradingPair(333257 [eos_usd])\n",
      "186060 long TradingPair(265391 [zec_usd]) short TradingPair(333257 [eos_usd])\n",
      "186060 stop-loss of long: TradingPair(265391 [zec_usd]), TradingPair(333257 [eos_usd])\n",
      "186060 long TradingPair(271832 [etc_usd]) short TradingPair(333257 [eos_usd])\n",
      "186420 stop-loss of long: TradingPair(32597 [eth_usd]), TradingPair(333257 [eos_usd])\n",
      "186660 take profit of long: TradingPair(32597 [eth_usd]), TradingPair(271832 [etc_usd])\n",
      "186960 unban of long: TradingPair(265391 [zec_usd]), TradingPair(333257 [eos_usd])\n",
      "187140 short TradingPair(32597 [eth_usd]) long TradingPair(271832 [etc_usd])\n",
      "187140 stop-loss of long: TradingPair(271832 [etc_usd]), TradingPair(333257 [eos_usd])\n",
      "187140 long TradingPair(32597 [eth_usd]) short TradingPair(265391 [zec_usd])\n"
     ]
    },
    {
     "data": {
      "text/plain": [
       "115.2091921642467"
      ]
     },
     "metadata": {},
     "output_type": "display_data"
    },
    {
     "name": "stdout",
     "output_type": "stream",
     "text": [
      "2018-08-28 00:00:00+00:00 187200\n",
      "187860 long TradingPair(32597 [eth_usd]) short TradingPair(271832 [etc_usd])\n",
      "188340 short TradingPair(333257 [eos_usd]) long TradingPair(347956 [ltc_usd])\n",
      "188400 stop-loss of long: TradingPair(32597 [eth_usd]), TradingPair(271832 [etc_usd])\n",
      "188460 short TradingPair(333257 [eos_usd]) long TradingPair(587847 [xrp_usd])\n",
      "188580 stop-loss of short: TradingPair(333257 [eos_usd]), TradingPair(347956 [ltc_usd])\n",
      "188640 unban of long: TradingPair(32597 [eth_usd]), TradingPair(271832 [etc_usd])\n",
      "188820 stop-loss of short: TradingPair(333257 [eos_usd]), TradingPair(587847 [xrp_usd])\n",
      "189240 long TradingPair(32597 [eth_usd]) short TradingPair(271832 [etc_usd])\n"
     ]
    },
    {
     "data": {
      "text/plain": [
       "114.40600597937637"
      ]
     },
     "metadata": {},
     "output_type": "display_data"
    },
    {
     "name": "stdout",
     "output_type": "stream",
     "text": [
      "2018-08-29 16:00:00+00:00 189600\n",
      "191340 short TradingPair(32597 [eth_usd]) long TradingPair(587847 [xrp_usd])\n",
      "191760 take profit of short: TradingPair(32597 [eth_usd]), TradingPair(587847 [xrp_usd])\n"
     ]
    },
    {
     "data": {
      "text/plain": [
       "114.69592631311102"
      ]
     },
     "metadata": {},
     "output_type": "display_data"
    },
    {
     "name": "stdout",
     "output_type": "stream",
     "text": [
      "2018-08-31 08:00:00+00:00 192000\n",
      "192660 long TradingPair(98871 [btc_usd]) short TradingPair(347956 [ltc_usd])\n",
      "193080 stop-loss of long: TradingPair(98871 [btc_usd]), TradingPair(347956 [ltc_usd])\n",
      "193860 long TradingPair(98871 [btc_usd]) short TradingPair(271832 [etc_usd])\n",
      "193920 short TradingPair(32597 [eth_usd]) long TradingPair(587847 [xrp_usd])\n",
      "194160 short TradingPair(32597 [eth_usd]) long TradingPair(271832 [etc_usd])\n"
     ]
    },
    {
     "data": {
      "text/plain": [
       "114.98323261313912"
      ]
     },
     "metadata": {},
     "output_type": "display_data"
    },
    {
     "name": "stdout",
     "output_type": "stream",
     "text": [
      "2018-09-02 00:00:00+00:00 194400\n",
      "195060 short TradingPair(98871 [btc_usd]) long TradingPair(587847 [xrp_usd])\n",
      "195780 long TradingPair(32597 [eth_usd]) short TradingPair(271832 [etc_usd])\n",
      "195900 stop-loss of long: TradingPair(32597 [eth_usd]), TradingPair(271832 [etc_usd])\n",
      "196140 long TradingPair(32597 [eth_usd]) short TradingPair(98871 [btc_usd])\n",
      "196200 stop-loss of short: TradingPair(98871 [btc_usd]), TradingPair(587847 [xrp_usd])\n"
     ]
    },
    {
     "data": {
      "text/plain": [
       "113.10954382182362"
      ]
     },
     "metadata": {},
     "output_type": "display_data"
    },
    {
     "name": "stdout",
     "output_type": "stream",
     "text": [
      "2018-09-03 16:00:00+00:00 196800\n",
      "197580 short TradingPair(98871 [btc_usd]) long TradingPair(271832 [etc_usd])\n",
      "198480 long TradingPair(32597 [eth_usd]) short TradingPair(98871 [btc_usd])\n"
     ]
    },
    {
     "data": {
      "text/plain": [
       "112.78295122259037"
      ]
     },
     "metadata": {},
     "output_type": "display_data"
    },
    {
     "name": "stdout",
     "output_type": "stream",
     "text": [
      "2018-09-05 08:00:00+00:00 199200\n",
      "199380 short TradingPair(98871 [btc_usd]) long TradingPair(271832 [etc_usd])\n",
      "199860 long TradingPair(32597 [eth_usd]) short TradingPair(587847 [xrp_usd])\n",
      "200160 stop-loss of long: TradingPair(32597 [eth_usd]), TradingPair(587847 [xrp_usd])\n",
      "200160 long TradingPair(32597 [eth_usd]) short TradingPair(657702 [trx_usd])\n",
      "200160 stop-loss of long: TradingPair(32597 [eth_usd]), TradingPair(657702 [trx_usd])\n",
      "200280 unban of long: TradingPair(32597 [eth_usd]), TradingPair(657702 [trx_usd])\n",
      "200340 short TradingPair(587847 [xrp_usd]) long TradingPair(657702 [trx_usd])\n",
      "201180 long TradingPair(32597 [eth_usd]) short TradingPair(657702 [trx_usd])\n",
      "201240 stop-loss of short: TradingPair(587847 [xrp_usd]), TradingPair(657702 [trx_usd])\n"
     ]
    },
    {
     "data": {
      "text/plain": [
       "112.03385056227825"
      ]
     },
     "metadata": {},
     "output_type": "display_data"
    },
    {
     "name": "stdout",
     "output_type": "stream",
     "text": [
      "2018-09-07 00:00:00+00:00 201600\n"
     ]
    },
    {
     "data": {
      "text/plain": [
       "111.94755360293195"
      ]
     },
     "metadata": {},
     "output_type": "display_data"
    },
    {
     "name": "stdout",
     "output_type": "stream",
     "text": [
      "2018-09-08 16:00:00+00:00 204000\n",
      "204660 long TradingPair(32597 [eth_usd]) short TradingPair(657702 [trx_usd])\n",
      "205500 short TradingPair(333257 [eos_usd]) long TradingPair(657702 [trx_usd])\n",
      "205680 short TradingPair(652614 [iot_usd]) long TradingPair(657702 [trx_usd])\n",
      "205980 stop-loss of short: TradingPair(652614 [iot_usd]), TradingPair(657702 [trx_usd])\n",
      "206100 take profit of short: TradingPair(333257 [eos_usd]), TradingPair(657702 [trx_usd])\n"
     ]
    },
    {
     "data": {
      "text/plain": [
       "112.85883248639607"
      ]
     },
     "metadata": {},
     "output_type": "display_data"
    },
    {
     "name": "stdout",
     "output_type": "stream",
     "text": [
      "2018-09-10 08:00:00+00:00 206400\n",
      "208500 short TradingPair(333257 [eos_usd]) long TradingPair(657702 [trx_usd])\n",
      "208680 short TradingPair(333257 [eos_usd]) long TradingPair(652614 [iot_usd])\n"
     ]
    },
    {
     "data": {
      "text/plain": [
       "112.44119372195172"
      ]
     },
     "metadata": {},
     "output_type": "display_data"
    },
    {
     "name": "stdout",
     "output_type": "stream",
     "text": [
      "2018-09-12 00:00:00+00:00 208800\n",
      "209040 long TradingPair(271832 [etc_usd]) short TradingPair(652614 [iot_usd])\n",
      "209040 long TradingPair(271832 [etc_usd]) short TradingPair(333257 [eos_usd])\n",
      "209940 stop-loss of long: TradingPair(271832 [etc_usd]), TradingPair(652614 [iot_usd])\n",
      "210300 long TradingPair(271832 [etc_usd]) short TradingPair(657702 [trx_usd])\n",
      "210840 stop-loss of long: TradingPair(271832 [etc_usd]), TradingPair(657702 [trx_usd])\n",
      "211080 stop-loss of long: TradingPair(271832 [etc_usd]), TradingPair(333257 [eos_usd])\n"
     ]
    },
    {
     "data": {
      "text/plain": [
       "110.59289311510733"
      ]
     },
     "metadata": {},
     "output_type": "display_data"
    },
    {
     "name": "stdout",
     "output_type": "stream",
     "text": [
      "2018-09-13 16:00:00+00:00 211200\n",
      "212640 short TradingPair(347956 [ltc_usd]) long TradingPair(657702 [trx_usd])\n",
      "212700 long TradingPair(271832 [etc_usd]) short TradingPair(347956 [ltc_usd])\n",
      "212880 stop-loss of long: TradingPair(271832 [etc_usd]), TradingPair(347956 [ltc_usd])\n",
      "212880 stop-loss of short: TradingPair(347956 [ltc_usd]), TradingPair(657702 [trx_usd])\n",
      "212880 short TradingPair(347956 [ltc_usd]) long TradingPair(652614 [iot_usd])\n",
      "212940 stop-loss of short: TradingPair(347956 [ltc_usd]), TradingPair(652614 [iot_usd])\n",
      "213000 long TradingPair(125865 [neo_usd]) short TradingPair(909928 [xmr_usd])\n",
      "213240 stop-loss of long: TradingPair(125865 [neo_usd]), TradingPair(909928 [xmr_usd])\n"
     ]
    },
    {
     "data": {
      "text/plain": [
       "108.94729985018634"
      ]
     },
     "metadata": {},
     "output_type": "display_data"
    },
    {
     "name": "stdout",
     "output_type": "stream",
     "text": [
      "2018-09-15 08:00:00+00:00 213600\n"
     ]
    },
    {
     "data": {
      "text/plain": [
       "108.94729985018634"
      ]
     },
     "metadata": {},
     "output_type": "display_data"
    },
    {
     "name": "stdout",
     "output_type": "stream",
     "text": [
      "2018-09-17 00:00:00+00:00 216000\n",
      "217380 long TradingPair(271832 [etc_usd]) short TradingPair(587847 [xrp_usd])\n",
      "217620 short TradingPair(587847 [xrp_usd]) long TradingPair(657702 [trx_usd])\n",
      "218160 stop-loss of short: TradingPair(587847 [xrp_usd]), TradingPair(657702 [trx_usd])\n",
      "218160 stop-loss of long: TradingPair(271832 [etc_usd]), TradingPair(587847 [xrp_usd])\n",
      "218340 short TradingPair(347956 [ltc_usd]) long TradingPair(652614 [iot_usd])\n"
     ]
    },
    {
     "data": {
      "text/plain": [
       "105.02267380352964"
      ]
     },
     "metadata": {},
     "output_type": "display_data"
    },
    {
     "name": "stdout",
     "output_type": "stream",
     "text": [
      "2018-09-18 16:00:00+00:00 218400\n",
      "220620 long TradingPair(652614 [iot_usd]) short TradingPair(657702 [trx_usd])\n"
     ]
    },
    {
     "data": {
      "text/plain": [
       "104.9013921571822"
      ]
     },
     "metadata": {},
     "output_type": "display_data"
    },
    {
     "name": "stdout",
     "output_type": "stream",
     "text": [
      "2018-09-20 08:00:00+00:00 220800\n",
      "221700 long TradingPair(98871 [btc_usd]) short TradingPair(125865 [neo_usd])\n",
      "221760 short TradingPair(333257 [eos_usd]) long TradingPair(657702 [trx_usd])\n",
      "221760 short TradingPair(333257 [eos_usd]) long TradingPair(347956 [ltc_usd])\n",
      "221940 take profit of short: TradingPair(333257 [eos_usd]), TradingPair(657702 [trx_usd])\n",
      "221940 long TradingPair(347956 [ltc_usd]) short TradingPair(657702 [trx_usd])\n",
      "222240 stop-loss of long: TradingPair(347956 [ltc_usd]), TradingPair(657702 [trx_usd])\n",
      "222240 stop-loss of long: TradingPair(98871 [btc_usd]), TradingPair(125865 [neo_usd])\n",
      "222720 unban of long: TradingPair(347956 [ltc_usd]), TradingPair(657702 [trx_usd])\n",
      "222720 unban of long: TradingPair(98871 [btc_usd]), TradingPair(125865 [neo_usd])\n",
      "222780 long TradingPair(98871 [btc_usd]) short TradingPair(125865 [neo_usd])\n",
      "222900 long TradingPair(347956 [ltc_usd]) short TradingPair(657702 [trx_usd])\n",
      "222900 stop-loss of long: TradingPair(98871 [btc_usd]), TradingPair(125865 [neo_usd])\n",
      "222960 stop-loss of long: TradingPair(347956 [ltc_usd]), TradingPair(657702 [trx_usd])\n",
      "223020 long TradingPair(333257 [eos_usd]) short TradingPair(657702 [trx_usd])\n"
     ]
    },
    {
     "data": {
      "text/plain": [
       "103.92823903657052"
      ]
     },
     "metadata": {},
     "output_type": "display_data"
    },
    {
     "name": "stdout",
     "output_type": "stream",
     "text": [
      "2018-09-22 00:00:00+00:00 223200\n",
      "223740 long TradingPair(125865 [neo_usd]) short TradingPair(271832 [etc_usd])\n",
      "225180 take profit of long: TradingPair(125865 [neo_usd]), TradingPair(271832 [etc_usd])\n",
      "225300 short TradingPair(125865 [neo_usd]) long TradingPair(333257 [eos_usd])\n"
     ]
    },
    {
     "data": {
      "text/plain": [
       "105.0907736309313"
      ]
     },
     "metadata": {},
     "output_type": "display_data"
    },
    {
     "name": "stdout",
     "output_type": "stream",
     "text": [
      "2018-09-23 16:00:00+00:00 225600\n",
      "226440 long TradingPair(125865 [neo_usd]) short TradingPair(347956 [ltc_usd])\n",
      "226500 short TradingPair(347956 [ltc_usd]) long TradingPair(652614 [iot_usd])\n",
      "226500 stop-loss of short: TradingPair(347956 [ltc_usd]), TradingPair(652614 [iot_usd])\n",
      "226560 take profit of long: TradingPair(125865 [neo_usd]), TradingPair(347956 [ltc_usd])\n",
      "226740 unban of short: TradingPair(347956 [ltc_usd]), TradingPair(652614 [iot_usd])\n",
      "227580 short TradingPair(347956 [ltc_usd]) long TradingPair(652614 [iot_usd])\n",
      "227580 long TradingPair(125865 [neo_usd]) short TradingPair(347956 [ltc_usd])\n",
      "227640 long TradingPair(125865 [neo_usd]) short TradingPair(271832 [etc_usd])\n",
      "227700 short TradingPair(98871 [btc_usd]) long TradingPair(271832 [etc_usd])\n"
     ]
    },
    {
     "data": {
      "text/plain": [
       "105.32920877955482"
      ]
     },
     "metadata": {},
     "output_type": "display_data"
    },
    {
     "name": "stdout",
     "output_type": "stream",
     "text": [
      "2018-09-25 08:00:00+00:00 228000\n",
      "228660 long TradingPair(32597 [eth_usd]) short TradingPair(333257 [eos_usd])\n",
      "228960 take profit of long: TradingPair(32597 [eth_usd]), TradingPair(333257 [eos_usd])\n",
      "229680 short TradingPair(652614 [iot_usd]) long TradingPair(909928 [xmr_usd])\n",
      "229860 long TradingPair(32597 [eth_usd]) short TradingPair(333257 [eos_usd])\n",
      "229860 stop-loss of long: TradingPair(32597 [eth_usd]), TradingPair(333257 [eos_usd])\n",
      "230040 short TradingPair(347956 [ltc_usd]) long TradingPair(909928 [xmr_usd])\n",
      "230220 short TradingPair(271832 [etc_usd]) long TradingPair(909928 [xmr_usd])\n"
     ]
    },
    {
     "data": {
      "text/plain": [
       "107.83691984987114"
      ]
     },
     "metadata": {},
     "output_type": "display_data"
    },
    {
     "name": "stdout",
     "output_type": "stream",
     "text": [
      "2018-09-27 00:00:00+00:00 230400\n",
      "231180 long TradingPair(125865 [neo_usd]) short TradingPair(347956 [ltc_usd])\n",
      "231180 stop-loss of long: TradingPair(125865 [neo_usd]), TradingPair(347956 [ltc_usd])\n",
      "231180 short TradingPair(347956 [ltc_usd]) long TradingPair(652614 [iot_usd])\n",
      "231180 stop-loss of short: TradingPair(347956 [ltc_usd]), TradingPair(652614 [iot_usd])\n",
      "231300 unban of short: TradingPair(347956 [ltc_usd]), TradingPair(652614 [iot_usd])\n",
      "231360 short TradingPair(347956 [ltc_usd]) long TradingPair(652614 [iot_usd])\n",
      "231540 stop-loss of short: TradingPair(347956 [ltc_usd]), TradingPair(652614 [iot_usd])\n",
      "231780 unban of long: TradingPair(125865 [neo_usd]), TradingPair(347956 [ltc_usd])\n",
      "231780 unban of short: TradingPair(347956 [ltc_usd]), TradingPair(652614 [iot_usd])\n",
      "231840 long TradingPair(125865 [neo_usd]) short TradingPair(347956 [ltc_usd])\n",
      "231900 short TradingPair(347956 [ltc_usd]) long TradingPair(652614 [iot_usd])\n",
      "232020 stop-loss of short: TradingPair(347956 [ltc_usd]), TradingPair(652614 [iot_usd])\n",
      "232080 take profit of long: TradingPair(125865 [neo_usd]), TradingPair(347956 [ltc_usd])\n",
      "232080 long TradingPair(32597 [eth_usd]) short TradingPair(125865 [neo_usd])\n",
      "232080 short TradingPair(125865 [neo_usd]) long TradingPair(652614 [iot_usd])\n",
      "232080 stop-loss of short: TradingPair(125865 [neo_usd]), TradingPair(652614 [iot_usd])\n",
      "232140 short TradingPair(125865 [neo_usd]) long TradingPair(347956 [ltc_usd])\n",
      "232140 stop-loss of long: TradingPair(32597 [eth_usd]), TradingPair(125865 [neo_usd])\n",
      "232320 take profit of short: TradingPair(125865 [neo_usd]), TradingPair(347956 [ltc_usd])\n",
      "232440 unban of long: TradingPair(32597 [eth_usd]), TradingPair(125865 [neo_usd])\n",
      "232620 unban of short: TradingPair(125865 [neo_usd]), TradingPair(652614 [iot_usd])\n",
      "232680 short TradingPair(125865 [neo_usd]) long TradingPair(652614 [iot_usd])\n"
     ]
    },
    {
     "data": {
      "text/plain": [
       "108.75972628103631"
      ]
     },
     "metadata": {},
     "output_type": "display_data"
    },
    {
     "name": "stdout",
     "output_type": "stream",
     "text": [
      "2018-09-28 16:00:00+00:00 232800\n",
      "233880 short TradingPair(32597 [eth_usd]) long TradingPair(657702 [trx_usd])\n",
      "233880 short TradingPair(32597 [eth_usd]) long TradingPair(333257 [eos_usd])\n",
      "234600 short TradingPair(271832 [etc_usd]) long TradingPair(909928 [xmr_usd])\n",
      "235020 take profit of short: TradingPair(271832 [etc_usd]), TradingPair(909928 [xmr_usd])\n"
     ]
    },
    {
     "data": {
      "text/plain": [
       "109.74778366587024"
      ]
     },
     "metadata": {},
     "output_type": "display_data"
    },
    {
     "name": "stdout",
     "output_type": "stream",
     "text": [
      "2018-09-30 08:00:00+00:00 235200\n"
     ]
    },
    {
     "data": {
      "text/plain": [
       "109.72889265774626"
      ]
     },
     "metadata": {},
     "output_type": "display_data"
    },
    {
     "name": "stdout",
     "output_type": "stream",
     "text": [
      "2018-10-02 00:00:00+00:00 237600\n",
      "239340 long TradingPair(32597 [eth_usd]) short TradingPair(657702 [trx_usd])\n"
     ]
    },
    {
     "data": {
      "text/plain": [
       "109.84585417392562"
      ]
     },
     "metadata": {},
     "output_type": "display_data"
    },
    {
     "name": "stdout",
     "output_type": "stream",
     "text": [
      "2018-10-03 16:00:00+00:00 240000\n",
      "241320 long TradingPair(271832 [etc_usd]) short TradingPair(657702 [trx_usd])\n",
      "241320 stop-loss of long: TradingPair(271832 [etc_usd]), TradingPair(657702 [trx_usd])\n",
      "241320 long TradingPair(32597 [eth_usd]) short TradingPair(657702 [trx_usd])\n",
      "241380 stop-loss of long: TradingPair(32597 [eth_usd]), TradingPair(657702 [trx_usd])\n",
      "241440 long TradingPair(271832 [etc_usd]) short TradingPair(652614 [iot_usd])\n",
      "241920 take profit of long: TradingPair(271832 [etc_usd]), TradingPair(652614 [iot_usd])\n"
     ]
    },
    {
     "data": {
      "text/plain": [
       "110.2606220855065"
      ]
     },
     "metadata": {},
     "output_type": "display_data"
    },
    {
     "name": "stdout",
     "output_type": "stream",
     "text": [
      "2018-10-05 08:00:00+00:00 242400\n",
      "243240 long TradingPair(271832 [etc_usd]) short TradingPair(333257 [eos_usd])\n",
      "243300 long TradingPair(271832 [etc_usd]) short TradingPair(652614 [iot_usd])\n",
      "243420 stop-loss of long: TradingPair(271832 [etc_usd]), TradingPair(652614 [iot_usd])\n",
      "243420 long TradingPair(98871 [btc_usd]) short TradingPair(652614 [iot_usd])\n",
      "244380 short TradingPair(98871 [btc_usd]) long TradingPair(271832 [etc_usd])\n",
      "244380 unban of long: TradingPair(271832 [etc_usd]), TradingPair(652614 [iot_usd])\n",
      "244380 take profit of long: TradingPair(98871 [btc_usd]), TradingPair(652614 [iot_usd])\n",
      "244440 long TradingPair(271832 [etc_usd]) short TradingPair(652614 [iot_usd])\n"
     ]
    },
    {
     "data": {
      "text/plain": [
       "110.70750582302229"
      ]
     },
     "metadata": {},
     "output_type": "display_data"
    },
    {
     "name": "stdout",
     "output_type": "stream",
     "text": [
      "2018-10-07 00:00:00+00:00 244800\n",
      "246300 long TradingPair(98871 [btc_usd]) short TradingPair(652614 [iot_usd])\n",
      "246720 long TradingPair(333257 [eos_usd]) short TradingPair(652614 [iot_usd])\n",
      "246840 long TradingPair(271832 [etc_usd]) short TradingPair(652614 [iot_usd])\n",
      "246900 stop-loss of long: TradingPair(98871 [btc_usd]), TradingPair(652614 [iot_usd])\n",
      "247020 stop-loss of long: TradingPair(271832 [etc_usd]), TradingPair(652614 [iot_usd])\n",
      "247140 long TradingPair(98871 [btc_usd]) short TradingPair(333257 [eos_usd])\n"
     ]
    },
    {
     "data": {
      "text/plain": [
       "110.13235941087157"
      ]
     },
     "metadata": {},
     "output_type": "display_data"
    },
    {
     "name": "stdout",
     "output_type": "stream",
     "text": [
      "2018-10-08 16:00:00+00:00 247200\n",
      "248160 short TradingPair(32597 [eth_usd]) long TradingPair(125865 [neo_usd])\n",
      "249240 take profit of short: TradingPair(32597 [eth_usd]), TradingPair(125865 [neo_usd])\n"
     ]
    },
    {
     "data": {
      "text/plain": [
       "110.30102681879384"
      ]
     },
     "metadata": {},
     "output_type": "display_data"
    },
    {
     "name": "stdout",
     "output_type": "stream",
     "text": [
      "2018-10-10 08:00:00+00:00 249600\n",
      "250620 long TradingPair(32597 [eth_usd]) short TradingPair(125865 [neo_usd])\n",
      "250740 short TradingPair(271832 [etc_usd]) long TradingPair(909928 [xmr_usd])\n",
      "250800 take profit of long: TradingPair(32597 [eth_usd]), TradingPair(125865 [neo_usd])\n",
      "250980 long TradingPair(125865 [neo_usd]) short TradingPair(271832 [etc_usd])\n",
      "251100 take profit of short: TradingPair(271832 [etc_usd]), TradingPair(909928 [xmr_usd])\n",
      "251280 long TradingPair(125865 [neo_usd]) short TradingPair(347956 [ltc_usd])\n",
      "251580 stop-loss of long: TradingPair(125865 [neo_usd]), TradingPair(347956 [ltc_usd])\n",
      "251640 long TradingPair(271832 [etc_usd]) short TradingPair(909928 [xmr_usd])\n",
      "251760 stop-loss of long: TradingPair(271832 [etc_usd]), TradingPair(909928 [xmr_usd])\n",
      "251820 long TradingPair(32597 [eth_usd]) short TradingPair(347956 [ltc_usd])\n",
      "251880 unban of long: TradingPair(271832 [etc_usd]), TradingPair(909928 [xmr_usd])\n"
     ]
    },
    {
     "data": {
      "text/plain": [
       "111.26028875956933"
      ]
     },
     "metadata": {},
     "output_type": "display_data"
    },
    {
     "name": "stdout",
     "output_type": "stream",
     "text": [
      "2018-10-12 00:00:00+00:00 252000\n",
      "252360 short TradingPair(271832 [etc_usd]) long TradingPair(909928 [xmr_usd])\n",
      "252840 long TradingPair(125865 [neo_usd]) short TradingPair(347956 [ltc_usd])\n",
      "253380 short TradingPair(32597 [eth_usd]) long TradingPair(125865 [neo_usd])\n",
      "253380 stop-loss of long: TradingPair(125865 [neo_usd]), TradingPair(347956 [ltc_usd])\n",
      "253380 long TradingPair(32597 [eth_usd]) short TradingPair(347956 [ltc_usd])\n",
      "253500 stop-loss of short: TradingPair(271832 [etc_usd]), TradingPair(909928 [xmr_usd])\n",
      "253680 unban of short: TradingPair(271832 [etc_usd]), TradingPair(909928 [xmr_usd])\n",
      "253800 stop-loss of short: TradingPair(32597 [eth_usd]), TradingPair(125865 [neo_usd])\n",
      "253800 take profit of long: TradingPair(32597 [eth_usd]), TradingPair(347956 [ltc_usd])\n",
      "254040 short TradingPair(271832 [etc_usd]) long TradingPair(909928 [xmr_usd])\n"
     ]
    },
    {
     "data": {
      "text/plain": [
       "111.06452300431843"
      ]
     },
     "metadata": {},
     "output_type": "display_data"
    },
    {
     "name": "stdout",
     "output_type": "stream",
     "text": [
      "2018-10-13 16:00:00+00:00 254400\n",
      "255000 long TradingPair(32597 [eth_usd]) short TradingPair(125865 [neo_usd])\n",
      "255000 short TradingPair(125865 [neo_usd]) long TradingPair(652614 [iot_usd])\n",
      "255180 stop-loss of long: TradingPair(32597 [eth_usd]), TradingPair(125865 [neo_usd])\n",
      "255600 unban of long: TradingPair(32597 [eth_usd]), TradingPair(125865 [neo_usd])\n",
      "255660 long TradingPair(32597 [eth_usd]) short TradingPair(125865 [neo_usd])\n",
      "255660 long TradingPair(265391 [zec_usd]) short TradingPair(271832 [etc_usd])\n",
      "256140 stop-loss of long: TradingPair(32597 [eth_usd]), TradingPair(125865 [neo_usd])\n",
      "256260 unban of long: TradingPair(32597 [eth_usd]), TradingPair(125865 [neo_usd])\n",
      "256320 long TradingPair(32597 [eth_usd]) short TradingPair(125865 [neo_usd])\n",
      "256320 stop-loss of long: TradingPair(32597 [eth_usd]), TradingPair(125865 [neo_usd])\n",
      "256380 unban of long: TradingPair(32597 [eth_usd]), TradingPair(125865 [neo_usd])\n",
      "256440 long TradingPair(32597 [eth_usd]) short TradingPair(125865 [neo_usd])\n",
      "256680 take profit of long: TradingPair(32597 [eth_usd]), TradingPair(125865 [neo_usd])\n",
      "256680 short TradingPair(32597 [eth_usd]) long TradingPair(652614 [iot_usd])\n",
      "256680 stop-loss of short: TradingPair(32597 [eth_usd]), TradingPair(652614 [iot_usd])\n",
      "256680 short TradingPair(32597 [eth_usd]) long TradingPair(333257 [eos_usd])\n",
      "256740 short TradingPair(32597 [eth_usd]) long TradingPair(125865 [neo_usd])\n",
      "256740 stop-loss of short: TradingPair(32597 [eth_usd]), TradingPair(125865 [neo_usd])\n",
      "256740 stop-loss of short: TradingPair(125865 [neo_usd]), TradingPair(652614 [iot_usd])\n"
     ]
    },
    {
     "data": {
      "text/plain": [
       "111.92267089441589"
      ]
     },
     "metadata": {},
     "output_type": "display_data"
    },
    {
     "name": "stdout",
     "output_type": "stream",
     "text": [
      "2018-10-15 08:00:00+00:00 256800\n",
      "257220 long TradingPair(32597 [eth_usd]) short TradingPair(271832 [etc_usd])\n",
      "257220 long TradingPair(125865 [neo_usd]) short TradingPair(271832 [etc_usd])\n",
      "257460 long TradingPair(32597 [eth_usd]) short TradingPair(125865 [neo_usd])\n",
      "257460 stop-loss of long: TradingPair(32597 [eth_usd]), TradingPair(271832 [etc_usd])\n",
      "257760 unban of long: TradingPair(32597 [eth_usd]), TradingPair(271832 [etc_usd])\n",
      "257820 long TradingPair(32597 [eth_usd]) short TradingPair(271832 [etc_usd])\n",
      "257940 take profit of long: TradingPair(32597 [eth_usd]), TradingPair(125865 [neo_usd])\n",
      "258000 stop-loss of long: TradingPair(125865 [neo_usd]), TradingPair(271832 [etc_usd])\n",
      "258120 unban of long: TradingPair(125865 [neo_usd]), TradingPair(271832 [etc_usd])\n",
      "258240 long TradingPair(125865 [neo_usd]) short TradingPair(271832 [etc_usd])\n"
     ]
    },
    {
     "data": {
      "text/plain": [
       "112.55942885874293"
      ]
     },
     "metadata": {},
     "output_type": "display_data"
    },
    {
     "name": "stdout",
     "output_type": "stream",
     "text": [
      "2018-10-17 00:00:00+00:00 259200\n",
      "259440 short TradingPair(125865 [neo_usd]) long TradingPair(271832 [etc_usd])\n",
      "260100 long TradingPair(265391 [zec_usd]) short TradingPair(271832 [etc_usd])\n",
      "260100 take profit of short: TradingPair(125865 [neo_usd]), TradingPair(271832 [etc_usd])\n",
      "260160 take profit of long: TradingPair(265391 [zec_usd]), TradingPair(271832 [etc_usd])\n",
      "260340 short TradingPair(265391 [zec_usd]) long TradingPair(271832 [etc_usd])\n",
      "260340 stop-loss of short: TradingPair(265391 [zec_usd]), TradingPair(271832 [etc_usd])\n",
      "260340 short TradingPair(265391 [zec_usd]) long TradingPair(333257 [eos_usd])\n",
      "260340 stop-loss of short: TradingPair(265391 [zec_usd]), TradingPair(333257 [eos_usd])\n",
      "260520 unban of short: TradingPair(265391 [zec_usd]), TradingPair(271832 [etc_usd])\n",
      "260580 short TradingPair(265391 [zec_usd]) long TradingPair(271832 [etc_usd])\n",
      "260700 stop-loss of short: TradingPair(265391 [zec_usd]), TradingPair(271832 [etc_usd])\n",
      "261120 short TradingPair(125865 [neo_usd]) long TradingPair(271832 [etc_usd])\n",
      "261120 stop-loss of short: TradingPair(125865 [neo_usd]), TradingPair(271832 [etc_usd])\n"
     ]
    },
    {
     "data": {
      "text/plain": [
       "113.37064527641098"
      ]
     },
     "metadata": {},
     "output_type": "display_data"
    },
    {
     "name": "stdout",
     "output_type": "stream",
     "text": [
      "2018-10-18 16:00:00+00:00 261600\n",
      "263220 long TradingPair(125865 [neo_usd]) short TradingPair(265391 [zec_usd])\n",
      "263940 stop-loss of long: TradingPair(125865 [neo_usd]), TradingPair(265391 [zec_usd])\n"
     ]
    },
    {
     "data": {
      "text/plain": [
       "113.14160840696006"
      ]
     },
     "metadata": {},
     "output_type": "display_data"
    },
    {
     "name": "stdout",
     "output_type": "stream",
     "text": [
      "2018-10-20 08:00:00+00:00 264000\n"
     ]
    },
    {
     "data": {
      "text/plain": [
       "113.14160840696006"
      ]
     },
     "metadata": {},
     "output_type": "display_data"
    },
    {
     "name": "stdout",
     "output_type": "stream",
     "text": [
      "2018-10-22 00:00:00+00:00 266400\n",
      "268200 short TradingPair(98871 [btc_usd]) long TradingPair(657702 [trx_usd])\n",
      "268500 short TradingPair(333257 [eos_usd]) long TradingPair(657702 [trx_usd])\n"
     ]
    },
    {
     "data": {
      "text/plain": [
       "113.29064959512745"
      ]
     },
     "metadata": {},
     "output_type": "display_data"
    },
    {
     "name": "stdout",
     "output_type": "stream",
     "text": [
      "2018-10-23 16:00:00+00:00 268800\n"
     ]
    },
    {
     "data": {
      "text/plain": [
       "113.30821198631563"
      ]
     },
     "metadata": {},
     "output_type": "display_data"
    },
    {
     "name": "stdout",
     "output_type": "stream",
     "text": [
      "2018-10-25 08:00:00+00:00 271200\n"
     ]
    },
    {
     "data": {
      "text/plain": [
       "113.30821198631563"
      ]
     },
     "metadata": {},
     "output_type": "display_data"
    },
    {
     "name": "stdout",
     "output_type": "stream",
     "text": [
      "2018-10-27 00:00:00+00:00 273600\n"
     ]
    },
    {
     "data": {
      "text/plain": [
       "113.30821198631563"
      ]
     },
     "metadata": {},
     "output_type": "display_data"
    },
    {
     "name": "stdout",
     "output_type": "stream",
     "text": [
      "2018-10-28 16:00:00+00:00 276000\n",
      "277260 short TradingPair(98871 [btc_usd]) long TradingPair(333257 [eos_usd])\n",
      "277260 stop-loss of short: TradingPair(98871 [btc_usd]), TradingPair(333257 [eos_usd])\n",
      "277260 short TradingPair(32597 [eth_usd]) long TradingPair(347956 [ltc_usd])\n",
      "277260 stop-loss of short: TradingPair(32597 [eth_usd]), TradingPair(347956 [ltc_usd])\n",
      "277260 long TradingPair(347956 [ltc_usd]) short TradingPair(652614 [iot_usd])\n",
      "277260 short TradingPair(32597 [eth_usd]) long TradingPair(333257 [eos_usd])\n",
      "277260 stop-loss of short: TradingPair(32597 [eth_usd]), TradingPair(333257 [eos_usd])\n",
      "277560 unban of short: TradingPair(32597 [eth_usd]), TradingPair(347956 [ltc_usd])\n",
      "277620 take profit of long: TradingPair(347956 [ltc_usd]), TradingPair(652614 [iot_usd])\n",
      "277800 short TradingPair(32597 [eth_usd]) long TradingPair(347956 [ltc_usd])\n"
     ]
    },
    {
     "data": {
      "text/plain": [
       "113.74371091552757"
      ]
     },
     "metadata": {},
     "output_type": "display_data"
    },
    {
     "name": "stdout",
     "output_type": "stream",
     "text": [
      "2018-10-30 08:00:00+00:00 278400\n"
     ]
    },
    {
     "data": {
      "text/plain": [
       "113.73807557425185"
      ]
     },
     "metadata": {},
     "output_type": "display_data"
    },
    {
     "name": "stdout",
     "output_type": "stream",
     "text": [
      "2018-11-01 00:00:00+00:00 280800\n",
      "280860 short TradingPair(333257 [eos_usd]) long TradingPair(657702 [trx_usd])\n",
      "281040 long TradingPair(32597 [eth_usd]) short TradingPair(333257 [eos_usd])\n",
      "281280 long TradingPair(347956 [ltc_usd]) short TradingPair(652614 [iot_usd])\n",
      "281700 stop-loss of short: TradingPair(333257 [eos_usd]), TradingPair(657702 [trx_usd])\n",
      "281700 short TradingPair(347956 [ltc_usd]) long TradingPair(657702 [trx_usd])\n",
      "282360 unban of short: TradingPair(333257 [eos_usd]), TradingPair(657702 [trx_usd])\n",
      "282420 short TradingPair(333257 [eos_usd]) long TradingPair(657702 [trx_usd])\n",
      "282600 stop-loss of short: TradingPair(333257 [eos_usd]), TradingPair(657702 [trx_usd])\n",
      "282900 stop-loss of long: TradingPair(347956 [ltc_usd]), TradingPair(652614 [iot_usd])\n",
      "282900 stop-loss of short: TradingPair(347956 [ltc_usd]), TradingPair(657702 [trx_usd])\n",
      "283080 stop-loss of long: TradingPair(32597 [eth_usd]), TradingPair(333257 [eos_usd])\n"
     ]
    },
    {
     "data": {
      "text/plain": [
       "112.529538617471"
      ]
     },
     "metadata": {},
     "output_type": "display_data"
    },
    {
     "name": "stdout",
     "output_type": "stream",
     "text": [
      "2018-11-02 16:00:00+00:00 283200\n",
      "285360 short TradingPair(98871 [btc_usd]) long TradingPair(587847 [xrp_usd])\n"
     ]
    },
    {
     "data": {
      "text/plain": [
       "112.54807418083196"
      ]
     },
     "metadata": {},
     "output_type": "display_data"
    },
    {
     "name": "stdout",
     "output_type": "stream",
     "text": [
      "2018-11-04 08:00:00+00:00 285600\n",
      "285660 long TradingPair(125865 [neo_usd]) short TradingPair(347956 [ltc_usd])\n",
      "285660 long TradingPair(333257 [eos_usd]) short TradingPair(347956 [ltc_usd])\n",
      "285660 stop-loss of long: TradingPair(333257 [eos_usd]), TradingPair(347956 [ltc_usd])\n",
      "285720 stop-loss of long: TradingPair(125865 [neo_usd]), TradingPair(347956 [ltc_usd])\n",
      "285780 unban of long: TradingPair(125865 [neo_usd]), TradingPair(347956 [ltc_usd])\n",
      "286080 long TradingPair(125865 [neo_usd]) short TradingPair(347956 [ltc_usd])\n",
      "286140 stop-loss of long: TradingPair(125865 [neo_usd]), TradingPair(347956 [ltc_usd])\n",
      "286200 short TradingPair(32597 [eth_usd]) long TradingPair(98871 [btc_usd])\n",
      "286260 stop-loss of short: TradingPair(32597 [eth_usd]), TradingPair(98871 [btc_usd])\n",
      "286260 short TradingPair(32597 [eth_usd]) long TradingPair(587847 [xrp_usd])\n",
      "286260 stop-loss of short: TradingPair(32597 [eth_usd]), TradingPair(587847 [xrp_usd])\n",
      "286260 long TradingPair(98871 [btc_usd]) short TradingPair(587847 [xrp_usd])\n",
      "286320 unban of long: TradingPair(125865 [neo_usd]), TradingPair(347956 [ltc_usd])\n",
      "286500 unban of short: TradingPair(32597 [eth_usd]), TradingPair(587847 [xrp_usd])\n",
      "286560 short TradingPair(32597 [eth_usd]) long TradingPair(587847 [xrp_usd])\n",
      "286620 long TradingPair(125865 [neo_usd]) short TradingPair(347956 [ltc_usd])\n",
      "286620 stop-loss of long: TradingPair(125865 [neo_usd]), TradingPair(347956 [ltc_usd])\n",
      "286680 unban of long: TradingPair(125865 [neo_usd]), TradingPair(347956 [ltc_usd])\n",
      "286980 long TradingPair(125865 [neo_usd]) short TradingPair(347956 [ltc_usd])\n",
      "287520 take profit of short: TradingPair(32597 [eth_usd]), TradingPair(587847 [xrp_usd])\n",
      "287520 stop-loss of long: TradingPair(98871 [btc_usd]), TradingPair(587847 [xrp_usd])\n",
      "287580 long TradingPair(32597 [eth_usd]) short TradingPair(587847 [xrp_usd])\n",
      "287580 stop-loss of long: TradingPair(32597 [eth_usd]), TradingPair(587847 [xrp_usd])\n"
     ]
    },
    {
     "data": {
      "text/plain": [
       "111.39261651665396"
      ]
     },
     "metadata": {},
     "output_type": "display_data"
    },
    {
     "name": "stdout",
     "output_type": "stream",
     "text": [
      "2018-11-06 00:00:00+00:00 288000\n",
      "288720 short TradingPair(125865 [neo_usd]) long TradingPair(347956 [ltc_usd])\n",
      "288900 short TradingPair(333257 [eos_usd]) long TradingPair(347956 [ltc_usd])\n",
      "289380 take profit of short: TradingPair(125865 [neo_usd]), TradingPair(347956 [ltc_usd])\n",
      "289440 take profit of short: TradingPair(333257 [eos_usd]), TradingPair(347956 [ltc_usd])\n",
      "289440 short TradingPair(347956 [ltc_usd]) long TradingPair(652614 [iot_usd])\n",
      "290340 short TradingPair(333257 [eos_usd]) long TradingPair(347956 [ltc_usd])\n"
     ]
    },
    {
     "data": {
      "text/plain": [
       "112.3997863830985"
      ]
     },
     "metadata": {},
     "output_type": "display_data"
    },
    {
     "name": "stdout",
     "output_type": "stream",
     "text": [
      "2018-11-07 16:00:00+00:00 290400\n",
      "291000 long TradingPair(32597 [eth_usd]) short TradingPair(265391 [zec_usd])\n",
      "291000 stop-loss of long: TradingPair(32597 [eth_usd]), TradingPair(265391 [zec_usd])\n"
     ]
    },
    {
     "data": {
      "text/plain": [
       "112.36528415010227"
      ]
     },
     "metadata": {},
     "output_type": "display_data"
    },
    {
     "name": "stdout",
     "output_type": "stream",
     "text": [
      "2018-11-09 08:00:00+00:00 292800\n",
      "293280 short TradingPair(271832 [etc_usd]) long TradingPair(333257 [eos_usd])\n",
      "293640 long TradingPair(333257 [eos_usd]) short TradingPair(657702 [trx_usd])\n",
      "294480 take profit of long: TradingPair(333257 [eos_usd]), TradingPair(657702 [trx_usd])\n",
      "294960 long TradingPair(125865 [neo_usd]) short TradingPair(652614 [iot_usd])\n"
     ]
    },
    {
     "data": {
      "text/plain": [
       "112.79504577033731"
      ]
     },
     "metadata": {},
     "output_type": "display_data"
    },
    {
     "name": "stdout",
     "output_type": "stream",
     "text": [
      "2018-11-11 00:00:00+00:00 295200\n",
      "296160 long TradingPair(347956 [ltc_usd]) short TradingPair(657702 [trx_usd])\n",
      "296640 short TradingPair(125865 [neo_usd]) long TradingPair(657702 [trx_usd])\n",
      "296640 short TradingPair(125865 [neo_usd]) long TradingPair(347956 [ltc_usd])\n",
      "296640 stop-loss of short: TradingPair(125865 [neo_usd]), TradingPair(347956 [ltc_usd])\n",
      "296940 unban of short: TradingPair(125865 [neo_usd]), TradingPair(347956 [ltc_usd])\n",
      "297060 short TradingPair(333257 [eos_usd]) long TradingPair(657702 [trx_usd])\n",
      "297060 short TradingPair(125865 [neo_usd]) long TradingPair(347956 [ltc_usd])\n",
      "297060 stop-loss of short: TradingPair(125865 [neo_usd]), TradingPair(347956 [ltc_usd])\n",
      "297540 take profit of short: TradingPair(125865 [neo_usd]), TradingPair(657702 [trx_usd])\n"
     ]
    },
    {
     "data": {
      "text/plain": [
       "113.96721311171886"
      ]
     },
     "metadata": {},
     "output_type": "display_data"
    },
    {
     "name": "stdout",
     "output_type": "stream",
     "text": [
      "2018-11-12 16:00:00+00:00 297600\n",
      "298260 long TradingPair(125865 [neo_usd]) short TradingPair(347956 [ltc_usd])\n",
      "299220 short TradingPair(125865 [neo_usd]) long TradingPair(333257 [eos_usd])\n",
      "299220 stop-loss of short: TradingPair(125865 [neo_usd]), TradingPair(333257 [eos_usd])\n",
      "299220 long TradingPair(333257 [eos_usd]) short TradingPair(657702 [trx_usd])\n",
      "299220 stop-loss of long: TradingPair(333257 [eos_usd]), TradingPair(657702 [trx_usd])\n",
      "299280 unban of short: TradingPair(125865 [neo_usd]), TradingPair(333257 [eos_usd])\n",
      "299280 unban of long: TradingPair(333257 [eos_usd]), TradingPair(657702 [trx_usd])\n",
      "299580 short TradingPair(347956 [ltc_usd]) long TradingPair(657702 [trx_usd])\n",
      "299640 stop-loss of short: TradingPair(347956 [ltc_usd]), TradingPair(657702 [trx_usd])\n",
      "299820 unban of short: TradingPair(347956 [ltc_usd]), TradingPair(657702 [trx_usd])\n",
      "299880 stop-loss of long: TradingPair(125865 [neo_usd]), TradingPair(347956 [ltc_usd])\n",
      "299880 short TradingPair(347956 [ltc_usd]) long TradingPair(657702 [trx_usd])\n",
      "299880 stop-loss of short: TradingPair(347956 [ltc_usd]), TradingPair(657702 [trx_usd])\n"
     ]
    },
    {
     "data": {
      "text/plain": [
       "113.35745023565644"
      ]
     },
     "metadata": {},
     "output_type": "display_data"
    },
    {
     "name": "stdout",
     "output_type": "stream",
     "text": [
      "2018-11-14 08:00:00+00:00 300000\n",
      "300480 short TradingPair(98871 [btc_usd]) long TradingPair(271832 [etc_usd])\n",
      "300540 long TradingPair(271832 [etc_usd]) short TradingPair(333257 [eos_usd])\n",
      "300540 stop-loss of long: TradingPair(271832 [etc_usd]), TradingPair(333257 [eos_usd])\n",
      "300540 long TradingPair(125865 [neo_usd]) short TradingPair(657702 [trx_usd])\n",
      "300540 stop-loss of short: TradingPair(98871 [btc_usd]), TradingPair(271832 [etc_usd])\n",
      "300600 take profit of long: TradingPair(125865 [neo_usd]), TradingPair(657702 [trx_usd])\n",
      "300720 short TradingPair(125865 [neo_usd]) long TradingPair(657702 [trx_usd])\n",
      "300720 stop-loss of short: TradingPair(125865 [neo_usd]), TradingPair(657702 [trx_usd])\n",
      "300780 short TradingPair(125865 [neo_usd]) long TradingPair(347956 [ltc_usd])\n",
      "300780 stop-loss of short: TradingPair(125865 [neo_usd]), TradingPair(347956 [ltc_usd])\n",
      "300900 unban of short: TradingPair(125865 [neo_usd]), TradingPair(657702 [trx_usd])\n",
      "300960 unban of long: TradingPair(271832 [etc_usd]), TradingPair(333257 [eos_usd])\n",
      "300960 unban of short: TradingPair(125865 [neo_usd]), TradingPair(347956 [ltc_usd])\n",
      "301020 long TradingPair(271832 [etc_usd]) short TradingPair(333257 [eos_usd])\n",
      "301020 stop-loss of long: TradingPair(271832 [etc_usd]), TradingPair(333257 [eos_usd])\n",
      "301140 short TradingPair(347956 [ltc_usd]) long TradingPair(657702 [trx_usd])\n",
      "301800 stop-loss of short: TradingPair(347956 [ltc_usd]), TradingPair(657702 [trx_usd])\n",
      "301860 long TradingPair(125865 [neo_usd]) short TradingPair(347956 [ltc_usd])\n",
      "301920 unban of long: TradingPair(271832 [etc_usd]), TradingPair(333257 [eos_usd])\n",
      "301920 unban of short: TradingPair(98871 [btc_usd]), TradingPair(271832 [etc_usd])\n",
      "301980 unban of short: TradingPair(347956 [ltc_usd]), TradingPair(657702 [trx_usd])\n",
      "301980 long TradingPair(271832 [etc_usd]) short TradingPair(333257 [eos_usd])\n",
      "301980 short TradingPair(98871 [btc_usd]) long TradingPair(271832 [etc_usd])\n",
      "302100 stop-loss of long: TradingPair(125865 [neo_usd]), TradingPair(347956 [ltc_usd])\n",
      "302100 long TradingPair(125865 [neo_usd]) short TradingPair(657702 [trx_usd])\n",
      "302160 short TradingPair(347956 [ltc_usd]) long TradingPair(657702 [trx_usd])\n",
      "302220 stop-loss of long: TradingPair(271832 [etc_usd]), TradingPair(333257 [eos_usd])\n",
      "302280 stop-loss of short: TradingPair(347956 [ltc_usd]), TradingPair(657702 [trx_usd])\n",
      "302340 unban of short: TradingPair(347956 [ltc_usd]), TradingPair(657702 [trx_usd])\n"
     ]
    },
    {
     "data": {
      "text/plain": [
       "110.3134479821636"
      ]
     },
     "metadata": {},
     "output_type": "display_data"
    },
    {
     "name": "stdout",
     "output_type": "stream",
     "text": [
      "2018-11-16 00:00:00+00:00 302400\n",
      "302520 long TradingPair(125865 [neo_usd]) short TradingPair(657702 [trx_usd])\n",
      "302640 long TradingPair(347956 [ltc_usd]) short TradingPair(657702 [trx_usd])\n",
      "303420 stop-loss of long: TradingPair(347956 [ltc_usd]), TradingPair(657702 [trx_usd])\n",
      "303480 stop-loss of long: TradingPair(125865 [neo_usd]), TradingPair(657702 [trx_usd])\n",
      "303660 unban of long: TradingPair(125865 [neo_usd]), TradingPair(657702 [trx_usd])\n",
      "304200 long TradingPair(125865 [neo_usd]) short TradingPair(657702 [trx_usd])\n",
      "304260 stop-loss of long: TradingPair(125865 [neo_usd]), TradingPair(657702 [trx_usd])\n"
     ]
    },
    {
     "data": {
      "text/plain": [
       "109.68913116234836"
      ]
     },
     "metadata": {},
     "output_type": "display_data"
    },
    {
     "name": "stdout",
     "output_type": "stream",
     "text": [
      "2018-11-17 16:00:00+00:00 304800\n",
      "305100 long TradingPair(347956 [ltc_usd]) short TradingPair(909928 [xmr_usd])\n",
      "305340 stop-loss of long: TradingPair(347956 [ltc_usd]), TradingPair(909928 [xmr_usd])\n",
      "305760 unban of long: TradingPair(347956 [ltc_usd]), TradingPair(909928 [xmr_usd])\n",
      "305880 long TradingPair(347956 [ltc_usd]) short TradingPair(909928 [xmr_usd])\n",
      "307140 short TradingPair(347956 [ltc_usd]) long TradingPair(657702 [trx_usd])\n",
      "307140 long TradingPair(125865 [neo_usd]) short TradingPair(271832 [etc_usd])\n",
      "307140 short TradingPair(333257 [eos_usd]) long TradingPair(657702 [trx_usd])\n"
     ]
    },
    {
     "data": {
      "text/plain": [
       "109.5551711509209"
      ]
     },
     "metadata": {},
     "output_type": "display_data"
    },
    {
     "name": "stdout",
     "output_type": "stream",
     "text": [
      "2018-11-19 08:00:00+00:00 307200\n",
      "307620 short TradingPair(32597 [eth_usd]) long TradingPair(657702 [trx_usd])\n",
      "307740 long TradingPair(271832 [etc_usd]) short TradingPair(347956 [ltc_usd])\n",
      "307800 take profit of short: TradingPair(32597 [eth_usd]), TradingPair(657702 [trx_usd])\n",
      "307860 short TradingPair(32597 [eth_usd]) long TradingPair(657702 [trx_usd])\n",
      "308160 long TradingPair(32597 [eth_usd]) short TradingPair(333257 [eos_usd])\n",
      "308220 take profit of short: TradingPair(32597 [eth_usd]), TradingPair(657702 [trx_usd])\n",
      "308280 short TradingPair(347956 [ltc_usd]) long TradingPair(657702 [trx_usd])\n",
      "308460 long TradingPair(125865 [neo_usd]) short TradingPair(271832 [etc_usd])\n",
      "308460 stop-loss of long: TradingPair(125865 [neo_usd]), TradingPair(271832 [etc_usd])\n",
      "308460 stop-loss of long: TradingPair(32597 [eth_usd]), TradingPair(333257 [eos_usd])\n",
      "308520 stop-loss of short: TradingPair(347956 [ltc_usd]), TradingPair(657702 [trx_usd])\n",
      "308520 short TradingPair(32597 [eth_usd]) long TradingPair(657702 [trx_usd])\n",
      "308520 stop-loss of short: TradingPair(32597 [eth_usd]), TradingPair(657702 [trx_usd])\n",
      "308580 stop-loss of long: TradingPair(271832 [etc_usd]), TradingPair(347956 [ltc_usd])\n",
      "308700 unban of long: TradingPair(125865 [neo_usd]), TradingPair(271832 [etc_usd])\n",
      "308700 unban of long: TradingPair(32597 [eth_usd]), TradingPair(333257 [eos_usd])\n",
      "308760 long TradingPair(32597 [eth_usd]) short TradingPair(333257 [eos_usd])\n",
      "309000 stop-loss of long: TradingPair(32597 [eth_usd]), TradingPair(333257 [eos_usd])\n",
      "309060 unban of short: TradingPair(347956 [ltc_usd]), TradingPair(657702 [trx_usd])\n",
      "309060 unban of long: TradingPair(32597 [eth_usd]), TradingPair(333257 [eos_usd])\n",
      "309060 unban of short: TradingPair(32597 [eth_usd]), TradingPair(657702 [trx_usd])\n",
      "309120 unban of long: TradingPair(271832 [etc_usd]), TradingPair(347956 [ltc_usd])\n",
      "309180 short TradingPair(347956 [ltc_usd]) long TradingPair(657702 [trx_usd])\n",
      "309180 long TradingPair(125865 [neo_usd]) short TradingPair(271832 [etc_usd])\n",
      "309240 short TradingPair(32597 [eth_usd]) long TradingPair(657702 [trx_usd])\n",
      "309360 take profit of short: TradingPair(32597 [eth_usd]), TradingPair(657702 [trx_usd])\n",
      "309360 long TradingPair(271832 [etc_usd]) short TradingPair(347956 [ltc_usd])\n",
      "309420 long TradingPair(32597 [eth_usd]) short TradingPair(333257 [eos_usd])\n",
      "309420 short TradingPair(32597 [eth_usd]) long TradingPair(657702 [trx_usd])\n",
      "309480 stop-loss of short: TradingPair(347956 [ltc_usd]), TradingPair(657702 [trx_usd])\n",
      "309480 stop-loss of long: TradingPair(32597 [eth_usd]), TradingPair(333257 [eos_usd])\n",
      "309540 take profit of short: TradingPair(32597 [eth_usd]), TradingPair(657702 [trx_usd])\n"
     ]
    },
    {
     "data": {
      "text/plain": [
       "109.61183838010778"
      ]
     },
     "metadata": {},
     "output_type": "display_data"
    },
    {
     "name": "stdout",
     "output_type": "stream",
     "text": [
      "2018-11-21 00:00:00+00:00 309600\n",
      "309840 long TradingPair(32597 [eth_usd]) short TradingPair(652614 [iot_usd])\n",
      "309840 short TradingPair(652614 [iot_usd]) long TradingPair(657702 [trx_usd])\n",
      "309840 stop-loss of short: TradingPair(652614 [iot_usd]), TradingPair(657702 [trx_usd])\n",
      "309960 unban of short: TradingPair(652614 [iot_usd]), TradingPair(657702 [trx_usd])\n",
      "310020 short TradingPair(652614 [iot_usd]) long TradingPair(657702 [trx_usd])\n",
      "310200 take profit of short: TradingPair(652614 [iot_usd]), TradingPair(657702 [trx_usd])\n",
      "310560 short TradingPair(32597 [eth_usd]) long TradingPair(347956 [ltc_usd])\n",
      "310620 short TradingPair(652614 [iot_usd]) long TradingPair(657702 [trx_usd])\n",
      "310860 stop-loss of long: TradingPair(32597 [eth_usd]), TradingPair(652614 [iot_usd])\n",
      "310860 stop-loss of short: TradingPair(652614 [iot_usd]), TradingPair(657702 [trx_usd])\n",
      "311040 take profit of short: TradingPair(32597 [eth_usd]), TradingPair(347956 [ltc_usd])\n",
      "311460 long TradingPair(32597 [eth_usd]) short TradingPair(657702 [trx_usd])\n"
     ]
    },
    {
     "data": {
      "text/plain": [
       "110.03813906831056"
      ]
     },
     "metadata": {},
     "output_type": "display_data"
    },
    {
     "name": "stdout",
     "output_type": "stream",
     "text": [
      "2018-11-22 16:00:00+00:00 312000\n",
      "312540 short TradingPair(98871 [btc_usd]) long TradingPair(333257 [eos_usd])\n",
      "312660 take profit of short: TradingPair(98871 [btc_usd]), TradingPair(333257 [eos_usd])\n",
      "313080 long TradingPair(32597 [eth_usd]) short TradingPair(347956 [ltc_usd])\n",
      "313380 long TradingPair(32597 [eth_usd]) short TradingPair(657702 [trx_usd])\n",
      "313380 long TradingPair(32597 [eth_usd]) short TradingPair(909928 [xmr_usd])\n"
     ]
    },
    {
     "data": {
      "text/plain": [
       "110.84567073590819"
      ]
     },
     "metadata": {},
     "output_type": "display_data"
    },
    {
     "name": "stdout",
     "output_type": "stream",
     "text": [
      "2018-11-24 08:00:00+00:00 314400\n",
      "315240 long TradingPair(98871 [btc_usd]) short TradingPair(333257 [eos_usd])\n",
      "315240 short TradingPair(32597 [eth_usd]) long TradingPair(271832 [etc_usd])\n",
      "315240 stop-loss of short: TradingPair(32597 [eth_usd]), TradingPair(271832 [etc_usd])\n",
      "315240 long TradingPair(652614 [iot_usd]) short TradingPair(657702 [trx_usd])\n",
      "315300 unban of short: TradingPair(32597 [eth_usd]), TradingPair(271832 [etc_usd])\n",
      "315420 short TradingPair(347956 [ltc_usd]) long TradingPair(652614 [iot_usd])\n",
      "315540 short TradingPair(32597 [eth_usd]) long TradingPair(657702 [trx_usd])\n",
      "315540 take profit of long: TradingPair(98871 [btc_usd]), TradingPair(333257 [eos_usd])\n",
      "315540 stop-loss of short: TradingPair(347956 [ltc_usd]), TradingPair(652614 [iot_usd])\n",
      "315660 take profit of long: TradingPair(652614 [iot_usd]), TradingPair(657702 [trx_usd])\n",
      "315720 long TradingPair(652614 [iot_usd]) short TradingPair(657702 [trx_usd])\n",
      "316020 take profit of long: TradingPair(652614 [iot_usd]), TradingPair(657702 [trx_usd])\n",
      "316080 unban of short: TradingPair(347956 [ltc_usd]), TradingPair(652614 [iot_usd])\n",
      "316260 short TradingPair(32597 [eth_usd]) long TradingPair(271832 [etc_usd])\n",
      "316320 stop-loss of short: TradingPair(32597 [eth_usd]), TradingPair(657702 [trx_usd])\n",
      "316500 short TradingPair(347956 [ltc_usd]) long TradingPair(652614 [iot_usd])\n",
      "316680 stop-loss of short: TradingPair(347956 [ltc_usd]), TradingPair(652614 [iot_usd])\n"
     ]
    },
    {
     "data": {
      "text/plain": [
       "112.05324937797582"
      ]
     },
     "metadata": {},
     "output_type": "display_data"
    },
    {
     "name": "stdout",
     "output_type": "stream",
     "text": [
      "2018-11-26 00:00:00+00:00 316800\n",
      "317160 long TradingPair(32597 [eth_usd]) short TradingPair(657702 [trx_usd])\n",
      "317220 long TradingPair(333257 [eos_usd]) short TradingPair(347956 [ltc_usd])\n",
      "317340 take profit of long: TradingPair(32597 [eth_usd]), TradingPair(657702 [trx_usd])\n",
      "317700 take profit of long: TradingPair(333257 [eos_usd]), TradingPair(347956 [ltc_usd])\n",
      "317700 short TradingPair(32597 [eth_usd]) long TradingPair(271832 [etc_usd])\n",
      "317880 take profit of short: TradingPair(32597 [eth_usd]), TradingPair(271832 [etc_usd])\n",
      "318000 long TradingPair(32597 [eth_usd]) short TradingPair(657702 [trx_usd])\n",
      "318240 short TradingPair(32597 [eth_usd]) long TradingPair(271832 [etc_usd])\n",
      "318360 take profit of short: TradingPair(32597 [eth_usd]), TradingPair(271832 [etc_usd])\n",
      "318480 long TradingPair(98871 [btc_usd]) short TradingPair(347956 [ltc_usd])\n",
      "318480 long TradingPair(333257 [eos_usd]) short TradingPair(347956 [ltc_usd])\n",
      "318480 stop-loss of long: TradingPair(333257 [eos_usd]), TradingPair(347956 [ltc_usd])\n",
      "318900 short TradingPair(98871 [btc_usd]) long TradingPair(333257 [eos_usd])\n",
      "318900 stop-loss of short: TradingPair(98871 [btc_usd]), TradingPair(333257 [eos_usd])\n"
     ]
    },
    {
     "data": {
      "text/plain": [
       "114.59726336991673"
      ]
     },
     "metadata": {},
     "output_type": "display_data"
    },
    {
     "name": "stdout",
     "output_type": "stream",
     "text": [
      "2018-11-27 16:00:00+00:00 319200\n",
      "319560 long TradingPair(125865 [neo_usd]) short TradingPair(271832 [etc_usd])\n",
      "319680 take profit of long: TradingPair(125865 [neo_usd]), TradingPair(271832 [etc_usd])\n",
      "320460 short TradingPair(125865 [neo_usd]) long TradingPair(271832 [etc_usd])\n",
      "320520 stop-loss of short: TradingPair(125865 [neo_usd]), TradingPair(271832 [etc_usd])\n",
      "320520 long TradingPair(333257 [eos_usd]) short TradingPair(347956 [ltc_usd])\n",
      "320580 long TradingPair(98871 [btc_usd]) short TradingPair(657702 [trx_usd])\n",
      "320580 stop-loss of long: TradingPair(98871 [btc_usd]), TradingPair(657702 [trx_usd])\n",
      "320580 stop-loss of long: TradingPair(333257 [eos_usd]), TradingPair(347956 [ltc_usd])\n",
      "321000 unban of long: TradingPair(333257 [eos_usd]), TradingPair(347956 [ltc_usd])\n",
      "321120 long TradingPair(333257 [eos_usd]) short TradingPair(347956 [ltc_usd])\n",
      "321300 stop-loss of long: TradingPair(333257 [eos_usd]), TradingPair(347956 [ltc_usd])\n"
     ]
    },
    {
     "data": {
      "text/plain": [
       "113.48327623202007"
      ]
     },
     "metadata": {},
     "output_type": "display_data"
    },
    {
     "name": "stdout",
     "output_type": "stream",
     "text": [
      "2018-11-29 08:00:00+00:00 321600\n",
      "321840 short TradingPair(125865 [neo_usd]) long TradingPair(271832 [etc_usd])\n",
      "321840 short TradingPair(125865 [neo_usd]) long TradingPair(587847 [xrp_usd])\n",
      "321840 stop-loss of short: TradingPair(125865 [neo_usd]), TradingPair(587847 [xrp_usd])\n",
      "321960 unban of short: TradingPair(125865 [neo_usd]), TradingPair(587847 [xrp_usd])\n",
      "322140 short TradingPair(125865 [neo_usd]) long TradingPair(587847 [xrp_usd])\n",
      "323040 take profit of short: TradingPair(125865 [neo_usd]), TradingPair(271832 [etc_usd])\n",
      "323040 take profit of short: TradingPair(125865 [neo_usd]), TradingPair(587847 [xrp_usd])\n",
      "323220 long TradingPair(125865 [neo_usd]) short TradingPair(271832 [etc_usd])\n",
      "323220 long TradingPair(125865 [neo_usd]) short TradingPair(587847 [xrp_usd])\n",
      "323280 stop-loss of long: TradingPair(125865 [neo_usd]), TradingPair(271832 [etc_usd])\n",
      "323280 stop-loss of long: TradingPair(125865 [neo_usd]), TradingPair(587847 [xrp_usd])\n",
      "323580 unban of long: TradingPair(125865 [neo_usd]), TradingPair(271832 [etc_usd])\n",
      "323580 unban of long: TradingPair(125865 [neo_usd]), TradingPair(587847 [xrp_usd])\n",
      "323700 long TradingPair(125865 [neo_usd]) short TradingPair(271832 [etc_usd])\n",
      "323880 stop-loss of long: TradingPair(125865 [neo_usd]), TradingPair(271832 [etc_usd])\n",
      "323880 long TradingPair(125865 [neo_usd]) short TradingPair(587847 [xrp_usd])\n",
      "323880 stop-loss of long: TradingPair(125865 [neo_usd]), TradingPair(587847 [xrp_usd])\n"
     ]
    },
    {
     "data": {
      "text/plain": [
       "114.15067660584826"
      ]
     },
     "metadata": {},
     "output_type": "display_data"
    },
    {
     "name": "stdout",
     "output_type": "stream",
     "text": [
      "2018-12-01 00:00:00+00:00 324000\n",
      "324300 long TradingPair(271832 [etc_usd]) short TradingPair(587847 [xrp_usd])\n",
      "324660 long TradingPair(32597 [eth_usd]) short TradingPair(125865 [neo_usd])\n",
      "324660 short TradingPair(125865 [neo_usd]) long TradingPair(587847 [xrp_usd])\n",
      "324720 short TradingPair(32597 [eth_usd]) long TradingPair(587847 [xrp_usd])\n",
      "324720 take profit of long: TradingPair(271832 [etc_usd]), TradingPair(587847 [xrp_usd])\n",
      "325080 stop-loss of short: TradingPair(125865 [neo_usd]), TradingPair(587847 [xrp_usd])\n",
      "325500 stop-loss of long: TradingPair(32597 [eth_usd]), TradingPair(125865 [neo_usd])\n",
      "326100 unban of long: TradingPair(32597 [eth_usd]), TradingPair(125865 [neo_usd])\n",
      "326160 long TradingPair(32597 [eth_usd]) short TradingPair(125865 [neo_usd])\n"
     ]
    },
    {
     "data": {
      "text/plain": [
       "115.12294730842562"
      ]
     },
     "metadata": {},
     "output_type": "display_data"
    },
    {
     "name": "stdout",
     "output_type": "stream",
     "text": [
      "2018-12-02 16:00:00+00:00 326400\n",
      "326760 long TradingPair(32597 [eth_usd]) short TradingPair(271832 [etc_usd])\n",
      "327060 take profit of long: TradingPair(32597 [eth_usd]), TradingPair(271832 [etc_usd])\n",
      "327780 short TradingPair(32597 [eth_usd]) long TradingPair(271832 [etc_usd])\n",
      "327780 short TradingPair(98871 [btc_usd]) long TradingPair(271832 [etc_usd])\n",
      "328200 stop-loss of short: TradingPair(98871 [btc_usd]), TradingPair(271832 [etc_usd])\n",
      "328260 stop-loss of short: TradingPair(32597 [eth_usd]), TradingPair(271832 [etc_usd])\n",
      "328260 long TradingPair(271832 [etc_usd]) short TradingPair(652614 [iot_usd])\n",
      "328260 stop-loss of long: TradingPair(271832 [etc_usd]), TradingPair(652614 [iot_usd])\n",
      "328440 unban of long: TradingPair(271832 [etc_usd]), TradingPair(652614 [iot_usd])\n",
      "328740 long TradingPair(271832 [etc_usd]) short TradingPair(652614 [iot_usd])\n"
     ]
    },
    {
     "data": {
      "text/plain": [
       "114.73659050370657"
      ]
     },
     "metadata": {},
     "output_type": "display_data"
    },
    {
     "name": "stdout",
     "output_type": "stream",
     "text": [
      "2018-12-04 08:00:00+00:00 328800\n",
      "330780 short TradingPair(98871 [btc_usd]) long TradingPair(652614 [iot_usd])\n",
      "330780 long TradingPair(32597 [eth_usd]) short TradingPair(587847 [xrp_usd])\n"
     ]
    },
    {
     "data": {
      "text/plain": [
       "115.13115441850528"
      ]
     },
     "metadata": {},
     "output_type": "display_data"
    },
    {
     "name": "stdout",
     "output_type": "stream",
     "text": [
      "2018-12-06 00:00:00+00:00 331200\n",
      "331860 long TradingPair(32597 [eth_usd]) short TradingPair(98871 [btc_usd])\n",
      "332340 long TradingPair(125865 [neo_usd]) short TradingPair(347956 [ltc_usd])\n",
      "332580 stop-loss of long: TradingPair(32597 [eth_usd]), TradingPair(98871 [btc_usd])\n",
      "332640 short TradingPair(98871 [btc_usd]) long TradingPair(652614 [iot_usd])\n",
      "332640 stop-loss of long: TradingPair(125865 [neo_usd]), TradingPair(347956 [ltc_usd])\n",
      "332820 long TradingPair(32597 [eth_usd]) short TradingPair(347956 [ltc_usd])\n",
      "332880 stop-loss of short: TradingPair(98871 [btc_usd]), TradingPair(652614 [iot_usd])\n",
      "333240 unban of long: TradingPair(125865 [neo_usd]), TradingPair(347956 [ltc_usd])\n",
      "333540 take profit of long: TradingPair(32597 [eth_usd]), TradingPair(347956 [ltc_usd])\n"
     ]
    },
    {
     "data": {
      "text/plain": [
       "114.41160169479895"
      ]
     },
     "metadata": {},
     "output_type": "display_data"
    },
    {
     "name": "stdout",
     "output_type": "stream",
     "text": [
      "2018-12-07 16:00:00+00:00 333600\n",
      "333720 short TradingPair(32597 [eth_usd]) long TradingPair(347956 [ltc_usd])\n",
      "333840 short TradingPair(32597 [eth_usd]) long TradingPair(125865 [neo_usd])\n",
      "333840 stop-loss of short: TradingPair(32597 [eth_usd]), TradingPair(347956 [ltc_usd])\n",
      "333960 short TradingPair(125865 [neo_usd]) long TradingPair(347956 [ltc_usd])\n",
      "334140 long TradingPair(98871 [btc_usd]) short TradingPair(587847 [xrp_usd])\n",
      "334140 stop-loss of long: TradingPair(98871 [btc_usd]), TradingPair(587847 [xrp_usd])\n",
      "334140 take profit of short: TradingPair(32597 [eth_usd]), TradingPair(125865 [neo_usd])\n",
      "334140 stop-loss of short: TradingPair(125865 [neo_usd]), TradingPair(347956 [ltc_usd])\n",
      "334200 unban of short: TradingPair(32597 [eth_usd]), TradingPair(347956 [ltc_usd])\n",
      "334200 unban of short: TradingPair(125865 [neo_usd]), TradingPair(347956 [ltc_usd])\n",
      "334260 short TradingPair(32597 [eth_usd]) long TradingPair(347956 [ltc_usd])\n",
      "334260 short TradingPair(125865 [neo_usd]) long TradingPair(347956 [ltc_usd])\n",
      "334380 unban of long: TradingPair(98871 [btc_usd]), TradingPair(587847 [xrp_usd])\n",
      "334860 stop-loss of short: TradingPair(32597 [eth_usd]), TradingPair(347956 [ltc_usd])\n",
      "335160 unban of short: TradingPair(32597 [eth_usd]), TradingPair(347956 [ltc_usd])\n",
      "335220 short TradingPair(32597 [eth_usd]) long TradingPair(347956 [ltc_usd])\n",
      "335460 short TradingPair(98871 [btc_usd]) long TradingPair(587847 [xrp_usd])\n",
      "335460 stop-loss of short: TradingPair(32597 [eth_usd]), TradingPair(347956 [ltc_usd])\n",
      "335460 stop-loss of short: TradingPair(125865 [neo_usd]), TradingPair(347956 [ltc_usd])\n",
      "335520 unban of short: TradingPair(125865 [neo_usd]), TradingPair(347956 [ltc_usd])\n",
      "335580 short TradingPair(125865 [neo_usd]) long TradingPair(347956 [ltc_usd])\n",
      "335640 take profit of short: TradingPair(98871 [btc_usd]), TradingPair(587847 [xrp_usd])\n",
      "335940 unban of short: TradingPair(32597 [eth_usd]), TradingPair(347956 [ltc_usd])\n"
     ]
    },
    {
     "data": {
      "text/plain": [
       "114.49643373830627"
      ]
     },
     "metadata": {},
     "output_type": "display_data"
    },
    {
     "name": "stdout",
     "output_type": "stream",
     "text": [
      "2018-12-09 08:00:00+00:00 336000\n",
      "336420 short TradingPair(125865 [neo_usd]) long TradingPair(652614 [iot_usd])\n",
      "336480 short TradingPair(32597 [eth_usd]) long TradingPair(652614 [iot_usd])\n",
      "336480 short TradingPair(125865 [neo_usd]) long TradingPair(347956 [ltc_usd])\n",
      "336540 stop-loss of short: TradingPair(125865 [neo_usd]), TradingPair(652614 [iot_usd])\n",
      "336720 stop-loss of short: TradingPair(32597 [eth_usd]), TradingPair(652614 [iot_usd])\n",
      "336720 unban of short: TradingPair(125865 [neo_usd]), TradingPair(652614 [iot_usd])\n",
      "336840 unban of short: TradingPair(32597 [eth_usd]), TradingPair(652614 [iot_usd])\n",
      "336960 short TradingPair(98871 [btc_usd]) long TradingPair(587847 [xrp_usd])\n",
      "337020 short TradingPair(32597 [eth_usd]) long TradingPair(652614 [iot_usd])\n",
      "337260 stop-loss of short: TradingPair(98871 [btc_usd]), TradingPair(587847 [xrp_usd])\n",
      "337380 unban of short: TradingPair(98871 [btc_usd]), TradingPair(587847 [xrp_usd])\n",
      "337500 take profit of short: TradingPair(32597 [eth_usd]), TradingPair(652614 [iot_usd])\n",
      "337500 short TradingPair(98871 [btc_usd]) long TradingPair(587847 [xrp_usd])\n",
      "337500 stop-loss of short: TradingPair(125865 [neo_usd]), TradingPair(347956 [ltc_usd])\n",
      "337560 unban of short: TradingPair(125865 [neo_usd]), TradingPair(347956 [ltc_usd])\n",
      "337680 short TradingPair(125865 [neo_usd]) long TradingPair(347956 [ltc_usd])\n",
      "337800 stop-loss of short: TradingPair(98871 [btc_usd]), TradingPair(587847 [xrp_usd])\n",
      "338160 unban of short: TradingPair(98871 [btc_usd]), TradingPair(587847 [xrp_usd])\n",
      "338220 short TradingPair(98871 [btc_usd]) long TradingPair(587847 [xrp_usd])\n"
     ]
    },
    {
     "data": {
      "text/plain": [
       "113.51375018876072"
      ]
     },
     "metadata": {},
     "output_type": "display_data"
    },
    {
     "name": "stdout",
     "output_type": "stream",
     "text": [
      "2018-12-11 00:00:00+00:00 338400\n",
      "340500 long TradingPair(98871 [btc_usd]) short TradingPair(587847 [xrp_usd])\n"
     ]
    },
    {
     "data": {
      "text/plain": [
       "113.80634373713553"
      ]
     },
     "metadata": {},
     "output_type": "display_data"
    },
    {
     "name": "stdout",
     "output_type": "stream",
     "text": [
      "2018-12-12 16:00:00+00:00 340800\n",
      "341460 short TradingPair(32597 [eth_usd]) long TradingPair(125865 [neo_usd])\n",
      "342060 short TradingPair(32597 [eth_usd]) long TradingPair(652614 [iot_usd])\n",
      "342540 long TradingPair(98871 [btc_usd]) short TradingPair(587847 [xrp_usd])\n",
      "342600 take profit of short: TradingPair(32597 [eth_usd]), TradingPair(652614 [iot_usd])\n",
      "342840 long TradingPair(125865 [neo_usd]) short TradingPair(909928 [xmr_usd])\n",
      "343020 short TradingPair(32597 [eth_usd]) long TradingPair(652614 [iot_usd])\n"
     ]
    },
    {
     "data": {
      "text/plain": [
       "114.04013714216111"
      ]
     },
     "metadata": {},
     "output_type": "display_data"
    },
    {
     "name": "stdout",
     "output_type": "stream",
     "text": [
      "2018-12-14 08:00:00+00:00 343200\n",
      "343920 short TradingPair(125865 [neo_usd]) long TradingPair(909928 [xmr_usd])\n",
      "344040 stop-loss of short: TradingPair(125865 [neo_usd]), TradingPair(909928 [xmr_usd])\n",
      "345060 long TradingPair(32597 [eth_usd]) short TradingPair(652614 [iot_usd])\n",
      "345060 stop-loss of long: TradingPair(32597 [eth_usd]), TradingPair(652614 [iot_usd])\n",
      "345060 long TradingPair(587847 [xrp_usd]) short TradingPair(652614 [iot_usd])\n",
      "345060 stop-loss of long: TradingPair(587847 [xrp_usd]), TradingPair(652614 [iot_usd])\n",
      "345480 long TradingPair(125865 [neo_usd]) short TradingPair(176889 [dsh_usd])\n",
      "345480 stop-loss of long: TradingPair(125865 [neo_usd]), TradingPair(176889 [dsh_usd])\n"
     ]
    },
    {
     "data": {
      "text/plain": [
       "113.76234582953386"
      ]
     },
     "metadata": {},
     "output_type": "display_data"
    },
    {
     "name": "stdout",
     "output_type": "stream",
     "text": [
      "2018-12-16 00:00:00+00:00 345600\n",
      "345780 long TradingPair(32597 [eth_usd]) short TradingPair(347956 [ltc_usd])\n",
      "345780 stop-loss of long: TradingPair(32597 [eth_usd]), TradingPair(347956 [ltc_usd])\n",
      "346020 long TradingPair(32597 [eth_usd]) short TradingPair(125865 [neo_usd])\n",
      "346500 take profit of long: TradingPair(32597 [eth_usd]), TradingPair(125865 [neo_usd])\n",
      "347520 long TradingPair(32597 [eth_usd]) short TradingPair(125865 [neo_usd])\n",
      "347520 stop-loss of long: TradingPair(32597 [eth_usd]), TradingPair(125865 [neo_usd])\n",
      "347520 short TradingPair(125865 [neo_usd]) long TradingPair(652614 [iot_usd])\n"
     ]
    },
    {
     "data": {
      "text/plain": [
       "114.87644777502432"
      ]
     },
     "metadata": {},
     "output_type": "display_data"
    },
    {
     "name": "stdout",
     "output_type": "stream",
     "text": [
      "2018-12-17 16:00:00+00:00 348000\n",
      "348240 short TradingPair(587847 [xrp_usd]) long TradingPair(657702 [trx_usd])\n",
      "348360 short TradingPair(652614 [iot_usd]) long TradingPair(657702 [trx_usd])\n",
      "348480 stop-loss of short: TradingPair(587847 [xrp_usd]), TradingPair(657702 [trx_usd])\n",
      "348780 take profit of short: TradingPair(652614 [iot_usd]), TradingPair(657702 [trx_usd])\n",
      "349080 long TradingPair(125865 [neo_usd]) short TradingPair(652614 [iot_usd])\n",
      "349200 short TradingPair(32597 [eth_usd]) long TradingPair(271832 [etc_usd])\n",
      "349320 short TradingPair(652614 [iot_usd]) long TradingPair(657702 [trx_usd])\n",
      "349320 stop-loss of long: TradingPair(125865 [neo_usd]), TradingPair(652614 [iot_usd])\n",
      "349380 stop-loss of short: TradingPair(652614 [iot_usd]), TradingPair(657702 [trx_usd])\n",
      "349560 take profit of short: TradingPair(32597 [eth_usd]), TradingPair(271832 [etc_usd])\n",
      "349920 short TradingPair(32597 [eth_usd]) long TradingPair(125865 [neo_usd])\n",
      "349920 short TradingPair(32597 [eth_usd]) long TradingPair(271832 [etc_usd])\n",
      "349980 unban of short: TradingPair(587847 [xrp_usd]), TradingPair(657702 [trx_usd])\n",
      "349980 unban of short: TradingPair(652614 [iot_usd]), TradingPair(657702 [trx_usd])\n",
      "350040 short TradingPair(652614 [iot_usd]) long TradingPair(657702 [trx_usd])\n",
      "350100 stop-loss of short: TradingPair(32597 [eth_usd]), TradingPair(271832 [etc_usd])\n",
      "350160 short TradingPair(587847 [xrp_usd]) long TradingPair(657702 [trx_usd])\n",
      "350160 stop-loss of short: TradingPair(587847 [xrp_usd]), TradingPair(657702 [trx_usd])\n",
      "350280 stop-loss of short: TradingPair(652614 [iot_usd]), TradingPair(657702 [trx_usd])\n"
     ]
    },
    {
     "data": {
      "text/plain": [
       "116.27872338745608"
      ]
     },
     "metadata": {},
     "output_type": "display_data"
    },
    {
     "name": "stdout",
     "output_type": "stream",
     "text": [
      "2018-12-19 08:00:00+00:00 350400\n",
      "350640 long TradingPair(587847 [xrp_usd]) short TradingPair(657702 [trx_usd])\n",
      "350760 long TradingPair(98871 [btc_usd]) short TradingPair(271832 [etc_usd])\n",
      "350760 long TradingPair(32597 [eth_usd]) short TradingPair(271832 [etc_usd])\n",
      "351000 stop-loss of long: TradingPair(98871 [btc_usd]), TradingPair(271832 [etc_usd])\n",
      "351120 stop-loss of long: TradingPair(32597 [eth_usd]), TradingPair(271832 [etc_usd])\n",
      "351960 unban of long: TradingPair(98871 [btc_usd]), TradingPair(271832 [etc_usd])\n",
      "351960 unban of long: TradingPair(32597 [eth_usd]), TradingPair(271832 [etc_usd])\n",
      "352020 stop-loss of long: TradingPair(587847 [xrp_usd]), TradingPair(657702 [trx_usd])\n",
      "352200 short TradingPair(32597 [eth_usd]) long TradingPair(125865 [neo_usd])\n",
      "352380 long TradingPair(98871 [btc_usd]) short TradingPair(271832 [etc_usd])\n",
      "352380 stop-loss of short: TradingPair(32597 [eth_usd]), TradingPair(125865 [neo_usd])\n",
      "352440 short TradingPair(32597 [eth_usd]) long TradingPair(98871 [btc_usd])\n",
      "352680 stop-loss of short: TradingPair(32597 [eth_usd]), TradingPair(98871 [btc_usd])\n",
      "352740 unban of short: TradingPair(32597 [eth_usd]), TradingPair(98871 [btc_usd])\n"
     ]
    },
    {
     "data": {
      "text/plain": [
       "114.20103574274665"
      ]
     },
     "metadata": {},
     "output_type": "display_data"
    },
    {
     "name": "stdout",
     "output_type": "stream",
     "text": [
      "2018-12-21 00:00:00+00:00 352800\n",
      "352920 long TradingPair(587847 [xrp_usd]) short TradingPair(657702 [trx_usd])\n",
      "352980 stop-loss of long: TradingPair(587847 [xrp_usd]), TradingPair(657702 [trx_usd])\n"
     ]
    },
    {
     "data": {
      "text/plain": [
       "113.73893775057252"
      ]
     },
     "metadata": {},
     "output_type": "display_data"
    },
    {
     "name": "stdout",
     "output_type": "stream",
     "text": [
      "2018-12-22 16:00:00+00:00 355200\n",
      "355920 long TradingPair(98871 [btc_usd]) short TradingPair(271832 [etc_usd])\n",
      "355920 stop-loss of long: TradingPair(98871 [btc_usd]), TradingPair(271832 [etc_usd])\n",
      "355920 short TradingPair(271832 [etc_usd]) long TradingPair(587847 [xrp_usd])\n",
      "356160 short TradingPair(32597 [eth_usd]) long TradingPair(125865 [neo_usd])\n",
      "356340 short TradingPair(125865 [neo_usd]) long TradingPair(587847 [xrp_usd])\n",
      "356340 stop-loss of short: TradingPair(125865 [neo_usd]), TradingPair(587847 [xrp_usd])\n",
      "356400 take profit of short: TradingPair(32597 [eth_usd]), TradingPair(125865 [neo_usd])\n",
      "357180 short TradingPair(32597 [eth_usd]) long TradingPair(125865 [neo_usd])\n",
      "357480 unban of short: TradingPair(125865 [neo_usd]), TradingPair(587847 [xrp_usd])\n",
      "357480 take profit of short: TradingPair(271832 [etc_usd]), TradingPair(587847 [xrp_usd])\n",
      "357480 long TradingPair(98871 [btc_usd]) short TradingPair(587847 [xrp_usd])\n",
      "357480 stop-loss of long: TradingPair(98871 [btc_usd]), TradingPair(587847 [xrp_usd])\n"
     ]
    },
    {
     "data": {
      "text/plain": [
       "118.17962327128888"
      ]
     },
     "metadata": {},
     "output_type": "display_data"
    },
    {
     "name": "stdout",
     "output_type": "stream",
     "text": [
      "2018-12-24 08:00:00+00:00 357600\n"
     ]
    },
    {
     "data": {
      "text/plain": [
       "118.18662569942698"
      ]
     },
     "metadata": {},
     "output_type": "display_data"
    },
    {
     "name": "stdout",
     "output_type": "stream",
     "text": [
      "2018-12-26 00:00:00+00:00 360000\n",
      "361320 short TradingPair(333257 [eos_usd]) long TradingPair(347956 [ltc_usd])\n"
     ]
    },
    {
     "data": {
      "text/plain": [
       "118.41414706238938"
      ]
     },
     "metadata": {},
     "output_type": "display_data"
    },
    {
     "name": "stdout",
     "output_type": "stream",
     "text": [
      "2018-12-27 16:00:00+00:00 362400\n",
      "363000 long TradingPair(333257 [eos_usd]) short TradingPair(347956 [ltc_usd])\n",
      "363600 stop-loss of long: TradingPair(333257 [eos_usd]), TradingPair(347956 [ltc_usd])\n",
      "363900 long TradingPair(98871 [btc_usd]) short TradingPair(347956 [ltc_usd])\n",
      "363960 unban of long: TradingPair(333257 [eos_usd]), TradingPair(347956 [ltc_usd])\n",
      "364020 long TradingPair(333257 [eos_usd]) short TradingPair(347956 [ltc_usd])\n",
      "364620 take profit of long: TradingPair(333257 [eos_usd]), TradingPair(347956 [ltc_usd])\n"
     ]
    },
    {
     "data": {
      "text/plain": [
       "118.55103242687443"
      ]
     },
     "metadata": {},
     "output_type": "display_data"
    },
    {
     "name": "stdout",
     "output_type": "stream",
     "text": [
      "2018-12-29 08:00:00+00:00 364800\n"
     ]
    },
    {
     "data": {
      "text/plain": [
       "118.55665569496618"
      ]
     },
     "metadata": {},
     "output_type": "display_data"
    },
    {
     "name": "stdout",
     "output_type": "stream",
     "text": [
      "2018-12-31 00:00:00+00:00 367200\n",
      "367920 long TradingPair(265391 [zec_usd]) short TradingPair(909928 [xmr_usd])\n",
      "368400 stop-loss of long: TradingPair(265391 [zec_usd]), TradingPair(909928 [xmr_usd])\n",
      "368400 long TradingPair(347956 [ltc_usd]) short TradingPair(652614 [iot_usd])\n",
      "368700 unban of long: TradingPair(265391 [zec_usd]), TradingPair(909928 [xmr_usd])\n"
     ]
    },
    {
     "data": {
      "text/plain": [
       "118.8307643444009"
      ]
     },
     "metadata": {},
     "output_type": "display_data"
    },
    {
     "name": "stdout",
     "output_type": "stream",
     "text": [
      "2019-01-01 16:00:00+00:00 369600\n",
      "370560 long TradingPair(176889 [dsh_usd]) short TradingPair(909928 [xmr_usd])\n",
      "371100 long TradingPair(265391 [zec_usd]) short TradingPair(909928 [xmr_usd])\n",
      "371100 stop-loss of long: TradingPair(265391 [zec_usd]), TradingPair(909928 [xmr_usd])\n",
      "371100 stop-loss of long: TradingPair(176889 [dsh_usd]), TradingPair(909928 [xmr_usd])\n",
      "371220 short TradingPair(333257 [eos_usd]) long TradingPair(347956 [ltc_usd])\n",
      "371280 stop-loss of short: TradingPair(333257 [eos_usd]), TradingPair(347956 [ltc_usd])\n",
      "371400 unban of short: TradingPair(333257 [eos_usd]), TradingPair(347956 [ltc_usd])\n",
      "371460 short TradingPair(333257 [eos_usd]) long TradingPair(347956 [ltc_usd])\n",
      "371460 unban of long: TradingPair(265391 [zec_usd]), TradingPair(909928 [xmr_usd])\n",
      "371520 long TradingPair(265391 [zec_usd]) short TradingPair(909928 [xmr_usd])\n",
      "371520 stop-loss of long: TradingPair(265391 [zec_usd]), TradingPair(909928 [xmr_usd])\n",
      "371580 short TradingPair(176889 [dsh_usd]) long TradingPair(587847 [xrp_usd])\n"
     ]
    },
    {
     "data": {
      "text/plain": [
       "118.41060428158156"
      ]
     },
     "metadata": {},
     "output_type": "display_data"
    },
    {
     "name": "stdout",
     "output_type": "stream",
     "text": [
      "2019-01-03 08:00:00+00:00 372000\n",
      "372420 long TradingPair(587847 [xrp_usd]) short TradingPair(657702 [trx_usd])\n",
      "372420 stop-loss of long: TradingPair(587847 [xrp_usd]), TradingPair(657702 [trx_usd])\n"
     ]
    },
    {
     "data": {
      "text/plain": [
       "118.398378951212"
      ]
     },
     "metadata": {},
     "output_type": "display_data"
    },
    {
     "name": "stdout",
     "output_type": "stream",
     "text": [
      "2019-01-05 00:00:00+00:00 374400\n",
      "374940 long TradingPair(333257 [eos_usd]) short TradingPair(347956 [ltc_usd])\n",
      "375120 stop-loss of long: TradingPair(333257 [eos_usd]), TradingPair(347956 [ltc_usd])\n",
      "375180 long TradingPair(176889 [dsh_usd]) short TradingPair(657702 [trx_usd])\n",
      "375180 stop-loss of long: TradingPair(176889 [dsh_usd]), TradingPair(657702 [trx_usd])\n",
      "375480 unban of long: TradingPair(176889 [dsh_usd]), TradingPair(657702 [trx_usd])\n",
      "375600 long TradingPair(176889 [dsh_usd]) short TradingPair(657702 [trx_usd])\n"
     ]
    },
    {
     "data": {
      "text/plain": [
       "118.36745783228383"
      ]
     },
     "metadata": {},
     "output_type": "display_data"
    },
    {
     "name": "stdout",
     "output_type": "stream",
     "text": [
      "2019-01-06 16:00:00+00:00 376800\n",
      "376860 long TradingPair(125865 [neo_usd]) short TradingPair(271832 [etc_usd])\n",
      "376860 long TradingPair(176889 [dsh_usd]) short TradingPair(271832 [etc_usd])\n",
      "376980 take profit of long: TradingPair(125865 [neo_usd]), TradingPair(271832 [etc_usd])\n",
      "376980 take profit of long: TradingPair(176889 [dsh_usd]), TradingPair(271832 [etc_usd])\n",
      "377220 long TradingPair(333257 [eos_usd]) short TradingPair(909928 [xmr_usd])\n",
      "377280 stop-loss of long: TradingPair(333257 [eos_usd]), TradingPair(909928 [xmr_usd])\n",
      "377460 short TradingPair(176889 [dsh_usd]) long TradingPair(271832 [etc_usd])\n",
      "377520 short TradingPair(125865 [neo_usd]) long TradingPair(271832 [etc_usd])\n",
      "377520 stop-loss of short: TradingPair(176889 [dsh_usd]), TradingPair(271832 [etc_usd])\n",
      "377580 stop-loss of short: TradingPair(125865 [neo_usd]), TradingPair(271832 [etc_usd])\n",
      "377580 unban of long: TradingPair(333257 [eos_usd]), TradingPair(909928 [xmr_usd])\n",
      "377700 unban of short: TradingPair(125865 [neo_usd]), TradingPair(271832 [etc_usd])\n",
      "377700 long TradingPair(333257 [eos_usd]) short TradingPair(909928 [xmr_usd])\n",
      "377820 unban of short: TradingPair(176889 [dsh_usd]), TradingPair(271832 [etc_usd])\n",
      "377880 short TradingPair(176889 [dsh_usd]) long TradingPair(271832 [etc_usd])\n",
      "377880 stop-loss of long: TradingPair(333257 [eos_usd]), TradingPair(909928 [xmr_usd])\n",
      "378420 unban of long: TradingPair(333257 [eos_usd]), TradingPair(909928 [xmr_usd])\n",
      "378480 short TradingPair(125865 [neo_usd]) long TradingPair(271832 [etc_usd])\n",
      "378480 stop-loss of short: TradingPair(125865 [neo_usd]), TradingPair(271832 [etc_usd])\n",
      "378480 stop-loss of short: TradingPair(176889 [dsh_usd]), TradingPair(271832 [etc_usd])\n",
      "378480 long TradingPair(333257 [eos_usd]) short TradingPair(909928 [xmr_usd])\n",
      "378480 stop-loss of long: TradingPair(333257 [eos_usd]), TradingPair(909928 [xmr_usd])\n",
      "378540 long TradingPair(271832 [etc_usd]) short TradingPair(333257 [eos_usd])\n",
      "378660 stop-loss of long: TradingPair(271832 [etc_usd]), TradingPair(333257 [eos_usd])\n"
     ]
    },
    {
     "data": {
      "text/plain": [
       "117.60491252204493"
      ]
     },
     "metadata": {},
     "output_type": "display_data"
    },
    {
     "name": "stdout",
     "output_type": "stream",
     "text": [
      "2019-01-08 08:00:00+00:00 379200\n",
      "381300 short TradingPair(333257 [eos_usd]) long TradingPair(909928 [xmr_usd])\n",
      "381480 long TradingPair(98871 [btc_usd]) short TradingPair(333257 [eos_usd])\n",
      "381480 stop-loss of long: TradingPair(98871 [btc_usd]), TradingPair(333257 [eos_usd])\n",
      "381480 short TradingPair(333257 [eos_usd]) long TradingPair(652614 [iot_usd])\n",
      "381480 stop-loss of short: TradingPair(333257 [eos_usd]), TradingPair(909928 [xmr_usd])\n"
     ]
    },
    {
     "data": {
      "text/plain": [
       "117.0874511324455"
      ]
     },
     "metadata": {},
     "output_type": "display_data"
    },
    {
     "name": "stdout",
     "output_type": "stream",
     "text": [
      "2019-01-10 00:00:00+00:00 381600\n",
      "381660 long TradingPair(176889 [dsh_usd]) short TradingPair(587847 [xrp_usd])\n",
      "382020 short TradingPair(98871 [btc_usd]) long TradingPair(176889 [dsh_usd])\n",
      "382080 stop-loss of long: TradingPair(176889 [dsh_usd]), TradingPair(587847 [xrp_usd])\n",
      "382140 short TradingPair(98871 [btc_usd]) long TradingPair(333257 [eos_usd])\n",
      "382200 stop-loss of short: TradingPair(98871 [btc_usd]), TradingPair(176889 [dsh_usd])\n",
      "382200 stop-loss of short: TradingPair(98871 [btc_usd]), TradingPair(333257 [eos_usd])\n",
      "383100 unban of long: TradingPair(176889 [dsh_usd]), TradingPair(587847 [xrp_usd])\n",
      "383160 short TradingPair(176889 [dsh_usd]) long TradingPair(333257 [eos_usd])\n",
      "383280 long TradingPair(176889 [dsh_usd]) short TradingPair(587847 [xrp_usd])\n"
     ]
    },
    {
     "data": {
      "text/plain": [
       "114.47856920401571"
      ]
     },
     "metadata": {},
     "output_type": "display_data"
    },
    {
     "name": "stdout",
     "output_type": "stream",
     "text": [
      "2019-01-11 16:00:00+00:00 384000\n",
      "384540 short TradingPair(333257 [eos_usd]) long TradingPair(909928 [xmr_usd])\n",
      "384900 short TradingPair(271832 [etc_usd]) long TradingPair(652614 [iot_usd])\n",
      "385140 stop-loss of short: TradingPair(271832 [etc_usd]), TradingPair(652614 [iot_usd])\n",
      "385740 unban of short: TradingPair(271832 [etc_usd]), TradingPair(652614 [iot_usd])\n",
      "386100 short TradingPair(271832 [etc_usd]) long TradingPair(652614 [iot_usd])\n"
     ]
    },
    {
     "data": {
      "text/plain": [
       "114.00415099741248"
      ]
     },
     "metadata": {},
     "output_type": "display_data"
    },
    {
     "name": "stdout",
     "output_type": "stream",
     "text": [
      "2019-01-13 08:00:00+00:00 386400\n",
      "387540 short TradingPair(32597 [eth_usd]) long TradingPair(652614 [iot_usd])\n",
      "387540 stop-loss of short: TradingPair(32597 [eth_usd]), TradingPair(652614 [iot_usd])\n",
      "387720 unban of short: TradingPair(32597 [eth_usd]), TradingPair(652614 [iot_usd])\n",
      "388320 short TradingPair(32597 [eth_usd]) long TradingPair(652614 [iot_usd])\n",
      "388320 stop-loss of short: TradingPair(32597 [eth_usd]), TradingPair(652614 [iot_usd])\n"
     ]
    },
    {
     "data": {
      "text/plain": [
       "113.98088262408397"
      ]
     },
     "metadata": {},
     "output_type": "display_data"
    },
    {
     "name": "stdout",
     "output_type": "stream",
     "text": [
      "2019-01-15 00:00:00+00:00 388800\n",
      "390000 short TradingPair(347956 [ltc_usd]) long TradingPair(652614 [iot_usd])\n",
      "390120 long TradingPair(32597 [eth_usd]) short TradingPair(652614 [iot_usd])\n",
      "390120 take profit of short: TradingPair(347956 [ltc_usd]), TradingPair(652614 [iot_usd])\n",
      "390120 long TradingPair(32597 [eth_usd]) short TradingPair(347956 [ltc_usd])\n",
      "390180 stop-loss of long: TradingPair(32597 [eth_usd]), TradingPair(652614 [iot_usd])\n",
      "391080 unban of long: TradingPair(32597 [eth_usd]), TradingPair(652614 [iot_usd])\n"
     ]
    },
    {
     "data": {
      "text/plain": [
       "114.8266075254358"
      ]
     },
     "metadata": {},
     "output_type": "display_data"
    },
    {
     "name": "stdout",
     "output_type": "stream",
     "text": [
      "2019-01-16 16:00:00+00:00 391200\n",
      "393120 long TradingPair(32597 [eth_usd]) short TradingPair(652614 [iot_usd])\n"
     ]
    },
    {
     "data": {
      "text/plain": [
       "114.7372364402416"
      ]
     },
     "metadata": {},
     "output_type": "display_data"
    },
    {
     "name": "stdout",
     "output_type": "stream",
     "text": [
      "2019-01-18 08:00:00+00:00 393600\n",
      "395100 long TradingPair(333257 [eos_usd]) short TradingPair(652614 [iot_usd])\n"
     ]
    },
    {
     "data": {
      "text/plain": [
       "114.97784297878331"
      ]
     },
     "metadata": {},
     "output_type": "display_data"
    },
    {
     "name": "stdout",
     "output_type": "stream",
     "text": [
      "2019-01-20 00:00:00+00:00 396000\n",
      "396420 long TradingPair(125865 [neo_usd]) short TradingPair(347956 [ltc_usd])\n",
      "397500 long TradingPair(125865 [neo_usd]) short TradingPair(652614 [iot_usd])\n",
      "398160 long TradingPair(98871 [btc_usd]) short TradingPair(587847 [xrp_usd])\n"
     ]
    },
    {
     "data": {
      "text/plain": [
       "115.48620778370706"
      ]
     },
     "metadata": {},
     "output_type": "display_data"
    },
    {
     "name": "stdout",
     "output_type": "stream",
     "text": [
      "2019-01-21 16:00:00+00:00 398400\n",
      "399660 short TradingPair(176889 [dsh_usd]) long TradingPair(587847 [xrp_usd])\n",
      "399720 stop-loss of short: TradingPair(176889 [dsh_usd]), TradingPair(587847 [xrp_usd])\n",
      "400020 long TradingPair(98871 [btc_usd]) short TradingPair(333257 [eos_usd])\n",
      "400080 long TradingPair(125865 [neo_usd]) short TradingPair(333257 [eos_usd])\n"
     ]
    },
    {
     "data": {
      "text/plain": [
       "115.68671111611995"
      ]
     },
     "metadata": {},
     "output_type": "display_data"
    },
    {
     "name": "stdout",
     "output_type": "stream",
     "text": [
      "2019-01-23 08:00:00+00:00 400800\n",
      "402780 long TradingPair(98871 [btc_usd]) short TradingPair(909928 [xmr_usd])\n",
      "402840 long TradingPair(125865 [neo_usd]) short TradingPair(347956 [ltc_usd])\n",
      "403080 stop-loss of long: TradingPair(98871 [btc_usd]), TradingPair(909928 [xmr_usd])\n"
     ]
    },
    {
     "data": {
      "text/plain": [
       "115.5915181695241"
      ]
     },
     "metadata": {},
     "output_type": "display_data"
    },
    {
     "name": "stdout",
     "output_type": "stream",
     "text": [
      "2019-01-25 00:00:00+00:00 403200\n",
      "403860 long TradingPair(125865 [neo_usd]) short TradingPair(271832 [etc_usd])\n",
      "404280 long TradingPair(333257 [eos_usd]) short TradingPair(909928 [xmr_usd])\n",
      "404280 long TradingPair(347956 [ltc_usd]) short TradingPair(909928 [xmr_usd])\n",
      "404700 take profit of long: TradingPair(347956 [ltc_usd]), TradingPair(909928 [xmr_usd])\n",
      "404760 take profit of long: TradingPair(333257 [eos_usd]), TradingPair(909928 [xmr_usd])\n"
     ]
    },
    {
     "data": {
      "text/plain": [
       "117.01104791105054"
      ]
     },
     "metadata": {},
     "output_type": "display_data"
    },
    {
     "name": "stdout",
     "output_type": "stream",
     "text": [
      "2019-01-26 16:00:00+00:00 405600\n",
      "406560 short TradingPair(98871 [btc_usd]) long TradingPair(271832 [etc_usd])\n",
      "406740 short TradingPair(98871 [btc_usd]) long TradingPair(587847 [xrp_usd])\n",
      "406920 short TradingPair(98871 [btc_usd]) long TradingPair(125865 [neo_usd])\n",
      "407040 stop-loss of short: TradingPair(98871 [btc_usd]), TradingPair(271832 [etc_usd])\n",
      "407160 take profit of short: TradingPair(98871 [btc_usd]), TradingPair(125865 [neo_usd])\n",
      "407160 short TradingPair(125865 [neo_usd]) long TradingPair(271832 [etc_usd])\n",
      "407460 unban of short: TradingPair(98871 [btc_usd]), TradingPair(271832 [etc_usd])\n",
      "407520 short TradingPair(98871 [btc_usd]) long TradingPair(271832 [etc_usd])\n",
      "407520 take profit of short: TradingPair(125865 [neo_usd]), TradingPair(271832 [etc_usd])\n",
      "407640 stop-loss of short: TradingPair(98871 [btc_usd]), TradingPair(587847 [xrp_usd])\n",
      "407640 stop-loss of short: TradingPair(98871 [btc_usd]), TradingPair(271832 [etc_usd])\n",
      "407760 short TradingPair(98871 [btc_usd]) long TradingPair(125865 [neo_usd])\n",
      "407760 stop-loss of short: TradingPair(98871 [btc_usd]), TradingPair(125865 [neo_usd])\n",
      "407880 long TradingPair(32597 [eth_usd]) short TradingPair(587847 [xrp_usd])\n"
     ]
    },
    {
     "data": {
      "text/plain": [
       "117.6344307716402"
      ]
     },
     "metadata": {},
     "output_type": "display_data"
    },
    {
     "name": "stdout",
     "output_type": "stream",
     "text": [
      "2019-01-28 08:00:00+00:00 408000\n",
      "408060 short TradingPair(98871 [btc_usd]) long TradingPair(271832 [etc_usd])\n",
      "408240 stop-loss of short: TradingPair(98871 [btc_usd]), TradingPair(271832 [etc_usd])\n",
      "408240 long TradingPair(271832 [etc_usd]) short TradingPair(333257 [eos_usd])\n",
      "408300 short TradingPair(98871 [btc_usd]) long TradingPair(587847 [xrp_usd])\n",
      "408480 short TradingPair(98871 [btc_usd]) long TradingPair(333257 [eos_usd])\n",
      "408900 take profit of long: TradingPair(271832 [etc_usd]), TradingPair(333257 [eos_usd])\n",
      "409020 unban of short: TradingPair(98871 [btc_usd]), TradingPair(271832 [etc_usd])\n",
      "409080 short TradingPair(98871 [btc_usd]) long TradingPair(271832 [etc_usd])\n",
      "409260 stop-loss of short: TradingPair(98871 [btc_usd]), TradingPair(271832 [etc_usd])\n",
      "409800 take profit of short: TradingPair(98871 [btc_usd]), TradingPair(333257 [eos_usd])\n",
      "410280 long TradingPair(271832 [etc_usd]) short TradingPair(333257 [eos_usd])\n",
      "410340 long TradingPair(32597 [eth_usd]) short TradingPair(125865 [neo_usd])\n"
     ]
    },
    {
     "data": {
      "text/plain": [
       "118.59112920975114"
      ]
     },
     "metadata": {},
     "output_type": "display_data"
    },
    {
     "name": "stdout",
     "output_type": "stream",
     "text": [
      "2019-01-30 00:00:00+00:00 410400\n",
      "410940 long TradingPair(125865 [neo_usd]) short TradingPair(587847 [xrp_usd])\n",
      "411180 long TradingPair(32597 [eth_usd]) short TradingPair(587847 [xrp_usd])\n",
      "411180 stop-loss of long: TradingPair(32597 [eth_usd]), TradingPair(587847 [xrp_usd])\n",
      "411180 stop-loss of long: TradingPair(125865 [neo_usd]), TradingPair(587847 [xrp_usd])\n",
      "411180 short TradingPair(32597 [eth_usd]) long TradingPair(125865 [neo_usd])\n",
      "411180 long TradingPair(271832 [etc_usd]) short TradingPair(587847 [xrp_usd])\n",
      "411180 stop-loss of long: TradingPair(271832 [etc_usd]), TradingPair(587847 [xrp_usd])\n",
      "412380 long TradingPair(125865 [neo_usd]) short TradingPair(271832 [etc_usd])\n",
      "412380 stop-loss of short: TradingPair(32597 [eth_usd]), TradingPair(125865 [neo_usd])\n",
      "412440 stop-loss of long: TradingPair(125865 [neo_usd]), TradingPair(271832 [etc_usd])\n"
     ]
    },
    {
     "data": {
      "text/plain": [
       "116.35699813945821"
      ]
     },
     "metadata": {},
     "output_type": "display_data"
    },
    {
     "name": "stdout",
     "output_type": "stream",
     "text": [
      "2019-01-31 16:00:00+00:00 412800\n",
      "413400 short TradingPair(98871 [btc_usd]) long TradingPair(909928 [xmr_usd])\n",
      "413400 short TradingPair(125865 [neo_usd]) long TradingPair(271832 [etc_usd])\n",
      "413520 take profit of short: TradingPair(98871 [btc_usd]), TradingPair(909928 [xmr_usd])\n",
      "413700 take profit of short: TradingPair(125865 [neo_usd]), TradingPair(271832 [etc_usd])\n",
      "413700 long TradingPair(32597 [eth_usd]) short TradingPair(271832 [etc_usd])\n",
      "414120 take profit of long: TradingPair(32597 [eth_usd]), TradingPair(271832 [etc_usd])\n",
      "414240 short TradingPair(125865 [neo_usd]) long TradingPair(271832 [etc_usd])\n",
      "414480 short TradingPair(98871 [btc_usd]) long TradingPair(909928 [xmr_usd])\n"
     ]
    },
    {
     "data": {
      "text/plain": [
       "117.37006094404332"
      ]
     },
     "metadata": {},
     "output_type": "display_data"
    },
    {
     "name": "stdout",
     "output_type": "stream",
     "text": [
      "2019-02-02 08:00:00+00:00 415200\n",
      "416160 short TradingPair(32597 [eth_usd]) long TradingPair(271832 [etc_usd])\n",
      "416160 short TradingPair(32597 [eth_usd]) long TradingPair(176889 [dsh_usd])\n",
      "416160 long TradingPair(98871 [btc_usd]) short TradingPair(347956 [ltc_usd])\n",
      "417060 take profit of short: TradingPair(32597 [eth_usd]), TradingPair(271832 [etc_usd])\n",
      "417480 take profit of short: TradingPair(32597 [eth_usd]), TradingPair(176889 [dsh_usd])\n"
     ]
    },
    {
     "data": {
      "text/plain": [
       "118.7474913243301"
      ]
     },
     "metadata": {},
     "output_type": "display_data"
    },
    {
     "name": "stdout",
     "output_type": "stream",
     "text": [
      "2019-02-04 00:00:00+00:00 417600\n",
      "418680 long TradingPair(271832 [etc_usd]) short TradingPair(652614 [iot_usd])\n",
      "418680 long TradingPair(32597 [eth_usd]) short TradingPair(652614 [iot_usd])\n",
      "419640 take profit of long: TradingPair(32597 [eth_usd]), TradingPair(652614 [iot_usd])\n"
     ]
    },
    {
     "data": {
      "text/plain": [
       "119.49795146115953"
      ]
     },
     "metadata": {},
     "output_type": "display_data"
    },
    {
     "name": "stdout",
     "output_type": "stream",
     "text": [
      "2019-02-05 16:00:00+00:00 420000\n",
      "420600 long TradingPair(271832 [etc_usd]) short TradingPair(909928 [xmr_usd])\n",
      "420600 stop-loss of long: TradingPair(271832 [etc_usd]), TradingPair(909928 [xmr_usd])\n",
      "420600 long TradingPair(32597 [eth_usd]) short TradingPair(98871 [btc_usd])\n",
      "420960 short TradingPair(32597 [eth_usd]) long TradingPair(652614 [iot_usd])\n",
      "421800 take profit of long: TradingPair(32597 [eth_usd]), TradingPair(98871 [btc_usd])\n"
     ]
    },
    {
     "data": {
      "text/plain": [
       "120.05798591532994"
      ]
     },
     "metadata": {},
     "output_type": "display_data"
    },
    {
     "name": "stdout",
     "output_type": "stream",
     "text": [
      "2019-02-07 08:00:00+00:00 422400\n",
      "422580 long TradingPair(271832 [etc_usd]) short TradingPair(652614 [iot_usd])\n",
      "422580 stop-loss of long: TradingPair(271832 [etc_usd]), TradingPair(652614 [iot_usd])\n",
      "422640 unban of long: TradingPair(271832 [etc_usd]), TradingPair(652614 [iot_usd])\n",
      "422880 long TradingPair(176889 [dsh_usd]) short TradingPair(271832 [etc_usd])\n",
      "423900 long TradingPair(271832 [etc_usd]) short TradingPair(652614 [iot_usd])\n",
      "423900 long TradingPair(98871 [btc_usd]) short TradingPair(176889 [dsh_usd])\n",
      "424020 long TradingPair(98871 [btc_usd]) short TradingPair(125865 [neo_usd])\n",
      "424080 take profit of long: TradingPair(271832 [etc_usd]), TradingPair(652614 [iot_usd])\n",
      "424140 long TradingPair(271832 [etc_usd]) short TradingPair(652614 [iot_usd])\n",
      "424140 stop-loss of long: TradingPair(98871 [btc_usd]), TradingPair(125865 [neo_usd])\n",
      "424320 take profit of long: TradingPair(271832 [etc_usd]), TradingPair(652614 [iot_usd])\n",
      "424500 short TradingPair(32597 [eth_usd]) long TradingPair(125865 [neo_usd])\n",
      "424560 stop-loss of long: TradingPair(98871 [btc_usd]), TradingPair(176889 [dsh_usd])\n",
      "424620 unban of long: TradingPair(98871 [btc_usd]), TradingPair(125865 [neo_usd])\n",
      "424620 stop-loss of short: TradingPair(32597 [eth_usd]), TradingPair(125865 [neo_usd])\n",
      "424620 take profit of long: TradingPair(176889 [dsh_usd]), TradingPair(271832 [etc_usd])\n",
      "424740 long TradingPair(98871 [btc_usd]) short TradingPair(125865 [neo_usd])\n"
     ]
    },
    {
     "data": {
      "text/plain": [
       "120.65364615646098"
      ]
     },
     "metadata": {},
     "output_type": "display_data"
    },
    {
     "name": "stdout",
     "output_type": "stream",
     "text": [
      "2019-02-09 00:00:00+00:00 424800\n",
      "426300 long TradingPair(271832 [etc_usd]) short TradingPair(652614 [iot_usd])\n",
      "426600 stop-loss of long: TradingPair(271832 [etc_usd]), TradingPair(652614 [iot_usd])\n",
      "426780 short TradingPair(32597 [eth_usd]) long TradingPair(271832 [etc_usd])\n"
     ]
    },
    {
     "data": {
      "text/plain": [
       "120.80180110627086"
      ]
     },
     "metadata": {},
     "output_type": "display_data"
    },
    {
     "name": "stdout",
     "output_type": "stream",
     "text": [
      "2019-02-10 16:00:00+00:00 427200\n",
      "427680 long TradingPair(265391 [zec_usd]) short TradingPair(271832 [etc_usd])\n",
      "427680 short TradingPair(32597 [eth_usd]) long TradingPair(652614 [iot_usd])\n",
      "428040 stop-loss of long: TradingPair(265391 [zec_usd]), TradingPair(271832 [etc_usd])\n",
      "428040 short TradingPair(125865 [neo_usd]) long TradingPair(652614 [iot_usd])\n",
      "428280 unban of long: TradingPair(265391 [zec_usd]), TradingPair(271832 [etc_usd])\n",
      "428400 stop-loss of short: TradingPair(32597 [eth_usd]), TradingPair(652614 [iot_usd])\n",
      "428400 stop-loss of short: TradingPair(125865 [neo_usd]), TradingPair(652614 [iot_usd])\n",
      "428820 long TradingPair(32597 [eth_usd]) short TradingPair(125865 [neo_usd])\n",
      "428940 short TradingPair(265391 [zec_usd]) long TradingPair(271832 [etc_usd])\n",
      "428940 stop-loss of long: TradingPair(32597 [eth_usd]), TradingPair(125865 [neo_usd])\n",
      "429180 take profit of short: TradingPair(265391 [zec_usd]), TradingPair(271832 [etc_usd])\n",
      "429420 short TradingPair(265391 [zec_usd]) long TradingPair(271832 [etc_usd])\n",
      "429420 stop-loss of short: TradingPair(265391 [zec_usd]), TradingPair(271832 [etc_usd])\n",
      "429540 unban of short: TradingPair(265391 [zec_usd]), TradingPair(271832 [etc_usd])\n"
     ]
    },
    {
     "data": {
      "text/plain": [
       "120.10160791957423"
      ]
     },
     "metadata": {},
     "output_type": "display_data"
    },
    {
     "name": "stdout",
     "output_type": "stream",
     "text": [
      "2019-02-12 08:00:00+00:00 429600\n",
      "431580 long TradingPair(32597 [eth_usd]) short TradingPair(909928 [xmr_usd])\n"
     ]
    },
    {
     "data": {
      "text/plain": [
       "120.66245404248339"
      ]
     },
     "metadata": {},
     "output_type": "display_data"
    },
    {
     "name": "stdout",
     "output_type": "stream",
     "text": [
      "2019-02-14 00:00:00+00:00 432000\n"
     ]
    },
    {
     "data": {
      "text/plain": [
       "120.6354653993122"
      ]
     },
     "metadata": {},
     "output_type": "display_data"
    },
    {
     "name": "stdout",
     "output_type": "stream",
     "text": [
      "2019-02-15 16:00:00+00:00 434400\n"
     ]
    },
    {
     "data": {
      "text/plain": [
       "120.6354653993122"
      ]
     },
     "metadata": {},
     "output_type": "display_data"
    },
    {
     "name": "stdout",
     "output_type": "stream",
     "text": [
      "2019-02-17 08:00:00+00:00 436800\n",
      "437880 short TradingPair(587847 [xrp_usd]) long TradingPair(652614 [iot_usd])\n",
      "437940 long TradingPair(125865 [neo_usd]) short TradingPair(176889 [dsh_usd])\n",
      "438540 take profit of short: TradingPair(587847 [xrp_usd]), TradingPair(652614 [iot_usd])\n",
      "438780 stop-loss of long: TradingPair(125865 [neo_usd]), TradingPair(176889 [dsh_usd])\n"
     ]
    },
    {
     "data": {
      "text/plain": [
       "121.06831849382317"
      ]
     },
     "metadata": {},
     "output_type": "display_data"
    },
    {
     "name": "stdout",
     "output_type": "stream",
     "text": [
      "2019-02-19 00:00:00+00:00 439200\n",
      "439440 long TradingPair(98871 [btc_usd]) short TradingPair(271832 [etc_usd])\n",
      "439500 short TradingPair(98871 [btc_usd]) long TradingPair(652614 [iot_usd])\n",
      "439500 short TradingPair(271832 [etc_usd]) long TradingPair(587847 [xrp_usd])\n",
      "439560 stop-loss of long: TradingPair(98871 [btc_usd]), TradingPair(271832 [etc_usd])\n",
      "439620 stop-loss of short: TradingPair(271832 [etc_usd]), TradingPair(587847 [xrp_usd])\n",
      "439680 long TradingPair(98871 [btc_usd]) short TradingPair(587847 [xrp_usd])\n",
      "439680 stop-loss of long: TradingPair(98871 [btc_usd]), TradingPair(587847 [xrp_usd])\n",
      "439680 take profit of short: TradingPair(98871 [btc_usd]), TradingPair(652614 [iot_usd])\n",
      "439740 short TradingPair(587847 [xrp_usd]) long TradingPair(652614 [iot_usd])\n",
      "439800 stop-loss of short: TradingPair(587847 [xrp_usd]), TradingPair(652614 [iot_usd])\n",
      "439800 unban of short: TradingPair(271832 [etc_usd]), TradingPair(587847 [xrp_usd])\n",
      "440040 unban of short: TradingPair(587847 [xrp_usd]), TradingPair(652614 [iot_usd])\n",
      "440520 unban of long: TradingPair(98871 [btc_usd]), TradingPair(587847 [xrp_usd])\n",
      "440520 short TradingPair(271832 [etc_usd]) long TradingPair(587847 [xrp_usd])\n",
      "440520 stop-loss of short: TradingPair(271832 [etc_usd]), TradingPair(587847 [xrp_usd])\n",
      "440700 unban of long: TradingPair(98871 [btc_usd]), TradingPair(271832 [etc_usd])\n",
      "440760 long TradingPair(98871 [btc_usd]) short TradingPair(271832 [etc_usd])\n",
      "440820 unban of short: TradingPair(271832 [etc_usd]), TradingPair(587847 [xrp_usd])\n",
      "440940 short TradingPair(271832 [etc_usd]) long TradingPair(587847 [xrp_usd])\n",
      "441120 stop-loss of long: TradingPair(98871 [btc_usd]), TradingPair(271832 [etc_usd])\n",
      "441300 long TradingPair(98871 [btc_usd]) short TradingPair(587847 [xrp_usd])\n",
      "441300 stop-loss of long: TradingPair(98871 [btc_usd]), TradingPair(587847 [xrp_usd])\n",
      "441300 stop-loss of short: TradingPair(271832 [etc_usd]), TradingPair(587847 [xrp_usd])\n",
      "441360 unban of long: TradingPair(98871 [btc_usd]), TradingPair(587847 [xrp_usd])\n"
     ]
    },
    {
     "data": {
      "text/plain": [
       "120.24144655581867"
      ]
     },
     "metadata": {},
     "output_type": "display_data"
    },
    {
     "name": "stdout",
     "output_type": "stream",
     "text": [
      "2019-02-20 16:00:00+00:00 441600\n",
      "443100 short TradingPair(98871 [btc_usd]) long TradingPair(587847 [xrp_usd])\n"
     ]
    },
    {
     "data": {
      "text/plain": [
       "120.11306544898298"
      ]
     },
     "metadata": {},
     "output_type": "display_data"
    },
    {
     "name": "stdout",
     "output_type": "stream",
     "text": [
      "2019-02-22 08:00:00+00:00 444000\n",
      "444300 short TradingPair(265391 [zec_usd]) long TradingPair(657702 [trx_usd])\n",
      "444600 long TradingPair(98871 [btc_usd]) short TradingPair(271832 [etc_usd])\n",
      "444600 short TradingPair(271832 [etc_usd]) long TradingPair(652614 [iot_usd])\n",
      "444660 stop-loss of long: TradingPair(98871 [btc_usd]), TradingPair(271832 [etc_usd])\n",
      "444660 stop-loss of short: TradingPair(271832 [etc_usd]), TradingPair(652614 [iot_usd])\n",
      "444780 take profit of short: TradingPair(265391 [zec_usd]), TradingPair(657702 [trx_usd])\n",
      "445260 unban of long: TradingPair(98871 [btc_usd]), TradingPair(271832 [etc_usd])\n",
      "445260 unban of short: TradingPair(271832 [etc_usd]), TradingPair(652614 [iot_usd])\n",
      "445320 long TradingPair(98871 [btc_usd]) short TradingPair(271832 [etc_usd])\n",
      "445980 short TradingPair(265391 [zec_usd]) long TradingPair(657702 [trx_usd])\n",
      "445980 short TradingPair(125865 [neo_usd]) long TradingPair(587847 [xrp_usd])\n",
      "445980 stop-loss of short: TradingPair(125865 [neo_usd]), TradingPair(587847 [xrp_usd])\n",
      "446040 stop-loss of short: TradingPair(265391 [zec_usd]), TradingPair(657702 [trx_usd])\n",
      "446100 short TradingPair(271832 [etc_usd]) long TradingPair(652614 [iot_usd])\n"
     ]
    },
    {
     "data": {
      "text/plain": [
       "121.12321683076887"
      ]
     },
     "metadata": {},
     "output_type": "display_data"
    },
    {
     "name": "stdout",
     "output_type": "stream",
     "text": [
      "2019-02-24 00:00:00+00:00 446400\n",
      "446820 short TradingPair(265391 [zec_usd]) long TradingPair(657702 [trx_usd])\n",
      "446880 take profit of short: TradingPair(265391 [zec_usd]), TradingPair(657702 [trx_usd])\n",
      "446880 long TradingPair(587847 [xrp_usd]) short TradingPair(657702 [trx_usd])\n",
      "446880 stop-loss of long: TradingPair(587847 [xrp_usd]), TradingPair(657702 [trx_usd])\n",
      "446940 long TradingPair(265391 [zec_usd]) short TradingPair(657702 [trx_usd])\n",
      "446940 stop-loss of long: TradingPair(265391 [zec_usd]), TradingPair(657702 [trx_usd])\n",
      "447120 unban of long: TradingPair(265391 [zec_usd]), TradingPair(657702 [trx_usd])\n",
      "447120 short TradingPair(265391 [zec_usd]) long TradingPair(587847 [xrp_usd])\n",
      "447240 long TradingPair(265391 [zec_usd]) short TradingPair(657702 [trx_usd])\n",
      "447300 take profit of short: TradingPair(265391 [zec_usd]), TradingPair(587847 [xrp_usd])\n",
      "447300 unban of long: TradingPair(587847 [xrp_usd]), TradingPair(657702 [trx_usd])\n",
      "447540 long TradingPair(587847 [xrp_usd]) short TradingPair(657702 [trx_usd])\n",
      "448080 stop-loss of long: TradingPair(265391 [zec_usd]), TradingPair(657702 [trx_usd])\n",
      "448080 stop-loss of long: TradingPair(587847 [xrp_usd]), TradingPair(657702 [trx_usd])\n",
      "448500 unban of long: TradingPair(587847 [xrp_usd]), TradingPair(657702 [trx_usd])\n",
      "448560 long TradingPair(587847 [xrp_usd]) short TradingPair(657702 [trx_usd])\n",
      "448680 unban of long: TradingPair(265391 [zec_usd]), TradingPair(657702 [trx_usd])\n",
      "448740 long TradingPair(265391 [zec_usd]) short TradingPair(657702 [trx_usd])\n"
     ]
    },
    {
     "data": {
      "text/plain": [
       "122.88613617919503"
      ]
     },
     "metadata": {},
     "output_type": "display_data"
    },
    {
     "name": "stdout",
     "output_type": "stream",
     "text": [
      "2019-02-25 16:00:00+00:00 448800\n",
      "448980 long TradingPair(265391 [zec_usd]) short TradingPair(587847 [xrp_usd])\n",
      "448980 stop-loss of long: TradingPair(265391 [zec_usd]), TradingPair(587847 [xrp_usd])\n",
      "448980 short TradingPair(587847 [xrp_usd]) long TradingPair(652614 [iot_usd])\n",
      "448980 stop-loss of short: TradingPair(587847 [xrp_usd]), TradingPair(652614 [iot_usd])\n",
      "449580 unban of long: TradingPair(265391 [zec_usd]), TradingPair(587847 [xrp_usd])\n",
      "449640 long TradingPair(265391 [zec_usd]) short TradingPair(587847 [xrp_usd])\n",
      "450540 unban of short: TradingPair(587847 [xrp_usd]), TradingPair(652614 [iot_usd])\n",
      "450660 short TradingPair(587847 [xrp_usd]) long TradingPair(652614 [iot_usd])\n",
      "450840 take profit of long: TradingPair(265391 [zec_usd]), TradingPair(587847 [xrp_usd])\n"
     ]
    },
    {
     "data": {
      "text/plain": [
       "123.78446990123156"
      ]
     },
     "metadata": {},
     "output_type": "display_data"
    },
    {
     "name": "stdout",
     "output_type": "stream",
     "text": [
      "2019-02-27 08:00:00+00:00 451200\n",
      "451920 long TradingPair(265391 [zec_usd]) short TradingPair(909928 [xmr_usd])\n",
      "451980 long TradingPair(32597 [eth_usd]) short TradingPair(909928 [xmr_usd])\n",
      "451980 stop-loss of long: TradingPair(32597 [eth_usd]), TradingPair(909928 [xmr_usd])\n",
      "452340 stop-loss of long: TradingPair(265391 [zec_usd]), TradingPair(909928 [xmr_usd])\n"
     ]
    },
    {
     "data": {
      "text/plain": [
       "123.44775455787857"
      ]
     },
     "metadata": {},
     "output_type": "display_data"
    },
    {
     "name": "stdout",
     "output_type": "stream",
     "text": [
      "2019-03-01 00:00:00+00:00 453600\n",
      "453780 short TradingPair(652614 [iot_usd]) long TradingPair(909928 [xmr_usd])\n",
      "454080 stop-loss of short: TradingPair(652614 [iot_usd]), TradingPair(909928 [xmr_usd])\n",
      "455220 short TradingPair(98871 [btc_usd]) long TradingPair(657702 [trx_usd])\n",
      "455340 stop-loss of short: TradingPair(98871 [btc_usd]), TradingPair(657702 [trx_usd])\n",
      "455820 long TradingPair(657702 [trx_usd]) short TradingPair(909928 [xmr_usd])\n",
      "455940 unban of short: TradingPair(652614 [iot_usd]), TradingPair(909928 [xmr_usd])\n"
     ]
    },
    {
     "data": {
      "text/plain": [
       "122.41683154454581"
      ]
     },
     "metadata": {},
     "output_type": "display_data"
    },
    {
     "name": "stdout",
     "output_type": "stream",
     "text": [
      "2019-03-02 16:00:00+00:00 456000\n",
      "457860 short TradingPair(98871 [btc_usd]) long TradingPair(176889 [dsh_usd])\n"
     ]
    },
    {
     "data": {
      "text/plain": [
       "122.51080232855955"
      ]
     },
     "metadata": {},
     "output_type": "display_data"
    },
    {
     "name": "stdout",
     "output_type": "stream",
     "text": [
      "2019-03-04 08:00:00+00:00 458400\n",
      "459180 long TradingPair(265391 [zec_usd]) short TradingPair(657702 [trx_usd])\n",
      "459240 stop-loss of long: TradingPair(265391 [zec_usd]), TradingPair(657702 [trx_usd])\n",
      "460140 short TradingPair(347956 [ltc_usd]) long TradingPair(652614 [iot_usd])\n",
      "460200 short TradingPair(176889 [dsh_usd]) long TradingPair(652614 [iot_usd])\n",
      "460200 stop-loss of short: TradingPair(347956 [ltc_usd]), TradingPair(652614 [iot_usd])\n",
      "460380 take profit of short: TradingPair(176889 [dsh_usd]), TradingPair(652614 [iot_usd])\n",
      "460500 short TradingPair(176889 [dsh_usd]) long TradingPair(652614 [iot_usd])\n"
     ]
    },
    {
     "data": {
      "text/plain": [
       "121.49068749753339"
      ]
     },
     "metadata": {},
     "output_type": "display_data"
    },
    {
     "name": "stdout",
     "output_type": "stream",
     "text": [
      "2019-03-06 00:00:00+00:00 460800\n",
      "461520 short TradingPair(32597 [eth_usd]) long TradingPair(657702 [trx_usd])\n",
      "461520 short TradingPair(32597 [eth_usd]) long TradingPair(265391 [zec_usd])\n",
      "462000 take profit of short: TradingPair(32597 [eth_usd]), TradingPair(265391 [zec_usd])\n",
      "462540 short TradingPair(32597 [eth_usd]) long TradingPair(265391 [zec_usd])\n",
      "462600 long TradingPair(652614 [iot_usd]) short TradingPair(909928 [xmr_usd])\n",
      "462900 take profit of short: TradingPair(32597 [eth_usd]), TradingPair(265391 [zec_usd])\n",
      "462900 stop-loss of long: TradingPair(652614 [iot_usd]), TradingPair(909928 [xmr_usd])\n",
      "463140 unban of long: TradingPair(652614 [iot_usd]), TradingPair(909928 [xmr_usd])\n"
     ]
    },
    {
     "data": {
      "text/plain": [
       "122.21765142678592"
      ]
     },
     "metadata": {},
     "output_type": "display_data"
    },
    {
     "name": "stdout",
     "output_type": "stream",
     "text": [
      "2019-03-07 16:00:00+00:00 463200\n",
      "463320 long TradingPair(32597 [eth_usd]) short TradingPair(125865 [neo_usd])\n",
      "463320 short TradingPair(125865 [neo_usd]) long TradingPair(657702 [trx_usd])\n",
      "463680 stop-loss of short: TradingPair(125865 [neo_usd]), TradingPair(657702 [trx_usd])\n",
      "463920 unban of short: TradingPair(125865 [neo_usd]), TradingPair(657702 [trx_usd])\n",
      "463980 short TradingPair(125865 [neo_usd]) long TradingPair(657702 [trx_usd])\n",
      "464460 short TradingPair(98871 [btc_usd]) long TradingPair(587847 [xrp_usd])\n",
      "464580 stop-loss of short: TradingPair(125865 [neo_usd]), TradingPair(657702 [trx_usd])\n",
      "464940 short TradingPair(98871 [btc_usd]) long TradingPair(176889 [dsh_usd])\n",
      "465480 take profit of short: TradingPair(98871 [btc_usd]), TradingPair(587847 [xrp_usd])\n",
      "465480 long TradingPair(271832 [etc_usd]) short TradingPair(587847 [xrp_usd])\n"
     ]
    },
    {
     "data": {
      "text/plain": [
       "122.53000609706909"
      ]
     },
     "metadata": {},
     "output_type": "display_data"
    },
    {
     "name": "stdout",
     "output_type": "stream",
     "text": [
      "2019-03-09 08:00:00+00:00 465600\n"
     ]
    },
    {
     "data": {
      "text/plain": [
       "122.47342640021802"
      ]
     },
     "metadata": {},
     "output_type": "display_data"
    },
    {
     "name": "stdout",
     "output_type": "stream",
     "text": [
      "2019-03-11 00:00:00+00:00 468000\n",
      "469260 short TradingPair(587847 [xrp_usd]) long TradingPair(657702 [trx_usd])\n"
     ]
    },
    {
     "data": {
      "text/plain": [
       "122.6963666916362"
      ]
     },
     "metadata": {},
     "output_type": "display_data"
    },
    {
     "name": "stdout",
     "output_type": "stream",
     "text": [
      "2019-03-12 16:00:00+00:00 470400\n",
      "470940 long TradingPair(98871 [btc_usd]) short TradingPair(909928 [xmr_usd])\n",
      "471180 long TradingPair(587847 [xrp_usd]) short TradingPair(652614 [iot_usd])\n",
      "471660 long TradingPair(98871 [btc_usd]) short TradingPair(587847 [xrp_usd])\n",
      "471660 long TradingPair(271832 [etc_usd]) short TradingPair(587847 [xrp_usd])\n",
      "471660 take profit of long: TradingPair(587847 [xrp_usd]), TradingPair(652614 [iot_usd])\n",
      "471660 long TradingPair(32597 [eth_usd]) short TradingPair(125865 [neo_usd])\n"
     ]
    },
    {
     "data": {
      "text/plain": [
       "125.7943946846026"
      ]
     },
     "metadata": {},
     "output_type": "display_data"
    },
    {
     "name": "stdout",
     "output_type": "stream",
     "text": [
      "2019-03-14 08:00:00+00:00 472800\n",
      "473220 short TradingPair(652614 [iot_usd]) long TradingPair(909928 [xmr_usd])\n",
      "473220 stop-loss of short: TradingPair(652614 [iot_usd]), TradingPair(909928 [xmr_usd])\n",
      "473220 short TradingPair(271832 [etc_usd]) long TradingPair(587847 [xrp_usd])\n",
      "473220 short TradingPair(125865 [neo_usd]) long TradingPair(909928 [xmr_usd])\n",
      "473280 unban of short: TradingPair(652614 [iot_usd]), TradingPair(909928 [xmr_usd])\n",
      "474000 stop-loss of short: TradingPair(271832 [etc_usd]), TradingPair(587847 [xrp_usd])\n",
      "474660 short TradingPair(271832 [etc_usd]) long TradingPair(909928 [xmr_usd])\n",
      "474780 take profit of short: TradingPair(125865 [neo_usd]), TradingPair(909928 [xmr_usd])\n"
     ]
    },
    {
     "data": {
      "text/plain": [
       "126.81228784846188"
      ]
     },
     "metadata": {},
     "output_type": "display_data"
    },
    {
     "name": "stdout",
     "output_type": "stream",
     "text": [
      "2019-03-16 00:00:00+00:00 475200\n",
      "475320 long TradingPair(32597 [eth_usd]) short TradingPair(347956 [ltc_usd])\n",
      "475320 short TradingPair(347956 [ltc_usd]) long TradingPair(657702 [trx_usd])\n",
      "475440 short TradingPair(271832 [etc_usd]) long TradingPair(657702 [trx_usd])\n",
      "475500 short TradingPair(32597 [eth_usd]) long TradingPair(657702 [trx_usd])\n",
      "475500 stop-loss of short: TradingPair(32597 [eth_usd]), TradingPair(657702 [trx_usd])\n",
      "475500 take profit of long: TradingPair(32597 [eth_usd]), TradingPair(347956 [ltc_usd])\n",
      "475500 short TradingPair(32597 [eth_usd]) long TradingPair(333257 [eos_usd])\n",
      "476100 take profit of short: TradingPair(32597 [eth_usd]), TradingPair(333257 [eos_usd])\n",
      "476700 unban of short: TradingPair(32597 [eth_usd]), TradingPair(657702 [trx_usd])\n",
      "476820 take profit of short: TradingPair(271832 [etc_usd]), TradingPair(657702 [trx_usd])\n",
      "477000 short TradingPair(32597 [eth_usd]) long TradingPair(657702 [trx_usd])\n"
     ]
    },
    {
     "data": {
      "text/plain": [
       "128.34721755999806"
      ]
     },
     "metadata": {},
     "output_type": "display_data"
    },
    {
     "name": "stdout",
     "output_type": "stream",
     "text": [
      "2019-03-17 16:00:00+00:00 477600\n"
     ]
    },
    {
     "data": {
      "text/plain": [
       "128.36127943502717"
      ]
     },
     "metadata": {},
     "output_type": "display_data"
    },
    {
     "name": "stdout",
     "output_type": "stream",
     "text": [
      "2019-03-19 08:00:00+00:00 480000\n",
      "480420 long TradingPair(32597 [eth_usd]) short TradingPair(271832 [etc_usd])\n",
      "480480 stop-loss of long: TradingPair(32597 [eth_usd]), TradingPair(271832 [etc_usd])\n",
      "480480 short TradingPair(271832 [etc_usd]) long TradingPair(657702 [trx_usd])\n",
      "480480 stop-loss of short: TradingPair(271832 [etc_usd]), TradingPair(657702 [trx_usd])\n",
      "480720 short TradingPair(125865 [neo_usd]) long TradingPair(652614 [iot_usd])\n",
      "481200 take profit of short: TradingPair(125865 [neo_usd]), TradingPair(652614 [iot_usd])\n",
      "482100 short TradingPair(125865 [neo_usd]) long TradingPair(652614 [iot_usd])\n"
     ]
    },
    {
     "data": {
      "text/plain": [
       "128.3275046154791"
      ]
     },
     "metadata": {},
     "output_type": "display_data"
    },
    {
     "name": "stdout",
     "output_type": "stream",
     "text": [
      "2019-03-21 00:00:00+00:00 482400\n",
      "483240 long TradingPair(125865 [neo_usd]) short TradingPair(652614 [iot_usd])\n",
      "483480 stop-loss of long: TradingPair(125865 [neo_usd]), TradingPair(652614 [iot_usd])\n"
     ]
    },
    {
     "data": {
      "text/plain": [
       "127.77341781388085"
      ]
     },
     "metadata": {},
     "output_type": "display_data"
    },
    {
     "name": "stdout",
     "output_type": "stream",
     "text": [
      "2019-03-22 16:00:00+00:00 484800\n",
      "485700 long TradingPair(587847 [xrp_usd]) short TradingPair(657702 [trx_usd])\n",
      "486000 stop-loss of long: TradingPair(587847 [xrp_usd]), TradingPair(657702 [trx_usd])\n"
     ]
    },
    {
     "data": {
      "text/plain": [
       "126.17460439042023"
      ]
     },
     "metadata": {},
     "output_type": "display_data"
    },
    {
     "name": "stdout",
     "output_type": "stream",
     "text": [
      "2019-03-24 08:00:00+00:00 487200\n",
      "488400 short TradingPair(333257 [eos_usd]) long TradingPair(587847 [xrp_usd])\n",
      "489420 stop-loss of short: TradingPair(333257 [eos_usd]), TradingPair(587847 [xrp_usd])\n"
     ]
    },
    {
     "data": {
      "text/plain": [
       "125.99102486357351"
      ]
     },
     "metadata": {},
     "output_type": "display_data"
    },
    {
     "name": "stdout",
     "output_type": "stream",
     "text": [
      "2019-03-26 00:00:00+00:00 489600\n",
      "490380 short TradingPair(32597 [eth_usd]) long TradingPair(587847 [xrp_usd])\n",
      "490560 short TradingPair(333257 [eos_usd]) long TradingPair(587847 [xrp_usd])\n",
      "490800 stop-loss of short: TradingPair(32597 [eth_usd]), TradingPair(587847 [xrp_usd])\n",
      "491040 unban of short: TradingPair(32597 [eth_usd]), TradingPair(587847 [xrp_usd])\n",
      "491040 stop-loss of short: TradingPair(333257 [eos_usd]), TradingPair(587847 [xrp_usd])\n",
      "491040 long TradingPair(32597 [eth_usd]) short TradingPair(333257 [eos_usd])\n",
      "491040 stop-loss of long: TradingPair(32597 [eth_usd]), TradingPair(333257 [eos_usd])\n",
      "491160 short TradingPair(32597 [eth_usd]) long TradingPair(587847 [xrp_usd])\n",
      "491520 stop-loss of short: TradingPair(32597 [eth_usd]), TradingPair(587847 [xrp_usd])\n"
     ]
    },
    {
     "data": {
      "text/plain": [
       "125.43719544909337"
      ]
     },
     "metadata": {},
     "output_type": "display_data"
    },
    {
     "name": "stdout",
     "output_type": "stream",
     "text": [
      "2019-03-27 16:00:00+00:00 492000\n",
      "494100 short TradingPair(125865 [neo_usd]) long TradingPair(909928 [xmr_usd])\n",
      "494220 short TradingPair(125865 [neo_usd]) long TradingPair(347956 [ltc_usd])\n"
     ]
    },
    {
     "data": {
      "text/plain": [
       "125.22583622444257"
      ]
     },
     "metadata": {},
     "output_type": "display_data"
    },
    {
     "name": "stdout",
     "output_type": "stream",
     "text": [
      "2019-03-29 08:00:00+00:00 494400\n",
      "494520 short TradingPair(32597 [eth_usd]) long TradingPair(98871 [btc_usd])\n",
      "494580 long TradingPair(587847 [xrp_usd]) short TradingPair(909928 [xmr_usd])\n",
      "494640 stop-loss of long: TradingPair(587847 [xrp_usd]), TradingPair(909928 [xmr_usd])\n",
      "494700 unban of long: TradingPair(587847 [xrp_usd]), TradingPair(909928 [xmr_usd])\n",
      "494820 long TradingPair(587847 [xrp_usd]) short TradingPair(909928 [xmr_usd])\n",
      "494820 stop-loss of long: TradingPair(587847 [xrp_usd]), TradingPair(909928 [xmr_usd])\n",
      "495060 long TradingPair(32597 [eth_usd]) short TradingPair(125865 [neo_usd])\n",
      "495060 stop-loss of long: TradingPair(32597 [eth_usd]), TradingPair(125865 [neo_usd])\n",
      "495180 unban of long: TradingPair(587847 [xrp_usd]), TradingPair(909928 [xmr_usd])\n",
      "495360 stop-loss of short: TradingPair(32597 [eth_usd]), TradingPair(98871 [btc_usd])\n",
      "495360 long TradingPair(587847 [xrp_usd]) short TradingPair(909928 [xmr_usd])\n",
      "495360 short TradingPair(32597 [eth_usd]) long TradingPair(909928 [xmr_usd])\n",
      "495420 stop-loss of short: TradingPair(32597 [eth_usd]), TradingPair(909928 [xmr_usd])\n",
      "495600 take profit of long: TradingPair(587847 [xrp_usd]), TradingPair(909928 [xmr_usd])\n",
      "495600 unban of short: TradingPair(32597 [eth_usd]), TradingPair(909928 [xmr_usd])\n",
      "495720 short TradingPair(32597 [eth_usd]) long TradingPair(909928 [xmr_usd])\n",
      "496080 take profit of short: TradingPair(32597 [eth_usd]), TradingPair(909928 [xmr_usd])\n",
      "496380 unban of short: TradingPair(32597 [eth_usd]), TradingPair(98871 [btc_usd])\n",
      "496440 short TradingPair(32597 [eth_usd]) long TradingPair(98871 [btc_usd])\n",
      "496500 stop-loss of short: TradingPair(32597 [eth_usd]), TradingPair(98871 [btc_usd])\n"
     ]
    },
    {
     "data": {
      "text/plain": [
       "125.26623783215953"
      ]
     },
     "metadata": {},
     "output_type": "display_data"
    },
    {
     "name": "stdout",
     "output_type": "stream",
     "text": [
      "2019-03-31 00:00:00+00:00 496800\n",
      "498300 long TradingPair(587847 [xrp_usd]) short TradingPair(909928 [xmr_usd])\n",
      "498300 stop-loss of long: TradingPair(587847 [xrp_usd]), TradingPair(909928 [xmr_usd])\n",
      "498300 short TradingPair(265391 [zec_usd]) long TradingPair(347956 [ltc_usd])\n",
      "498420 stop-loss of short: TradingPair(265391 [zec_usd]), TradingPair(347956 [ltc_usd])\n",
      "498840 long TradingPair(271832 [etc_usd]) short TradingPair(652614 [iot_usd])\n",
      "498840 long TradingPair(587847 [xrp_usd]) short TradingPair(652614 [iot_usd])\n",
      "498900 stop-loss of long: TradingPair(271832 [etc_usd]), TradingPair(652614 [iot_usd])\n",
      "499080 stop-loss of long: TradingPair(587847 [xrp_usd]), TradingPair(652614 [iot_usd])\n"
     ]
    },
    {
     "data": {
      "text/plain": [
       "124.44784254765223"
      ]
     },
     "metadata": {},
     "output_type": "display_data"
    },
    {
     "name": "stdout",
     "output_type": "stream",
     "text": [
      "2019-04-01 16:00:00+00:00 499200\n",
      "499260 long TradingPair(652614 [iot_usd]) short TradingPair(657702 [trx_usd])\n",
      "499440 stop-loss of long: TradingPair(652614 [iot_usd]), TradingPair(657702 [trx_usd])\n",
      "499560 unban of long: TradingPair(652614 [iot_usd]), TradingPair(657702 [trx_usd])\n",
      "499740 long TradingPair(652614 [iot_usd]) short TradingPair(657702 [trx_usd])\n",
      "499800 stop-loss of long: TradingPair(652614 [iot_usd]), TradingPair(657702 [trx_usd])\n",
      "499920 long TradingPair(271832 [etc_usd]) short TradingPair(587847 [xrp_usd])\n",
      "499980 long TradingPair(32597 [eth_usd]) short TradingPair(98871 [btc_usd])\n",
      "499980 stop-loss of long: TradingPair(32597 [eth_usd]), TradingPair(98871 [btc_usd])\n",
      "499980 unban of long: TradingPair(652614 [iot_usd]), TradingPair(657702 [trx_usd])\n",
      "500040 take profit of long: TradingPair(271832 [etc_usd]), TradingPair(587847 [xrp_usd])\n",
      "500040 short TradingPair(98871 [btc_usd]) long TradingPair(347956 [ltc_usd])\n",
      "500040 stop-loss of short: TradingPair(98871 [btc_usd]), TradingPair(347956 [ltc_usd])\n",
      "500040 long TradingPair(652614 [iot_usd]) short TradingPair(657702 [trx_usd])\n",
      "500100 unban of short: TradingPair(98871 [btc_usd]), TradingPair(347956 [ltc_usd])\n",
      "500100 stop-loss of long: TradingPair(652614 [iot_usd]), TradingPair(657702 [trx_usd])\n",
      "500220 short TradingPair(98871 [btc_usd]) long TradingPair(347956 [ltc_usd])\n",
      "500280 stop-loss of short: TradingPair(98871 [btc_usd]), TradingPair(347956 [ltc_usd])\n",
      "500340 unban of long: TradingPair(652614 [iot_usd]), TradingPair(657702 [trx_usd])\n",
      "500400 unban of short: TradingPair(98871 [btc_usd]), TradingPair(347956 [ltc_usd])\n",
      "500520 long TradingPair(98871 [btc_usd]) short TradingPair(347956 [ltc_usd])\n",
      "500520 long TradingPair(652614 [iot_usd]) short TradingPair(657702 [trx_usd])\n",
      "500700 short TradingPair(271832 [etc_usd]) long TradingPair(587847 [xrp_usd])\n",
      "500700 stop-loss of long: TradingPair(98871 [btc_usd]), TradingPair(347956 [ltc_usd])\n",
      "500700 stop-loss of long: TradingPair(652614 [iot_usd]), TradingPair(657702 [trx_usd])\n",
      "500700 short TradingPair(587847 [xrp_usd]) long TradingPair(652614 [iot_usd])\n",
      "500700 stop-loss of short: TradingPair(587847 [xrp_usd]), TradingPair(652614 [iot_usd])\n",
      "500820 take profit of short: TradingPair(271832 [etc_usd]), TradingPair(587847 [xrp_usd])\n",
      "500880 unban of long: TradingPair(32597 [eth_usd]), TradingPair(98871 [btc_usd])\n",
      "500940 long TradingPair(32597 [eth_usd]) short TradingPair(98871 [btc_usd])\n",
      "500940 stop-loss of long: TradingPair(32597 [eth_usd]), TradingPair(98871 [btc_usd])\n",
      "501060 unban of long: TradingPair(32597 [eth_usd]), TradingPair(98871 [btc_usd])\n",
      "501120 long TradingPair(32597 [eth_usd]) short TradingPair(98871 [btc_usd])\n",
      "501120 unban of long: TradingPair(652614 [iot_usd]), TradingPair(657702 [trx_usd])\n",
      "501180 take profit of long: TradingPair(32597 [eth_usd]), TradingPair(98871 [btc_usd])\n",
      "501180 long TradingPair(652614 [iot_usd]) short TradingPair(657702 [trx_usd])\n",
      "501180 stop-loss of long: TradingPair(652614 [iot_usd]), TradingPair(657702 [trx_usd])\n",
      "501300 short TradingPair(271832 [etc_usd]) long TradingPair(587847 [xrp_usd])\n",
      "501300 stop-loss of short: TradingPair(271832 [etc_usd]), TradingPair(587847 [xrp_usd])\n",
      "501300 short TradingPair(32597 [eth_usd]) long TradingPair(98871 [btc_usd])\n",
      "501300 unban of long: TradingPair(652614 [iot_usd]), TradingPair(657702 [trx_usd])\n",
      "501300 unban of short: TradingPair(587847 [xrp_usd]), TradingPair(652614 [iot_usd])\n",
      "501360 take profit of short: TradingPair(32597 [eth_usd]), TradingPair(98871 [btc_usd])\n",
      "501360 long TradingPair(652614 [iot_usd]) short TradingPair(657702 [trx_usd])\n",
      "501360 stop-loss of long: TradingPair(652614 [iot_usd]), TradingPair(657702 [trx_usd])\n",
      "501540 long TradingPair(32597 [eth_usd]) short TradingPair(98871 [btc_usd])\n",
      "501540 short TradingPair(587847 [xrp_usd]) long TradingPair(652614 [iot_usd])\n"
     ]
    },
    {
     "data": {
      "text/plain": [
       "124.61622807921476"
      ]
     },
     "metadata": {},
     "output_type": "display_data"
    },
    {
     "name": "stdout",
     "output_type": "stream",
     "text": [
      "2019-04-03 08:00:00+00:00 501600\n",
      "502260 short TradingPair(271832 [etc_usd]) long TradingPair(587847 [xrp_usd])\n",
      "502260 long TradingPair(652614 [iot_usd]) short TradingPair(657702 [trx_usd])\n",
      "502260 short TradingPair(271832 [etc_usd]) long TradingPair(652614 [iot_usd])\n",
      "502260 stop-loss of short: TradingPair(271832 [etc_usd]), TradingPair(652614 [iot_usd])\n",
      "502320 stop-loss of long: TradingPair(652614 [iot_usd]), TradingPair(657702 [trx_usd])\n",
      "502440 take profit of short: TradingPair(271832 [etc_usd]), TradingPair(587847 [xrp_usd])\n",
      "502440 unban of long: TradingPair(652614 [iot_usd]), TradingPair(657702 [trx_usd])\n",
      "502500 long TradingPair(652614 [iot_usd]) short TradingPair(657702 [trx_usd])\n",
      "502500 short TradingPair(98871 [btc_usd]) long TradingPair(657702 [trx_usd])\n",
      "502500 long TradingPair(32597 [eth_usd]) short TradingPair(98871 [btc_usd])\n",
      "502560 take profit of long: TradingPair(652614 [iot_usd]), TradingPair(657702 [trx_usd])\n",
      "502560 stop-loss of short: TradingPair(98871 [btc_usd]), TradingPair(657702 [trx_usd])\n",
      "502560 unban of short: TradingPair(271832 [etc_usd]), TradingPair(652614 [iot_usd])\n",
      "502860 short TradingPair(271832 [etc_usd]) long TradingPair(652614 [iot_usd])\n",
      "502980 take profit of short: TradingPair(271832 [etc_usd]), TradingPair(652614 [iot_usd])\n",
      "503580 stop-loss of long: TradingPair(32597 [eth_usd]), TradingPair(98871 [btc_usd])\n"
     ]
    },
    {
     "data": {
      "text/plain": [
       "124.82992515252424"
      ]
     },
     "metadata": {},
     "output_type": "display_data"
    },
    {
     "name": "stdout",
     "output_type": "stream",
     "text": [
      "2019-04-05 00:00:00+00:00 504000\n",
      "504180 long TradingPair(652614 [iot_usd]) short TradingPair(657702 [trx_usd])\n",
      "504240 stop-loss of long: TradingPair(652614 [iot_usd]), TradingPair(657702 [trx_usd])\n",
      "504300 unban of long: TradingPair(652614 [iot_usd]), TradingPair(657702 [trx_usd])\n",
      "504300 long TradingPair(32597 [eth_usd]) short TradingPair(271832 [etc_usd])\n",
      "504300 short TradingPair(587847 [xrp_usd]) long TradingPair(657702 [trx_usd])\n",
      "504360 stop-loss of long: TradingPair(32597 [eth_usd]), TradingPair(271832 [etc_usd])\n",
      "504360 stop-loss of short: TradingPair(587847 [xrp_usd]), TradingPair(657702 [trx_usd])\n",
      "504480 unban of short: TradingPair(587847 [xrp_usd]), TradingPair(657702 [trx_usd])\n",
      "504540 long TradingPair(271832 [etc_usd]) short TradingPair(587847 [xrp_usd])\n",
      "504540 short TradingPair(587847 [xrp_usd]) long TradingPair(657702 [trx_usd])\n",
      "504600 unban of long: TradingPair(32597 [eth_usd]), TradingPair(271832 [etc_usd])\n",
      "504660 stop-loss of short: TradingPair(587847 [xrp_usd]), TradingPair(657702 [trx_usd])\n",
      "504720 long TradingPair(32597 [eth_usd]) short TradingPair(271832 [etc_usd])\n",
      "505200 unban of short: TradingPair(587847 [xrp_usd]), TradingPair(657702 [trx_usd])\n",
      "505380 short TradingPair(587847 [xrp_usd]) long TradingPair(657702 [trx_usd])\n",
      "505920 take profit of long: TradingPair(271832 [etc_usd]), TradingPair(587847 [xrp_usd])\n"
     ]
    },
    {
     "data": {
      "text/plain": [
       "125.1515382414868"
      ]
     },
     "metadata": {},
     "output_type": "display_data"
    },
    {
     "name": "stdout",
     "output_type": "stream",
     "text": [
      "2019-04-06 16:00:00+00:00 506400\n",
      "506460 long TradingPair(32597 [eth_usd]) short TradingPair(271832 [etc_usd])\n",
      "506460 stop-loss of long: TradingPair(32597 [eth_usd]), TradingPair(271832 [etc_usd])\n",
      "506460 short TradingPair(271832 [etc_usd]) long TradingPair(587847 [xrp_usd])\n",
      "506940 stop-loss of short: TradingPair(271832 [etc_usd]), TradingPair(587847 [xrp_usd])\n",
      "507300 long TradingPair(652614 [iot_usd]) short TradingPair(657702 [trx_usd])\n",
      "507300 stop-loss of long: TradingPair(652614 [iot_usd]), TradingPair(657702 [trx_usd])\n",
      "507300 long TradingPair(587847 [xrp_usd]) short TradingPair(657702 [trx_usd])\n",
      "507360 unban of long: TradingPair(652614 [iot_usd]), TradingPair(657702 [trx_usd])\n",
      "507420 long TradingPair(652614 [iot_usd]) short TradingPair(657702 [trx_usd])\n",
      "507720 take profit of long: TradingPair(652614 [iot_usd]), TradingPair(657702 [trx_usd])\n",
      "508080 long TradingPair(652614 [iot_usd]) short TradingPair(657702 [trx_usd])\n",
      "508380 stop-loss of long: TradingPair(652614 [iot_usd]), TradingPair(657702 [trx_usd])\n",
      "508500 unban of long: TradingPair(652614 [iot_usd]), TradingPair(657702 [trx_usd])\n",
      "508620 long TradingPair(652614 [iot_usd]) short TradingPair(657702 [trx_usd])\n"
     ]
    },
    {
     "data": {
      "text/plain": [
       "122.4047506799983"
      ]
     },
     "metadata": {},
     "output_type": "display_data"
    },
    {
     "name": "stdout",
     "output_type": "stream",
     "text": [
      "2019-04-08 08:00:00+00:00 508800\n",
      "509220 long TradingPair(32597 [eth_usd]) short TradingPair(657702 [trx_usd])\n",
      "509220 stop-loss of long: TradingPair(32597 [eth_usd]), TradingPair(657702 [trx_usd])\n",
      "509220 long TradingPair(652614 [iot_usd]) short TradingPair(657702 [trx_usd])\n",
      "509220 stop-loss of long: TradingPair(652614 [iot_usd]), TradingPair(657702 [trx_usd])\n",
      "509880 unban of long: TradingPair(32597 [eth_usd]), TradingPair(657702 [trx_usd])\n",
      "510060 long TradingPair(32597 [eth_usd]) short TradingPair(657702 [trx_usd])\n",
      "510780 long TradingPair(125865 [neo_usd]) short TradingPair(333257 [eos_usd])\n"
     ]
    },
    {
     "data": {
      "text/plain": [
       "122.1940670325492"
      ]
     },
     "metadata": {},
     "output_type": "display_data"
    },
    {
     "name": "stdout",
     "output_type": "stream",
     "text": [
      "2019-04-10 00:00:00+00:00 511200\n"
     ]
    },
    {
     "data": {
      "text/plain": [
       "122.21173371206748"
      ]
     },
     "metadata": {},
     "output_type": "display_data"
    },
    {
     "name": "stdout",
     "output_type": "stream",
     "text": [
      "2019-04-11 16:00:00+00:00 513600\n",
      "514140 short TradingPair(265391 [zec_usd]) long TradingPair(652614 [iot_usd])\n",
      "514380 short TradingPair(265391 [zec_usd]) long TradingPair(587847 [xrp_usd])\n",
      "515400 stop-loss of short: TradingPair(265391 [zec_usd]), TradingPair(587847 [xrp_usd])\n",
      "515460 stop-loss of short: TradingPair(265391 [zec_usd]), TradingPair(652614 [iot_usd])\n",
      "515700 unban of short: TradingPair(265391 [zec_usd]), TradingPair(652614 [iot_usd])\n",
      "515820 unban of short: TradingPair(265391 [zec_usd]), TradingPair(587847 [xrp_usd])\n",
      "515820 short TradingPair(265391 [zec_usd]) long TradingPair(652614 [iot_usd])\n"
     ]
    },
    {
     "data": {
      "text/plain": [
       "121.3710304512073"
      ]
     },
     "metadata": {},
     "output_type": "display_data"
    },
    {
     "name": "stdout",
     "output_type": "stream",
     "text": [
      "2019-04-13 08:00:00+00:00 516000\n",
      "517140 short TradingPair(587847 [xrp_usd]) long TradingPair(652614 [iot_usd])\n",
      "517140 stop-loss of short: TradingPair(587847 [xrp_usd]), TradingPair(652614 [iot_usd])\n",
      "517440 unban of short: TradingPair(587847 [xrp_usd]), TradingPair(652614 [iot_usd])\n",
      "517560 short TradingPair(587847 [xrp_usd]) long TradingPair(652614 [iot_usd])\n"
     ]
    },
    {
     "data": {
      "text/plain": [
       "121.72771525619024"
      ]
     },
     "metadata": {},
     "output_type": "display_data"
    },
    {
     "name": "stdout",
     "output_type": "stream",
     "text": [
      "2019-04-15 00:00:00+00:00 518400\n",
      "519480 short TradingPair(125865 [neo_usd]) long TradingPair(347956 [ltc_usd])\n",
      "519780 take profit of short: TradingPair(125865 [neo_usd]), TradingPair(347956 [ltc_usd])\n"
     ]
    },
    {
     "data": {
      "text/plain": [
       "122.39650885084006"
      ]
     },
     "metadata": {},
     "output_type": "display_data"
    },
    {
     "name": "stdout",
     "output_type": "stream",
     "text": [
      "2019-04-16 16:00:00+00:00 520800\n",
      "521460 short TradingPair(125865 [neo_usd]) long TradingPair(652614 [iot_usd])\n",
      "521520 stop-loss of short: TradingPair(125865 [neo_usd]), TradingPair(652614 [iot_usd])\n",
      "521760 unban of short: TradingPair(125865 [neo_usd]), TradingPair(652614 [iot_usd])\n",
      "522060 short TradingPair(125865 [neo_usd]) long TradingPair(652614 [iot_usd])\n",
      "522120 long TradingPair(32597 [eth_usd]) short TradingPair(587847 [xrp_usd])\n",
      "522120 stop-loss of long: TradingPair(32597 [eth_usd]), TradingPair(587847 [xrp_usd])\n",
      "522120 short TradingPair(587847 [xrp_usd]) long TradingPair(652614 [iot_usd])\n",
      "522120 stop-loss of short: TradingPair(587847 [xrp_usd]), TradingPair(652614 [iot_usd])\n",
      "522780 stop-loss of short: TradingPair(125865 [neo_usd]), TradingPair(652614 [iot_usd])\n",
      "522840 unban of long: TradingPair(32597 [eth_usd]), TradingPair(587847 [xrp_usd])\n",
      "522960 long TradingPair(32597 [eth_usd]) short TradingPair(587847 [xrp_usd])\n",
      "522960 stop-loss of long: TradingPair(32597 [eth_usd]), TradingPair(587847 [xrp_usd])\n",
      "523020 unban of short: TradingPair(125865 [neo_usd]), TradingPair(652614 [iot_usd])\n",
      "523080 short TradingPair(125865 [neo_usd]) long TradingPair(652614 [iot_usd])\n"
     ]
    },
    {
     "data": {
      "text/plain": [
       "121.73630019200476"
      ]
     },
     "metadata": {},
     "output_type": "display_data"
    },
    {
     "name": "stdout",
     "output_type": "stream",
     "text": [
      "2019-04-18 08:00:00+00:00 523200\n",
      "523620 short TradingPair(32597 [eth_usd]) long TradingPair(587847 [xrp_usd])\n",
      "523800 stop-loss of short: TradingPair(32597 [eth_usd]), TradingPair(587847 [xrp_usd])\n",
      "524280 short TradingPair(271832 [etc_usd]) long TradingPair(657702 [trx_usd])\n",
      "525120 long TradingPair(125865 [neo_usd]) short TradingPair(347956 [ltc_usd])\n"
     ]
    },
    {
     "data": {
      "text/plain": [
       "121.65344710844818"
      ]
     },
     "metadata": {},
     "output_type": "display_data"
    },
    {
     "name": "stdout",
     "output_type": "stream",
     "text": [
      "2019-04-20 00:00:00+00:00 525600\n",
      "527280 long TradingPair(125865 [neo_usd]) short TradingPair(652614 [iot_usd])\n",
      "527340 short TradingPair(176889 [dsh_usd]) long TradingPair(657702 [trx_usd])\n",
      "527400 short TradingPair(176889 [dsh_usd]) long TradingPair(587847 [xrp_usd])\n",
      "527400 stop-loss of short: TradingPair(176889 [dsh_usd]), TradingPair(657702 [trx_usd])\n",
      "527640 take profit of short: TradingPair(176889 [dsh_usd]), TradingPair(587847 [xrp_usd])\n",
      "527640 stop-loss of long: TradingPair(125865 [neo_usd]), TradingPair(652614 [iot_usd])\n",
      "527640 short TradingPair(587847 [xrp_usd]) long TradingPair(657702 [trx_usd])\n",
      "527820 unban of long: TradingPair(125865 [neo_usd]), TradingPair(652614 [iot_usd])\n",
      "527880 long TradingPair(125865 [neo_usd]) short TradingPair(652614 [iot_usd])\n",
      "527880 stop-loss of long: TradingPair(125865 [neo_usd]), TradingPair(652614 [iot_usd])\n"
     ]
    },
    {
     "data": {
      "text/plain": [
       "121.3381922320079"
      ]
     },
     "metadata": {},
     "output_type": "display_data"
    },
    {
     "name": "stdout",
     "output_type": "stream",
     "text": [
      "2019-04-21 16:00:00+00:00 528000\n",
      "529980 short TradingPair(98871 [btc_usd]) long TradingPair(909928 [xmr_usd])\n"
     ]
    },
    {
     "data": {
      "text/plain": [
       "121.1525950018891"
      ]
     },
     "metadata": {},
     "output_type": "display_data"
    },
    {
     "name": "stdout",
     "output_type": "stream",
     "text": [
      "2019-04-23 08:00:00+00:00 530400\n",
      "530700 long TradingPair(125865 [neo_usd]) short TradingPair(333257 [eos_usd])\n",
      "531240 short TradingPair(271832 [etc_usd]) long TradingPair(347956 [ltc_usd])\n",
      "531300 long TradingPair(32597 [eth_usd]) short TradingPair(98871 [btc_usd])\n",
      "531360 stop-loss of short: TradingPair(271832 [etc_usd]), TradingPair(347956 [ltc_usd])\n",
      "531360 long TradingPair(265391 [zec_usd]) short TradingPair(587847 [xrp_usd])\n",
      "531480 unban of short: TradingPair(271832 [etc_usd]), TradingPair(347956 [ltc_usd])\n",
      "531480 stop-loss of long: TradingPair(32597 [eth_usd]), TradingPair(98871 [btc_usd])\n",
      "531840 take profit of long: TradingPair(265391 [zec_usd]), TradingPair(587847 [xrp_usd])\n",
      "531840 take profit of long: TradingPair(125865 [neo_usd]), TradingPair(333257 [eos_usd])\n",
      "532020 long TradingPair(125865 [neo_usd]) short TradingPair(333257 [eos_usd])\n",
      "532080 long TradingPair(333257 [eos_usd]) short TradingPair(657702 [trx_usd])\n",
      "532380 stop-loss of long: TradingPair(333257 [eos_usd]), TradingPair(657702 [trx_usd])\n",
      "532380 take profit of long: TradingPair(125865 [neo_usd]), TradingPair(333257 [eos_usd])\n"
     ]
    },
    {
     "data": {
      "text/plain": [
       "121.81363507301447"
      ]
     },
     "metadata": {},
     "output_type": "display_data"
    },
    {
     "name": "stdout",
     "output_type": "stream",
     "text": [
      "2019-04-25 00:00:00+00:00 532800\n",
      "532980 short TradingPair(271832 [etc_usd]) long TradingPair(333257 [eos_usd])\n",
      "533820 take profit of short: TradingPair(271832 [etc_usd]), TradingPair(333257 [eos_usd])\n",
      "534300 short TradingPair(333257 [eos_usd]) long TradingPair(652614 [iot_usd])\n",
      "534360 long TradingPair(271832 [etc_usd]) short TradingPair(347956 [ltc_usd])\n",
      "534420 stop-loss of long: TradingPair(271832 [etc_usd]), TradingPair(347956 [ltc_usd])\n",
      "534420 long TradingPair(333257 [eos_usd]) short TradingPair(347956 [ltc_usd])\n",
      "534420 stop-loss of short: TradingPair(333257 [eos_usd]), TradingPair(652614 [iot_usd])\n",
      "534540 short TradingPair(32597 [eth_usd]) long TradingPair(909928 [xmr_usd])\n",
      "534780 take profit of short: TradingPair(32597 [eth_usd]), TradingPair(909928 [xmr_usd])\n",
      "535080 unban of long: TradingPair(271832 [etc_usd]), TradingPair(347956 [ltc_usd])\n"
     ]
    },
    {
     "data": {
      "text/plain": [
       "121.85662614849926"
      ]
     },
     "metadata": {},
     "output_type": "display_data"
    },
    {
     "name": "stdout",
     "output_type": "stream",
     "text": [
      "2019-04-26 16:00:00+00:00 535200\n",
      "535680 short TradingPair(32597 [eth_usd]) long TradingPair(909928 [xmr_usd])\n",
      "536220 short TradingPair(271832 [etc_usd]) long TradingPair(347956 [ltc_usd])\n",
      "536700 stop-loss of short: TradingPair(32597 [eth_usd]), TradingPair(909928 [xmr_usd])\n",
      "537540 stop-loss of short: TradingPair(271832 [etc_usd]), TradingPair(347956 [ltc_usd])\n"
     ]
    },
    {
     "data": {
      "text/plain": [
       "121.54504376546474"
      ]
     },
     "metadata": {},
     "output_type": "display_data"
    },
    {
     "name": "stdout",
     "output_type": "stream",
     "text": [
      "2019-04-28 08:00:00+00:00 537600\n",
      "537960 short TradingPair(271832 [etc_usd]) long TradingPair(347956 [ltc_usd])\n",
      "537960 long TradingPair(347956 [ltc_usd]) short TradingPair(657702 [trx_usd])\n",
      "538140 stop-loss of short: TradingPair(271832 [etc_usd]), TradingPair(347956 [ltc_usd])\n",
      "538680 short TradingPair(271832 [etc_usd]) long TradingPair(333257 [eos_usd])\n",
      "538860 short TradingPair(271832 [etc_usd]) long TradingPair(657702 [trx_usd])\n",
      "539340 stop-loss of short: TradingPair(271832 [etc_usd]), TradingPair(333257 [eos_usd])\n",
      "539340 stop-loss of short: TradingPair(271832 [etc_usd]), TradingPair(657702 [trx_usd])\n"
     ]
    },
    {
     "data": {
      "text/plain": [
       "120.42747147867152"
      ]
     },
     "metadata": {},
     "output_type": "display_data"
    },
    {
     "name": "stdout",
     "output_type": "stream",
     "text": [
      "2019-04-30 00:00:00+00:00 540000\n",
      "540720 short TradingPair(347956 [ltc_usd]) long TradingPair(657702 [trx_usd])\n",
      "541140 long TradingPair(32597 [eth_usd]) short TradingPair(587847 [xrp_usd])\n",
      "541500 take profit of long: TradingPair(32597 [eth_usd]), TradingPair(587847 [xrp_usd])\n"
     ]
    },
    {
     "data": {
      "text/plain": [
       "121.26167821684392"
      ]
     },
     "metadata": {},
     "output_type": "display_data"
    },
    {
     "name": "stdout",
     "output_type": "stream",
     "text": [
      "2019-05-01 16:00:00+00:00 542400\n"
     ]
    },
    {
     "name": "stderr",
     "output_type": "stream",
     "text": [
      "[2019-06-10 17:00:19.571063] INFO: Performance: Simulated 377 trading days out of 377.\n",
      "[2019-06-10 17:00:19.578210] INFO: Performance: first open: 2018-04-20 00:00:00+00:00\n",
      "[2019-06-10 17:00:19.579375] INFO: Performance: last close: 2019-05-01 23:59:00+00:00\n"
     ]
    }
   ],
   "source": [
    "#Distance approach (by Gatev)\n",
    "\n",
    "from datetime import timedelta\n",
    "\n",
    "import numpy as np\n",
    "import pandas as pd\n",
    "import itertools\n",
    "import matplotlib.pyplot as plt\n",
    "\n",
    "\n",
    "from catalyst import run_algorithm\n",
    "from catalyst.api import (symbols, order, symbol, order_target_percent, order_percent, record)\n",
    "from catalyst.exchange.utils.exchange_utils import get_exchange_symbols\n",
    "\n",
    "\n",
    "def initialize(context):\n",
    "    context.i = -1  # minute bar counter\n",
    "    context.exchange = list(context.exchanges.values())[0].name.lower() #bitfinex\n",
    "    context.quote_currency = list(\n",
    "        context.exchanges.values())[0].quote_currency.lower()\n",
    "    #STRATEGY\n",
    "    # We need to make a matrix of UNIVERSE CLOSE prices for a given FORMATION_PERIOD and TRADING_PERIOD\n",
    "    context.price = 'close' # we use 'close' to make computations \n",
    "    context.formation_period = 200 #in bars\n",
    "    context.trading_period = 40 # in bars\n",
    "#     context.number_of_trading_periods = 100 #number of periods we want to trade\n",
    "    context.number_of_coins = 10 #number of TOP coins by VOLUME in universe we want to trade\n",
    "    context.number_of_pairs = 5 #number of coin pairs we want to form\n",
    "    context.minutes = 60\n",
    "    context.frequency = '{}T'.format(context.minutes)\n",
    "    context.tp_count = -1\n",
    "    context.pairs_universe = None\n",
    "    context.std_open_mult = 2\n",
    "    context.std_sl_mult = 3 \n",
    "    context.std_close_mult = 0.5\n",
    "    context.explicit_coins = ['btc_usd', 'eth_usd', 'xrp_usd', 'ltc_usd', 'eos_usd', 'iot_usd', 'neo_usd', 'etc_usd', 'zec_usd', 'dsh_usd', 'xmr_usd', 'trx_usd']\n",
    "    context.set_commission(maker=0.000, taker=0.000)\n",
    "\n",
    "def handle_data(context, data):\n",
    "    #minute counter\n",
    "    context.i += 1\n",
    "    #FORMATION LOGIC\n",
    "    if data.current_dt <= pd.to_datetime('2018-05-01', utc=True):\n",
    "        return\n",
    "#     #We skip first FP bars\n",
    "#     if context.i < context.formation_period*context.minutes:\n",
    "#         return\n",
    "    #Every beginning of TP we look FP bars ago and get universe of existing assets for this period.\n",
    "    if context.i % (context.trading_period*context.minutes) == 0:\n",
    "        now = data.current_dt\n",
    "        past = now - timedelta(minutes=context.formation_period*context.minutes)\n",
    "#         context.universe = universe_pt(context, now, past)  #form universe (list of assets to upload in history)\n",
    "#         context.universe.remove('ust_usd')# we drop pair ust_usd\n",
    "#         context.universe.remove('pax_usd')# we drop pair pax_usd\n",
    "        context.coins = symbols(*context.explicit_coins)  # convert all the pairs to SYMBOLS format which is necessary for data.history\n",
    "        #To simplify computation, we want to reduce our UNIVERSE according to rule of highest volume in a day\n",
    "        yesterday_volume = data.history(context.coins,'volume',bar_count=2,frequency='1D')[0:1].T #we get volume in BASE currency\n",
    "        yesterday_close = data.history(context.coins,'close',bar_count=2,frequency='1D')[0:1].T\n",
    "#         non_stable = abs(yesterday_close[yesterday_close.columns[0]]-1) > 0.3 # we use condition to eleminate stable coins\n",
    "#         yesterday_volume = yesterday_volume[non_stable]*yesterday_close[non_stable] #we convert volume into quote currency terms\n",
    "        yesterday_volume = yesterday_volume.nlargest(context.number_of_coins, columns=yesterday_volume.columns[0]) # we pick only high traded coins\n",
    "        context.coins_reduced = list(yesterday_volume.index) # the same as making by symbols function\n",
    "        #close positions if they open\n",
    "        for coin in context.portfolio.positions:\n",
    "            order_target_percent(coin, 0)\n",
    "#             print(coin.symbol, ':', context.portfolio.positions[coin].amount, 'sold out')\n",
    "        display(context.portfolio.portfolio_value)\n",
    "\n",
    "    if context.i % (context.trading_period*context.minutes) == 0:  \n",
    "        #1)we take prices\n",
    "        context.close = data.history(context.coins_reduced,'close',bar_count=context.formation_period,frequency=context.frequency)\n",
    "        #2)then we normalize them\n",
    "        context.close_norm = context.close/context.close.iloc[0,:]\n",
    "        #3)then we make all possible spreads\n",
    "        context.pairs_spread = pd.DataFrame(index=context.close_norm.index)\n",
    "        context.pairs_spread_dm = pd.DataFrame(index=['dm']) # dm is for distance measure\n",
    "        for i,j in itertools.combinations(context.close_norm.columns,2):           \n",
    "            context.pairs_spread[(i,j)] = context.close_norm[i] - context.close_norm[j]\n",
    "            #4) Compute measure of distance for each spread:\n",
    "            context.pairs_spread_dm[(i,j)] = pd.Series(context.pairs_spread[(i,j)]**2).sum()\n",
    "        context.full_universe = context.pairs_spread_dm.columns\n",
    "        # 5) now we reduce universe to top NUMBER_OF_PAIRS pairs according by lowest distance measure:\n",
    "        context.pairs_universe = list(context.pairs_spread_dm.sort_values(by='dm', axis=1).columns[: context.number_of_pairs])\n",
    "        \n",
    "        period_number = (context.i - context.formation_period*context.minutes) / (context.trading_period*context.minutes)\n",
    "#         record(pairs_traded = context.pairs_universe, period_number = period_number)\n",
    "        print(data.current_dt, context.i)\n",
    "        \n",
    "#         display(context.i, close, close_norm, pairs_spread_dm, pairs_spread, pairs_spread_dm.sort_values(by='dm', axis=1))\n",
    "        # 6) we create empty dataset for future trading data\n",
    "        context.dataset = pd.DataFrame(index=range(context.trading_period), columns=context.pairs_universe) \n",
    "        context.full_dataset = pd.DataFrame(index=range(context.trading_period), columns=context.full_universe)\n",
    "        # 7) and compute all standard deviations for trading logic\n",
    "        for pair in context.pairs_universe:\n",
    "            context.dataset.loc['std', pair] = context.pairs_spread[pair].std()\n",
    "            context.full_dataset.loc['std', pair] = context.pairs_spread[pair].std()\n",
    "#             plt.figure()\n",
    "#             plt.plot(pairs_spread[pair])\n",
    "#             plt.axhline(y=context.dataset[pair].loc['std'], color='r', linestyle='-')\n",
    "#             plt.show()\n",
    "#         display(context.dataset)\n",
    "        #for positions: long or short\n",
    "        context.pos = pd.DataFrame(index = range(context.trading_period), columns=context.pairs_universe)\n",
    "        context.pos.iloc[0] = 0\n",
    "        #for bans of long or short\n",
    "        context.pos_ban = pd.DataFrame(index = range(context.trading_period), columns=context.pairs_universe)\n",
    "        #for orders logic. id of transaction to close further.\n",
    "        context.transactions_open = pd.DataFrame(index=(0,1), columns=context.pairs_universe)\n",
    "#         display(np.isnan(context.pos_ban.iloc[0,0]))\n",
    "\n",
    "\n",
    "        \n",
    "    #TRADING LOGIC\n",
    "    \n",
    "    if context.i % context.minutes == 0 and context.pairs_universe: #we trade each CONTEXT.MINUTES minutes and need pairs_universe to exist\n",
    "        context.tp_count = int(context.i%(context.trading_period*context.minutes)/context.minutes) # goes from 0 to (context.trading_period - 1)\n",
    "#         display(context.tp_count)\n",
    "        for pair in context.dataset.columns: # here pair contains TWO coins\n",
    "            context.current_price = data.current(pair, context.price) \n",
    "            context.first_price = data.history(pair,context.price,bar_count=context.tp_count+1,frequency=context.frequency).iloc[0,:]\n",
    "            context.norm_price = context.current_price/context.first_price\n",
    "            context.dataset.loc[context.tp_count, pair] = context.norm_price[0] - context.norm_price[1] # here we get pair spread\n",
    "#             display(context.std_open_mult*context.dataset[pair].loc[context.tp_count], 'std: ', context.dataset[pair].loc['std'])\n",
    "#             context.full_dataset.loc[context.tp_count, pair] = context.norm_price[0] - context.norm_price[1] \n",
    "            #Check if it's not 0 bar of trading (it is the bar when we form our pairs_universe)\n",
    "            if context.tp_count>0:\n",
    "                #we explicitly assign current position as previous\n",
    "                context.pos.loc[context.tp_count, [pair]] = context.pos.loc[context.tp_count-1, [pair]]\n",
    "                context.pos_ban.loc[context.tp_count, [pair]] = context.pos_ban.loc[context.tp_count-1, [pair]]\n",
    "                # then we start to manipulate with current positions if they comply with some conditions\n",
    "                \n",
    "                #if BAN\n",
    "                if type(context.pos_ban[pair].loc[context.tp_count])==str:\n",
    "                    if (context.pos_ban[pair].loc[context.tp_count]=='short' and \n",
    "                           context.dataset[pair].loc[context.tp_count] < context.std_open_mult*context.dataset[pair].loc['std']):\n",
    "                        context.pos_ban.loc[context.tp_count, pair] = np.nan\n",
    "                        print(context.i, 'unban of short: {}, {}'.format(pair[0], pair[1]))\n",
    "                    elif (context.pos_ban[pair].loc[context.tp_count]=='long' and \n",
    "                           context.dataset[pair].loc[context.tp_count] > -context.std_open_mult*context.dataset[pair].loc['std']):\n",
    "                        context.pos_ban.loc[context.tp_count, pair] = np.nan\n",
    "                        print(context.i, 'unban of long: {}, {}'.format(pair[0], pair[1]))\n",
    "                \n",
    "                #If NO POSITION:\n",
    "                if context.pos[pair].loc[context.tp_count] == 0 and pd.isnull(context.pos_ban[pair].loc[context.tp_count]):\n",
    "                    #SHORT SPREAD\n",
    "                    if (context.dataset[pair].loc[context.tp_count] > context.std_open_mult*context.dataset[pair].loc['std']):\n",
    "                        print(context.i, 'short {} long {}'.format(pair[0], pair[1]))\n",
    "                        context.pos.loc[context.tp_count, pair] = -1\n",
    "                    #LONG SPREAD    \n",
    "                    elif (context.dataset[pair].loc[context.tp_count] < -context.std_open_mult*context.dataset[pair].loc['std']):\n",
    "                        print(context.i, 'long {} short {}'.format(pair[0], pair[1]))\n",
    "                        context.pos.loc[context.tp_count, pair] = 1\n",
    "                #If SHORT POSITION:\n",
    "                if context.pos[pair].loc[context.tp_count] == -1:\n",
    "                    #TAKE PROFIT SHORT\n",
    "                    if context.dataset[pair].loc[context.tp_count] < context.std_close_mult*context.dataset[pair].loc['std']:\n",
    "                        print(context.i, 'take profit of short: {}, {}'.format(pair[0], pair[1])) \n",
    "                        context.pos.loc[context.tp_count, pair] = 0\n",
    "                    #STOP-LOSS SHORT\n",
    "                    elif context.dataset[pair].loc[context.tp_count] > context.std_sl_mult*context.dataset[pair].loc['std']:\n",
    "                        print(context.i, 'stop-loss of short: {}, {}'.format(pair[0], pair[1])) \n",
    "                        context.pos.loc[context.tp_count, pair] = 0\n",
    "                        context.pos_ban.loc[context.tp_count,pair] = 'short'\n",
    "                #If LONG POSITION:\n",
    "                if context.pos[pair].loc[context.tp_count] == 1:\n",
    "                    #TAKE PROFIT LONG\n",
    "                    if context.dataset[pair].loc[context.tp_count] > -context.std_close_mult*context.dataset[pair].loc['std']:\n",
    "                        print(context.i, 'take profit of long: {}, {}'.format(pair[0], pair[1])) \n",
    "                        context.pos.loc[context.tp_count,pair] = 0\n",
    "                    #STOP-LOSS LONG\n",
    "                    elif context.dataset[pair].loc[context.tp_count] < -context.std_sl_mult*context.dataset[pair].loc['std']:\n",
    "                        print(context.i, 'stop-loss of long: {}, {}'.format(pair[0], pair[1])) \n",
    "                        context.pos.loc[context.tp_count, pair] = 0\n",
    "                        context.pos_ban.loc[context.tp_count, pair] = 'long'\n",
    "\n",
    "        record(spread_dataset = context.full_dataset.loc[context.tp_count,:],\n",
    "                  std_dataset = context.full_dataset.loc['std',:],\n",
    "                      pos_dataset = context.pos.loc[context.tp_count,:],\n",
    "                          pos_ban_dataset = context.pos_ban.loc[context.tp_count,:],\n",
    "                              btc=data.current(symbol('btc_usd'), 'price'))\n",
    "#         display(context.tp_count, context.i, context.pos, context.pos_ban, context.dataset)\n",
    "\n",
    "    #ORDER LOGIC\n",
    "    if (context.tp_count>0 and \n",
    "            not context.pos.loc[context.tp_count].equals(context.pos.loc[context.tp_count-1]) and \n",
    "                context.i % context.minutes == 0):\n",
    "        #difference between current postitions and previous\n",
    "        difference = context.pos.loc[context.tp_count] - context.pos.loc[context.tp_count-1]\n",
    "        #we leave only changed positions\n",
    "        difference = difference[difference!=0]\n",
    "        for pair in difference.index:\n",
    "            #if we don't have to close previous open positions\n",
    "            if pd.isnull(context.transactions_open[pair].loc[0]):\n",
    "                # we write id of each opening position\n",
    "                context.transactions_open.loc[0,pair]  = order_percent(pair[0], (1/context.number_of_pairs)*difference[pair])\n",
    "                context.transactions_open.loc[1,pair]  = order_percent(pair[1], -(1/context.number_of_pairs)*difference[pair])\n",
    "            else:\n",
    "                # we want to close opened positions\n",
    "                order(pair[0], -float(context.blotter.orders[context.transactions_open[pair].loc[0]].amount))\n",
    "                order(pair[1], -float(context.blotter.orders[context.transactions_open[pair].loc[1]].amount))\n",
    "                context.transactions_open[pair] = np.nan\n",
    "                \n",
    "#             print(context.transactions_open[pair])\n",
    "#         display(context.i, data.current_dt, context.portfolio.positions)\n",
    "        # end trading at the end of TP:        \n",
    "    if context.tp_count == context.trading_period-1 and (context.i % context.minutes) == 0 and context.pairs_universe:\n",
    "#         context.close = data.history(context.coins_reduced,'close',bar_count=context.trading_period,frequency=context.frequency)\n",
    "#         #2)then we normalize them\n",
    "#         context.close_norm = context.close/context.close.iloc[0,:]\n",
    "#         #3)then we make all possible spreads\n",
    "#         context.pairs_spread = pd.DataFrame(index=context.close_norm.index)\n",
    "#         context.pairs_spread_dm = pd.DataFrame(index=['dm']) # dm is for distance measure\n",
    "#         for i,j in itertools.combinations(context.close_norm.columns,2):           \n",
    "#             context.pairs_spread[(i,j)] = context.close_norm[i] - context.close_norm[j]\n",
    "            #4) Compute measure of distance for each spread:\n",
    "#             context.pairs_spread_dm[(i,j)] = pd.Series(context.pairs_spread[(i,j)]**2).sum()\n",
    "#         for pair in context.pairs_universe:\n",
    "#             sec1 = pair[0].symbol.upper()\n",
    "#             sec2 = pair[1].symbol.upper()\n",
    "#             fig, ax = plt.subplots(3,1, figsize=(15,12)) \n",
    "#             ax[0].plot(context.close[pair[0]], 'r-', label=sec1)\n",
    "#             ax[0].plot(context.close[pair[1]], 'b-', label=sec2)\n",
    "#             ax[0].set_ylim([0,10])\n",
    "#             ax[0].title.set_text('Prices of 2 cointegrated securities')\n",
    "#             ax[0].legend(loc='best')\n",
    "#             ax[1].plot(context.close_norm[pair[0]], 'r-', label=sec1)\n",
    "#             ax[1].plot(context.close_norm[pair[1]], 'b-', label=sec2)\n",
    "#             ax[1].legend(loc='best')\n",
    "#             ax[1].set_ylim([0.8,1.2])\n",
    "#             ax[1].title.set_text('Normalized prices 2 cointegrated securities')\n",
    "#             ax[2].plot(context.pairs_spread[pair], label='Spread')\n",
    "#             ax[2].axhline(context.dataset[pair].loc['std'], color='r', linestyle='-.', label='Bounds')\n",
    "#             ax[2].axhline(-context.dataset[pair].loc['std'], color='r', linestyle='-.')\n",
    "#             ax[2].legend(loc='best') \n",
    "#             ax[2].title.set_text('Spread with upper and lower bounds')\n",
    "#             ax[2].set_ylim([-0.2,0.2])\n",
    "#             plt.subplots_adjust(hspace=0.4)\n",
    "#             ax[1,1].plot(context.pos[pair], label='Positions')\n",
    "#             ax[1,1].legend(loc='best') \n",
    "#             plt.show(fig)\n",
    "        context.pairs_universe = None\n",
    "#         print(context.i, 'End of trading period')\n",
    "#         display(context.tp_count, context.i, context.pos, context.pos_ban, context.dataset)\n",
    "#         display(context.blotter.orders)\n",
    "    \n",
    "def analyze(context=None, results=None):\n",
    "    pass\n",
    "\n",
    "\n",
    "# Get the universe for a given exchange and a given quote_currency market\n",
    "# Example: Poloniex BTC Market\n",
    "def universe_pt(context, now, past):\n",
    "    # get all the pairs for the given exchange\n",
    "    json_symbols = get_exchange_symbols(context.exchange)\n",
    "    df_universe = pd.DataFrame.from_dict(json_symbols).transpose()\n",
    "#     display(df_universe[df_universe['symbol'] == context.quote_currency])\n",
    "    df_universe['quote_currency'] = df_universe.apply(lambda row: row.symbol.split('_')[1],\n",
    "                                    axis=1)\n",
    "    df_universe['base_currency'] = df_universe.apply(lambda row: row.symbol.split('_')[0],\n",
    "                                   axis=1)\n",
    "    # Filter all the pairs to get only the ones for a given quote_currency\n",
    "    df_universe = df_universe[df_universe['quote_currency'] == context.quote_currency]\n",
    "    # Check if type of each row is pd.tslib.Timestamp, drop otherwise.\n",
    "    df_universe = df_universe[df_universe.end_minute.apply(isinstance, args=(pd.tslib.Timestamp,))]\n",
    "    df_universe = df_universe[df_universe.start_date.apply(isinstance, args=(pd.tslib.Timestamp,))]\n",
    "    df_universe = df_universe[df_universe.end_minute > now]\n",
    "    df_universe = df_universe[df_universe.start_date < past]\n",
    "    return df_universe.symbol.tolist()\n",
    "\n",
    "# Replace all NA, NAN or infinite values with its nearest value\n",
    "def fill(series):\n",
    "    if isinstance(series, pd.Series):\n",
    "        return series.replace([np.inf, -np.inf], np.nan).ffill().bfill()\n",
    "    elif isinstance(series, np.ndarray):\n",
    "        return pd.Series(series).replace(\n",
    "                     [np.inf, -np.inf], np.nan\n",
    "                    ).ffill().bfill().values\n",
    "    else:\n",
    "        return series\n",
    "\n",
    "\n",
    "if __name__ == '__main__':\n",
    "    start_date = pd.to_datetime('2018-04-20', utc=True)\n",
    "    end_date = pd.to_datetime('2019-05-01', utc=True)\n",
    "\n",
    "    performance = run_algorithm(start=start_date, end=end_date,\n",
    "                                capital_base=100.0,  # amount of quote_currency\n",
    "                                initialize=initialize,\n",
    "                                handle_data=handle_data,\n",
    "                                analyze=analyze,\n",
    "                                exchange_name='bitfinex',\n",
    "                                data_frequency='minute',\n",
    "                                quote_currency='usd',\n",
    "                                live=False,\n",
    "                                live_graph=False,\n",
    "                                algo_namespace='simple_universe')"
   ]
  },
  {
   "cell_type": "code",
   "execution_count": 463,
   "metadata": {},
   "outputs": [],
   "source": [
    "performance.to_pickle('/Users/vladimirbadlo/StatArb/Results/perf_5.18_5.19_G_fp200_tp40_np5_60_2_3_0.5')"
   ]
  },
  {
   "cell_type": "code",
   "execution_count": 495,
   "metadata": {
    "scrolled": true
   },
   "outputs": [],
   "source": [
    "performance1 = pd.read_pickle('/Users/vladimirbadlo/StatArb/Results/perf_5.18_5.19_C_fp200_tp40_np5_60_2_3_0.5')"
   ]
  },
  {
   "cell_type": "code",
   "execution_count": 500,
   "metadata": {},
   "outputs": [],
   "source": [
    "performance2 = pd.read_pickle('/Users/vladimirbadlo/StatArb/Results/perf_5.18_5.19_C_fp100_tp20_np5_60_2_3_0.5')"
   ]
  },
  {
   "cell_type": "code",
   "execution_count": 497,
   "metadata": {},
   "outputs": [],
   "source": [
    "performance3 = pd.read_pickle('/Users/vladimirbadlo/StatArb/Results/perf_5.18_5.19_C_fp500_tp100_np5_60_2_3_0.5')"
   ]
  },
  {
   "cell_type": "code",
   "execution_count": 498,
   "metadata": {},
   "outputs": [],
   "source": [
    "performance4 = pd.read_pickle('/Users/vladimirbadlo/StatArb/Results/perf_5.18_5.19_C_fp40_tp20_np5_60_2_3_0.5')"
   ]
  },
  {
   "cell_type": "code",
   "execution_count": 501,
   "metadata": {
    "scrolled": false
   },
   "outputs": [
    {
     "data": {
      "image/png": "[encoded data removed]",
      "text/plain": [
       "<Figure size 864x360 with 1 Axes>"
      ]
     },
     "metadata": {
      "needs_background": "light"
     },
     "output_type": "display_data"
    }
   ],
   "source": [
    "a = pd.date_range('2018-05-01 00:01:00+00:00','2018-05-04 00:01:00+00:00')\n",
    "ind = performance2.sortino.dropna().index\n",
    "ind = '2018-05-04 00:01:00+00:00'\n",
    "p_val_1 = performance1.portfolio_value.loc[ind:].resample('D', convention='start').last()\n",
    "p_val_2 = performance2.portfolio_value[ind:].resample('D', convention='start').last()\n",
    "p_val_3 = performance3.portfolio_value[ind:].resample('D', convention='start').last()\n",
    "p_val_4 = performance4.portfolio_value[ind:].resample('D', convention='start').last()\n",
    "figure = plt.figure(figsize=[12,5])\n",
    "plt.plot(p_val_4, label = \"FP 50 / TP 10\")\n",
    "plt.plot(p_val_2, label = \"FP 100 / TP 20\")\n",
    "plt.plot(p_val_1, label = \"FP 200 / TP 40\")\n",
    "plt.plot(p_val_3, label = \"FP 500 / TP 100\")\n",
    "\n",
    "plt.legend()\n",
    "plt.title('Pnl of Normalized distance approach with different FP and TP')\n",
    "plt.ylabel('Cumulative returns')\n",
    "plt.show()"
   ]
  },
  {
   "cell_type": "code",
   "execution_count": 502,
   "metadata": {},
   "outputs": [
    {
     "data": {
      "image/png": "[encoded data removed]",
      "text/plain": [
       "<Figure size 864x360 with 1 Axes>"
      ]
     },
     "metadata": {
      "needs_background": "light"
     },
     "output_type": "display_data"
    }
   ],
   "source": [
    "ind = '2018-05-01 00:01:00+00:00'\n",
    "p_val_1 = performance1.portfolio_value.resample('D', convention='start').last()\n",
    "p_val_2 = performance2.portfolio_value.resample('D', convention='start').last()\n",
    "p_val_3 = performance3.portfolio_value.resample('D', convention='start').last()\n",
    "p_val_4 = performance4.portfolio_value.resample('D', convention='start').last()\n",
    "combined = pd.concat([p_val_1,p_val_2,p_val_3,p_val_4], axis=1)\n",
    "combined = combined.loc[ind:,:].fillna(value=100)\n",
    "figure = plt.figure(figsize=[12,5])\n",
    "plt.plot(combined.iloc[:,3], label = \"FP 50 / TP 10\")\n",
    "plt.plot(combined.iloc[:,1], label = \"FP 100 / TP 20\")\n",
    "plt.plot(combined.iloc[:,0], label = \"FP 200 / TP 40\")\n",
    "plt.plot(combined.iloc[:,2], label = \"FP 500 / TP 100\")\n",
    "\n",
    "plt.legend()\n",
    "plt.title('Pnl of Cointegration approach with different FP and TP')\n",
    "plt.ylabel('Cumulative returns')\n",
    "plt.show()"
   ]
  },
  {
   "cell_type": "code",
   "execution_count": 503,
   "metadata": {},
   "outputs": [],
   "source": [
    "figure.savefig('/Users/vladimirbadlo/StatArb/plots/Sens/fptp_coint_new.png')"
   ]
  },
  {
   "cell_type": "code",
   "execution_count": 458,
   "metadata": {},
   "outputs": [],
   "source": [
    "figure.savefig('/Users/vladimirbadlo/StatArb/plots/Sens/fptp_norm.png')"
   ]
  },
  {
   "cell_type": "code",
   "execution_count": 519,
   "metadata": {},
   "outputs": [
    {
     "data": {
      "image/png": "[encoded data removed]",
      "text/plain": [
       "<Figure size 432x288 with 1 Axes>"
      ]
     },
     "metadata": {
      "needs_background": "light"
     },
     "output_type": "display_data"
    }
   ],
   "source": [
    "plt.figure()\n",
    "plt.plot(performance.beta)\n",
    "plt.title('Alpha of Log-Distance Approach on 05/18 - 05/19')\n",
    "plt.show()"
   ]
  },
  {
   "cell_type": "code",
   "execution_count": 362,
   "metadata": {},
   "outputs": [
    {
     "data": {
      "image/png": "[encoded data removed]",
      "text/plain": [
       "<Figure size 432x288 with 1 Axes>"
      ]
     },
     "metadata": {
      "needs_background": "light"
     },
     "output_type": "display_data"
    }
   ],
   "source": [
    "plt.figure()\n",
    "plt.plot(performance.sortino.iloc[10000:])\n",
    "plt.title('Sortino of Log-Distance Approach on 05/18 - 05/19')\n",
    "plt.show()"
   ]
  },
  {
   "cell_type": "code",
   "execution_count": 74,
   "metadata": {},
   "outputs": [
    {
     "data": {
      "image/png": "[encoded data removed]",
      "text/plain": [
       "<Figure size 432x288 with 1 Axes>"
      ]
     },
     "metadata": {
      "needs_background": "light"
     },
     "output_type": "display_data"
    }
   ],
   "source": [
    "plt.figure()\n",
    "plt.plot(performance.long_exposure)\n",
    "plt.title('Long exposure of Log-Distance Approach on 05/18 - 05/19')\n",
    "plt.show()"
   ]
  },
  {
   "cell_type": "code",
   "execution_count": 76,
   "metadata": {},
   "outputs": [
    {
     "data": {
      "image/png": "[encoded data removed]",
      "text/plain": [
       "<Figure size 432x288 with 1 Axes>"
      ]
     },
     "metadata": {
      "needs_background": "light"
     },
     "output_type": "display_data"
    }
   ],
   "source": [
    "plt.figure()\n",
    "plt.plot(performance.short_exposure)\n",
    "plt.title('Short exposure of Log-Distance Approach on 05/18 - 05/19')\n",
    "plt.show()"
   ]
  },
  {
   "cell_type": "code",
   "execution_count": 398,
   "metadata": {},
   "outputs": [
    {
     "data": {
      "image/png": "[encoded data removed]",
      "text/plain": [
       "<Figure size 432x288 with 1 Axes>"
      ]
     },
     "metadata": {
      "needs_background": "light"
     },
     "output_type": "display_data"
    }
   ],
   "source": [
    "plt.figure()\n",
    "plt.plot(performance.net_leverage)\n",
    "plt.title('Net leverage exposure of Log-Distance Approach on 05/18 - 05/19')\n",
    "plt.show()"
   ]
  },
  {
   "cell_type": "code",
   "execution_count": 85,
   "metadata": {},
   "outputs": [
    {
     "data": {
      "image/png": "[encoded data removed]",
      "text/plain": [
       "<Figure size 432x288 with 1 Axes>"
      ]
     },
     "metadata": {
      "needs_background": "light"
     },
     "output_type": "display_data"
    }
   ],
   "source": [
    "plt.figure()\n",
    "plt.plot(performance.algo_volatility)\n",
    "plt.title('Volatility of returns of Log-Distance Approach on 05/18 - 05/19')\n",
    "plt.show()"
   ]
  }
 ],
 "metadata": {
  "kernelspec": {
   "display_name": "Python 3",
   "language": "python",
   "name": "python3"
  },
  "language_info": {
   "codemirror_mode": {
    "name": "ipython",
    "version": 3
   },
   "file_extension": ".py",
   "mimetype": "text/x-python",
   "name": "python",
   "nbconvert_exporter": "python",
   "pygments_lexer": "ipython3",
   "version": "3.7.5"
  },
  "varInspector": {
   "cols": {
    "lenName": 16,
    "lenType": 16,
    "lenVar": 40
   },
   "kernels_config": {
    "python": {
     "delete_cmd_postfix": "",
     "delete_cmd_prefix": "del ",
     "library": "var_list.py",
     "varRefreshCmd": "print(var_dic_list())"
    },
    "r": {
     "delete_cmd_postfix": ") ",
     "delete_cmd_prefix": "rm(",
     "library": "var_list.r",
     "varRefreshCmd": "cat(var_dic_list()) "
    }
   },
   "oldHeight": 303,
   "position": {
    "height": "325px",
    "left": "1050px",
    "right": "20px",
    "top": "206px",
    "width": "357px"
   },
   "types_to_exclude": [
    "module",
    "function",
    "builtin_function_or_method",
    "instance",
    "_Feature"
   ],
   "varInspector_section_display": "block",
   "window_display": false
  }
 },
 "nbformat": 4,
 "nbformat_minor": 2
}
